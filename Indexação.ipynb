{
  "nbformat": 4,
  "nbformat_minor": 0,
  "metadata": {
    "colab": {
      "name": "Indexação.ipynb",
      "provenance": [],
      "authorship_tag": "ABX9TyPKXT5K8jXvVqMdK5CF0RdJ"
    },
    "kernelspec": {
      "name": "python3",
      "display_name": "Python 3"
    },
    "language_info": {
      "name": "python"
    }
  },
  "cells": [
    {
      "cell_type": "code",
      "execution_count": 8,
      "metadata": {
        "id": "aRr-HjT0lWCM"
      },
      "outputs": [],
      "source": [
        "import pandas as pd\n",
        "import numpy as np"
      ]
    },
    {
      "cell_type": "code",
      "source": [
        "v = [22, 55, 7, 9]\n",
        "\n",
        "v"
      ],
      "metadata": {
        "colab": {
          "base_uri": "https://localhost:8080/"
        },
        "id": "5n4fNn8plgTC",
        "outputId": "23ba1367-9666-4e2a-88d0-ca4183c109ec"
      },
      "execution_count": 9,
      "outputs": [
        {
          "output_type": "execute_result",
          "data": {
            "text/plain": [
              "[22, 55, 7, 9]"
            ]
          },
          "metadata": {},
          "execution_count": 9
        }
      ]
    },
    {
      "cell_type": "code",
      "source": [
        "v[2]"
      ],
      "metadata": {
        "colab": {
          "base_uri": "https://localhost:8080/"
        },
        "id": "l7EZVDx9FtHI",
        "outputId": "2e6db2e8-9537-499b-8af0-e65459e7e517"
      },
      "execution_count": 10,
      "outputs": [
        {
          "output_type": "execute_result",
          "data": {
            "text/plain": [
              "7"
            ]
          },
          "metadata": {},
          "execution_count": 10
        }
      ]
    },
    {
      "cell_type": "code",
      "source": [
        "v[0]"
      ],
      "metadata": {
        "colab": {
          "base_uri": "https://localhost:8080/"
        },
        "id": "sIy54irvFu0G",
        "outputId": "18a6e81d-af17-456f-90a3-7620b1d8940d"
      },
      "execution_count": 11,
      "outputs": [
        {
          "output_type": "execute_result",
          "data": {
            "text/plain": [
              "22"
            ]
          },
          "metadata": {},
          "execution_count": 11
        }
      ]
    },
    {
      "cell_type": "code",
      "source": [
        "v[-1]"
      ],
      "metadata": {
        "colab": {
          "base_uri": "https://localhost:8080/"
        },
        "id": "8g23W98kF1p7",
        "outputId": "abddc969-80f6-4de4-958d-378b7024bc39"
      },
      "execution_count": 12,
      "outputs": [
        {
          "output_type": "execute_result",
          "data": {
            "text/plain": [
              "9"
            ]
          },
          "metadata": {},
          "execution_count": 12
        }
      ]
    },
    {
      "cell_type": "code",
      "source": [
        "v[-2]"
      ],
      "metadata": {
        "colab": {
          "base_uri": "https://localhost:8080/"
        },
        "id": "oPTURQCSF-ks",
        "outputId": "bc5ef5d5-1b3b-43c4-f2f2-380cdf6bd2cd"
      },
      "execution_count": 13,
      "outputs": [
        {
          "output_type": "execute_result",
          "data": {
            "text/plain": [
              "7"
            ]
          },
          "metadata": {},
          "execution_count": 13
        }
      ]
    },
    {
      "cell_type": "code",
      "source": [
        "arrays = [[1, 1, 2, 2], ['Red', 'Blue', 'Red', 'Blue']]"
      ],
      "metadata": {
        "id": "aGOjH_F6GCWA"
      },
      "execution_count": 14,
      "outputs": []
    },
    {
      "cell_type": "code",
      "source": [
        "pd.MultiIndex.from_arrays(arrays, names = ('Number', 'Color'))"
      ],
      "metadata": {
        "colab": {
          "base_uri": "https://localhost:8080/"
        },
        "id": "4cwhI42bHicB",
        "outputId": "ef5a069c-0091-4a99-bf74-e60c56eb9144"
      },
      "execution_count": 18,
      "outputs": [
        {
          "output_type": "execute_result",
          "data": {
            "text/plain": [
              "MultiIndex([(1,  'Red'),\n",
              "            (1, 'Blue'),\n",
              "            (2,  'Red'),\n",
              "            (2, 'Blue')],\n",
              "           names=['Number', 'Color'])"
            ]
          },
          "metadata": {},
          "execution_count": 18
        }
      ]
    },
    {
      "cell_type": "code",
      "source": [
        "# Produto Cartesiano"
      ],
      "metadata": {
        "id": "LTCmtgh0HwRa"
      },
      "execution_count": 19,
      "outputs": []
    },
    {
      "cell_type": "code",
      "source": [
        "numbers = [0, 1, 2]\n",
        "colors = ['Green', 'Purple']"
      ],
      "metadata": {
        "id": "uV5-ik88LmL8"
      },
      "execution_count": 20,
      "outputs": []
    },
    {
      "cell_type": "code",
      "source": [
        "pd.MultiIndex.from_product([numbers, colors], names = ['Number', 'Color'])"
      ],
      "metadata": {
        "colab": {
          "base_uri": "https://localhost:8080/"
        },
        "id": "IwKUAC-gMHa5",
        "outputId": "3cdfa049-5ed5-4a3c-ed9a-1bbfb1383105"
      },
      "execution_count": 21,
      "outputs": [
        {
          "output_type": "execute_result",
          "data": {
            "text/plain": [
              "MultiIndex([(0,  'Green'),\n",
              "            (0, 'Purple'),\n",
              "            (1,  'Green'),\n",
              "            (1, 'Purple'),\n",
              "            (2,  'Green'),\n",
              "            (2, 'Purple')],\n",
              "           names=['Number', 'Color'])"
            ]
          },
          "metadata": {},
          "execution_count": 21
        }
      ]
    },
    {
      "cell_type": "code",
      "source": [
        ""
      ],
      "metadata": {
        "id": "amyMB3frMjcq"
      },
      "execution_count": null,
      "outputs": []
    }
  ]
}