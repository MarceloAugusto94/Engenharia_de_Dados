{
  "nbformat": 4,
  "nbformat_minor": 0,
  "metadata": {
    "colab": {
      "name": "01- Programação Python para Dados.ipynb",
      "provenance": [],
      "collapsed_sections": [],
      "authorship_tag": "ABX9TyOP1cJASEZ5fZX29C67uM3H"
    },
    "kernelspec": {
      "name": "python3",
      "display_name": "Python 3"
    },
    "language_info": {
      "name": "python"
    }
  },
  "cells": [
    {
      "cell_type": "code",
      "execution_count": null,
      "metadata": {
        "colab": {
          "base_uri": "https://localhost:8080/"
        },
        "id": "-d9BGJxqxVWA",
        "outputId": "44b93d16-3622-44c1-f769-8325bb97ea66"
      },
      "outputs": [
        {
          "output_type": "stream",
          "name": "stdout",
          "text": [
            "Hello World!\n"
          ]
        }
      ],
      "source": [
        "print('Hello World!')"
      ]
    },
    {
      "cell_type": "code",
      "source": [
        "print('Bem-vindo ao curso de Python!')"
      ],
      "metadata": {
        "colab": {
          "base_uri": "https://localhost:8080/"
        },
        "id": "jHoak8b4xgMk",
        "outputId": "d4ae667f-b44a-4ddf-bb91-5277bcc53c32"
      },
      "execution_count": null,
      "outputs": [
        {
          "output_type": "stream",
          "name": "stdout",
          "text": [
            "Bem-vindo ao curso de Python!\n"
          ]
        }
      ]
    },
    {
      "cell_type": "code",
      "source": [
        "# Comentário"
      ],
      "metadata": {
        "id": "_tTSA_evxikV"
      },
      "execution_count": null,
      "outputs": []
    },
    {
      "cell_type": "code",
      "source": [
        "'''\n",
        "  Comentário!!!\n",
        "  Posso escrever qualquer coisa!\n",
        "'''"
      ],
      "metadata": {
        "colab": {
          "base_uri": "https://localhost:8080/",
          "height": 35
        },
        "id": "B5z-5xkSxnr5",
        "outputId": "88472bc2-69af-4afe-bafa-7570140b593c"
      },
      "execution_count": null,
      "outputs": [
        {
          "output_type": "execute_result",
          "data": {
            "text/plain": [
              "'\\n  Comentário!!!\\n  Posso escrever qualquer coisa!\\n'"
            ],
            "application/vnd.google.colaboratory.intrinsic+json": {
              "type": "string"
            }
          },
          "metadata": {},
          "execution_count": 5
        }
      ]
    },
    {
      "cell_type": "code",
      "source": [
        "print('Hello World!  \\nskipped a line')"
      ],
      "metadata": {
        "colab": {
          "base_uri": "https://localhost:8080/"
        },
        "id": "G0w4sM7fx_Sx",
        "outputId": "8016dd4c-1d01-4c6b-a439-d9d512569521"
      },
      "execution_count": null,
      "outputs": [
        {
          "output_type": "stream",
          "name": "stdout",
          "text": [
            "Hello World!  \n",
            "skipped a line\n"
          ]
        }
      ]
    },
    {
      "cell_type": "markdown",
      "source": [
        "**OPERADORES MATEMÁTICOS**"
      ],
      "metadata": {
        "id": "p5Ie4Ob4yr07"
      }
    },
    {
      "cell_type": "code",
      "source": [
        "# Adição\n",
        "\n",
        "1 + 3 + 4"
      ],
      "metadata": {
        "colab": {
          "base_uri": "https://localhost:8080/"
        },
        "id": "WMeNKTwcy0fk",
        "outputId": "97abbcb6-a514-4395-815c-d460e9c0712f"
      },
      "execution_count": null,
      "outputs": [
        {
          "output_type": "execute_result",
          "data": {
            "text/plain": [
              "8"
            ]
          },
          "metadata": {},
          "execution_count": 7
        }
      ]
    },
    {
      "cell_type": "code",
      "source": [
        "# Subtração\n",
        "\n",
        "4 - 4"
      ],
      "metadata": {
        "colab": {
          "base_uri": "https://localhost:8080/"
        },
        "id": "DVS02iAfy935",
        "outputId": "a0cb577d-6b89-4e00-af3a-159f3109ca1a"
      },
      "execution_count": null,
      "outputs": [
        {
          "output_type": "execute_result",
          "data": {
            "text/plain": [
              "0"
            ]
          },
          "metadata": {},
          "execution_count": 8
        }
      ]
    },
    {
      "cell_type": "code",
      "source": [
        "# Multiplicação\n",
        "\n",
        "4 * 4"
      ],
      "metadata": {
        "colab": {
          "base_uri": "https://localhost:8080/"
        },
        "id": "Jd8Jo93OzC8V",
        "outputId": "ce91ee3d-5e09-4911-e55b-f6dc524e4bf3"
      },
      "execution_count": null,
      "outputs": [
        {
          "output_type": "execute_result",
          "data": {
            "text/plain": [
              "16"
            ]
          },
          "metadata": {},
          "execution_count": 9
        }
      ]
    },
    {
      "cell_type": "code",
      "source": [
        "# Divisão\n",
        "\n",
        "4 / 4"
      ],
      "metadata": {
        "colab": {
          "base_uri": "https://localhost:8080/"
        },
        "id": "lmtAyPvWzO61",
        "outputId": "830d2c3c-910d-4b2c-f24f-7babfede5976"
      },
      "execution_count": null,
      "outputs": [
        {
          "output_type": "execute_result",
          "data": {
            "text/plain": [
              "1.0"
            ]
          },
          "metadata": {},
          "execution_count": 10
        }
      ]
    },
    {
      "cell_type": "code",
      "source": [
        "# Exponenciação\n",
        "\n",
        "2 ** 2"
      ],
      "metadata": {
        "colab": {
          "base_uri": "https://localhost:8080/"
        },
        "id": "pfyouY4MzTMF",
        "outputId": "c16e8494-0757-4a20-aecb-908664606aba"
      },
      "execution_count": null,
      "outputs": [
        {
          "output_type": "execute_result",
          "data": {
            "text/plain": [
              "4"
            ]
          },
          "metadata": {},
          "execution_count": 11
        }
      ]
    },
    {
      "cell_type": "code",
      "source": [
        "# Resto da divisão\n",
        "\n",
        "3 % 4"
      ],
      "metadata": {
        "colab": {
          "base_uri": "https://localhost:8080/"
        },
        "id": "NkBSsVW2zfPo",
        "outputId": "f2598931-bc93-479b-e2e5-972a706c48a0"
      },
      "execution_count": null,
      "outputs": [
        {
          "output_type": "execute_result",
          "data": {
            "text/plain": [
              "3"
            ]
          },
          "metadata": {},
          "execution_count": 12
        }
      ]
    },
    {
      "cell_type": "code",
      "source": [
        "# Divisão de chão\n",
        "\n",
        "3 // 4"
      ],
      "metadata": {
        "colab": {
          "base_uri": "https://localhost:8080/"
        },
        "id": "mJZ0kzeX0FGQ",
        "outputId": "a9fc556b-b501-4dc2-ac31-a0f4006e3e27"
      },
      "execution_count": null,
      "outputs": [
        {
          "output_type": "execute_result",
          "data": {
            "text/plain": [
              "0"
            ]
          },
          "metadata": {},
          "execution_count": 13
        }
      ]
    },
    {
      "cell_type": "code",
      "source": [
        "# Priorização = usar parênteses\n",
        "\n",
        "(2 + 2) * 5"
      ],
      "metadata": {
        "colab": {
          "base_uri": "https://localhost:8080/"
        },
        "id": "y2G3T6940Tss",
        "outputId": "34a8abd7-f02d-4018-86cb-cc5cac9eaa06"
      },
      "execution_count": null,
      "outputs": [
        {
          "output_type": "execute_result",
          "data": {
            "text/plain": [
              "20"
            ]
          },
          "metadata": {},
          "execution_count": 14
        }
      ]
    },
    {
      "cell_type": "markdown",
      "source": [
        "**VARIÁVEIS**"
      ],
      "metadata": {
        "id": "fDSrHVal07KA"
      }
    },
    {
      "cell_type": "code",
      "source": [
        "nome = 'Marcelo Augusto Viana Henrique'"
      ],
      "metadata": {
        "id": "xVx0xwbh0_EB"
      },
      "execution_count": null,
      "outputs": []
    },
    {
      "cell_type": "code",
      "source": [
        "print(nome)"
      ],
      "metadata": {
        "colab": {
          "base_uri": "https://localhost:8080/"
        },
        "id": "ptz1bN3m1Igb",
        "outputId": "27ba60a0-e70b-4c5a-ff93-6b6ddbd6db81"
      },
      "execution_count": null,
      "outputs": [
        {
          "output_type": "stream",
          "name": "stdout",
          "text": [
            "Marcelo Augusto Viana Henrique\n"
          ]
        }
      ]
    },
    {
      "cell_type": "code",
      "source": [
        "# Variáveis de texto\n",
        "\n",
        "var_texto  = 'Qualquer coisa'\n",
        "var_texto_2 = str('Qualquer coisa')\n",
        "\n",
        "print(var_texto)\n",
        "print(var_texto_2)\n",
        "print(var_texto, var_texto_2)"
      ],
      "metadata": {
        "colab": {
          "base_uri": "https://localhost:8080/"
        },
        "id": "XZi4fOh9KzMe",
        "outputId": "68e1d101-cde8-4c1f-a4fa-33176fc604bf"
      },
      "execution_count": null,
      "outputs": [
        {
          "output_type": "stream",
          "name": "stdout",
          "text": [
            "Qualquer coisa\n",
            "Qualquer coisa\n",
            "Qualquer coisa Qualquer coisa\n"
          ]
        }
      ]
    },
    {
      "cell_type": "code",
      "source": [
        "# Variáveis numéricas\n",
        "\n",
        "var_inteiro = 100\n",
        "var_inteiro_02 = int(100)\n",
        "\n",
        "print(var_inteiro)\n",
        "print(var_inteiro_02)\n",
        "print(var_inteiro, var_inteiro_02)"
      ],
      "metadata": {
        "colab": {
          "base_uri": "https://localhost:8080/"
        },
        "id": "4KihWLD_Lmle",
        "outputId": "9b25353a-6f0a-4867-b783-8d59d1a7b1ed"
      },
      "execution_count": null,
      "outputs": [
        {
          "output_type": "stream",
          "name": "stdout",
          "text": [
            "100\n",
            "100\n",
            "100 100\n"
          ]
        }
      ]
    },
    {
      "cell_type": "code",
      "source": [
        "# Variáveis flutuantes\n",
        "\n",
        "var_flutuante = 10.90\n",
        "var_flutuante_2 = float(10.90)\n",
        "\n",
        "print(var_flutuante)\n",
        "print(var_flutuante_2)\n",
        "print(var_flutuante, var_flutuante_2)"
      ],
      "metadata": {
        "colab": {
          "base_uri": "https://localhost:8080/"
        },
        "id": "S9JiCC4fL8eW",
        "outputId": "7a5f26ed-be4d-485c-e7f0-9cf324d40d69"
      },
      "execution_count": null,
      "outputs": [
        {
          "output_type": "stream",
          "name": "stdout",
          "text": [
            "10.9\n",
            "10.9\n",
            "10.9 10.9\n"
          ]
        }
      ]
    },
    {
      "cell_type": "code",
      "source": [
        "# Variáveis booleanas\n",
        "\n",
        "var_booleana = True\n",
        "var_booleana_2 = False\n",
        "\n",
        "print(var_booleana)\n",
        "print(var_booleana_2)\n",
        "print(var_booleana, var_booleana_2)"
      ],
      "metadata": {
        "colab": {
          "base_uri": "https://localhost:8080/"
        },
        "id": "7DvlQs21MTQV",
        "outputId": "945f0819-8553-4e64-8587-dd1277e7cd66"
      },
      "execution_count": null,
      "outputs": [
        {
          "output_type": "stream",
          "name": "stdout",
          "text": [
            "True\n",
            "False\n",
            "True False\n"
          ]
        }
      ]
    },
    {
      "cell_type": "markdown",
      "source": [
        "**TIPOS DE DADOS**\n",
        "\n",
        "1. Listas - São criadas usando [] (**chaves**)\n",
        "2. Tuplas - São criadas usando () (**parenteses**)\n",
        "3. Dicionários - São criados usando {} (**Colchete**)\n",
        "\n",
        "Esses tipos de dados podem receber qualquer tipo de informação, inclusive Operações Aritméticas."
      ],
      "metadata": {
        "id": "RFm_3G6yv2RZ"
      }
    },
    {
      "cell_type": "code",
      "source": [
        "# Listas\n",
        "exemplo_01 = [1, 2, 3, 4, 5, 6, 7, 8]\n",
        "exemplo_02 = [\"Nome\", \"Sobrenome\", \"Idade\", 4, 5]\n",
        "exemplo_03 = [1, \"Texto\", True, [1, 2, 3]]\n",
        "\n",
        "print(exemplo_01) \n",
        "print(exemplo_02)\n",
        "print(exemplo_03)"
      ],
      "metadata": {
        "id": "u7ZluNvPv6s1",
        "colab": {
          "base_uri": "https://localhost:8080/"
        },
        "outputId": "5a616f17-6270-4539-f255-09cb41dcd455"
      },
      "execution_count": null,
      "outputs": [
        {
          "output_type": "stream",
          "name": "stdout",
          "text": [
            "[1, 2, 3, 4, 5, 6, 7, 8]\n",
            "['Nome', 'Sobrenome', 'Idade', 4, 5]\n",
            "[1, 'Texto', True, [1, 2, 3]]\n"
          ]
        }
      ]
    },
    {
      "cell_type": "code",
      "source": [
        "# Tuplas (São IMUTÁVEIS)\n",
        "exemplo_01 = (1, 2, 3, 4, 5)\n",
        "exemplo_02 = (\"Texto\", True, 2, 2.90)\n",
        "\n",
        "print(exemplo_01)\n",
        "print(exemplo_02)"
      ],
      "metadata": {
        "colab": {
          "base_uri": "https://localhost:8080/"
        },
        "id": "rNojDVEW63DT",
        "outputId": "c9e6565e-17ef-4810-b687-386e698c4560"
      },
      "execution_count": null,
      "outputs": [
        {
          "output_type": "stream",
          "name": "stdout",
          "text": [
            "(1, 2, 3, 4, 5)\n",
            "('Texto', True, 2, 2.9)\n"
          ]
        }
      ]
    },
    {
      "cell_type": "code",
      "source": [
        "# Dicionários (Chave + Valor)\n",
        "exemplo_01 = {\n",
        "    'index': 'valor',\n",
        "    'id': 1,\n",
        "    'nome': 'Marcelo',\n",
        "    'lista': exemplo_03,\n",
        "    'tupla': exemplo_02\n",
        "}\n",
        "\n",
        "print(exemplo_01)"
      ],
      "metadata": {
        "colab": {
          "base_uri": "https://localhost:8080/"
        },
        "id": "DE1HeFkq82PV",
        "outputId": "c4b3d0fd-76a7-4ecb-bb92-ded59b4757f8"
      },
      "execution_count": null,
      "outputs": [
        {
          "output_type": "stream",
          "name": "stdout",
          "text": [
            "{'index': 'valor', 'id': 1, 'nome': 'Marcelo', 'lista': [1, 'Texto', True, [1, 2, 3]], 'tupla': ('Texto', True, 2, 2.9)}\n"
          ]
        }
      ]
    },
    {
      "cell_type": "markdown",
      "source": [
        "**NOMEAÇÃO DE VARIÁVEIS**\n",
        "\n",
        "Podemos nomear variáveis e tipos de dados de diversas formas:\n",
        "\n",
        "1. Declarar as variáveis em uma única linha de comando;\n",
        "2. Atribuir um valor à diversas variáveis;\n",
        "3. Declarar usando uma lista;\n",
        "4. Combinar variáveis;\n",
        "5. Operar com operadores matemáticos;\n",
        "6. Muitos outros."
      ],
      "metadata": {
        "id": "iLP3y2RYSE6q"
      }
    },
    {
      "cell_type": "code",
      "source": [
        "# Nomeando\n",
        "\n",
        "laranja, melao, limao = 1, 2, 3\n",
        "\n",
        "print(laranja, melao, limao)"
      ],
      "metadata": {
        "colab": {
          "base_uri": "https://localhost:8080/"
        },
        "id": "tXIxFZo0SCt_",
        "outputId": "679e5dbd-e770-487c-c64e-95c2f6fa16e7"
      },
      "execution_count": null,
      "outputs": [
        {
          "output_type": "stream",
          "name": "stdout",
          "text": [
            "1 2 3\n"
          ]
        }
      ]
    },
    {
      "cell_type": "code",
      "source": [
        "# Nomeando\n",
        "\n",
        "morango = uva = kiwi = 100\n",
        "\n",
        "print(morango, uva, kiwi)\n",
        "print(morango)"
      ],
      "metadata": {
        "colab": {
          "base_uri": "https://localhost:8080/"
        },
        "id": "BHZBztj8oOqL",
        "outputId": "4049bcad-b988-421e-8513-8c7352ce2d5d"
      },
      "execution_count": null,
      "outputs": [
        {
          "output_type": "stream",
          "name": "stdout",
          "text": [
            "100 100 100\n",
            "100\n"
          ]
        }
      ]
    },
    {
      "cell_type": "code",
      "source": [
        "# Nomear com Listas\n",
        "\n",
        "lista_carros = ['VW', 'Audi', 'Tesla']\n",
        "\n",
        "marca_01, marca_02, marca_03 = lista_carros\n",
        "\n",
        "print(marca_01, marca_02, marca_03)\n",
        "print(marca_01)"
      ],
      "metadata": {
        "colab": {
          "base_uri": "https://localhost:8080/"
        },
        "id": "gLGh-P4AoxU2",
        "outputId": "d78e8d28-c5f3-4e5a-ca34-865f4f386e0d"
      },
      "execution_count": null,
      "outputs": [
        {
          "output_type": "stream",
          "name": "stdout",
          "text": [
            "VW Audi Tesla\n",
            "VW\n"
          ]
        }
      ]
    },
    {
      "cell_type": "code",
      "source": [
        "# Combinar variáveis\n",
        "\n",
        "nome = 'Marcelo'\n",
        "sobrenome = 'Augusto'\n",
        "\n",
        "nome_completo = nome + ' ' + sobrenome\n",
        "\n",
        "print(nome_completo)"
      ],
      "metadata": {
        "colab": {
          "base_uri": "https://localhost:8080/"
        },
        "id": "AgJEoBeQpQnd",
        "outputId": "f2c1681d-5073-4e31-e2eb-3efda263eedf"
      },
      "execution_count": null,
      "outputs": [
        {
          "output_type": "stream",
          "name": "stdout",
          "text": [
            "Marcelo Augusto\n"
          ]
        }
      ]
    },
    {
      "cell_type": "code",
      "source": [
        "# TypeError: can only concatenate str (not \"int\") to str\n",
        "\n",
        "nome = 'Marcelo'\n",
        "idade = 28\n",
        "\n",
        "print(nome + '-' + idade)"
      ],
      "metadata": {
        "colab": {
          "base_uri": "https://localhost:8080/",
          "height": 199
        },
        "id": "cRogmZNwp_MS",
        "outputId": "f21585cb-ac14-4872-a389-c302e47ff7cf"
      },
      "execution_count": null,
      "outputs": [
        {
          "output_type": "error",
          "ename": "TypeError",
          "evalue": "ignored",
          "traceback": [
            "\u001b[0;31m---------------------------------------------------------------------------\u001b[0m",
            "\u001b[0;31mTypeError\u001b[0m                                 Traceback (most recent call last)",
            "\u001b[0;32m<ipython-input-28-681a9cbcb566>\u001b[0m in \u001b[0;36m<module>\u001b[0;34m()\u001b[0m\n\u001b[1;32m      4\u001b[0m \u001b[0midade\u001b[0m \u001b[0;34m=\u001b[0m \u001b[0;36m28\u001b[0m\u001b[0;34m\u001b[0m\u001b[0;34m\u001b[0m\u001b[0m\n\u001b[1;32m      5\u001b[0m \u001b[0;34m\u001b[0m\u001b[0m\n\u001b[0;32m----> 6\u001b[0;31m \u001b[0mprint\u001b[0m\u001b[0;34m(\u001b[0m\u001b[0mnome\u001b[0m \u001b[0;34m+\u001b[0m \u001b[0;34m'-'\u001b[0m \u001b[0;34m+\u001b[0m \u001b[0midade\u001b[0m\u001b[0;34m)\u001b[0m\u001b[0;34m\u001b[0m\u001b[0;34m\u001b[0m\u001b[0m\n\u001b[0m",
            "\u001b[0;31mTypeError\u001b[0m: can only concatenate str (not \"int\") to str"
          ]
        }
      ]
    },
    {
      "cell_type": "code",
      "source": [
        "# Forma correta de executar a aglutinação acima\n",
        "\n",
        "nome = 'Marcelo'\n",
        "idade = 28\n",
        "\n",
        "print(nome + ' ' + str(idade) + ' anos')"
      ],
      "metadata": {
        "colab": {
          "base_uri": "https://localhost:8080/"
        },
        "id": "Cp89HbT5qR6R",
        "outputId": "25d14672-e32d-47e7-f696-524eb950e23a"
      },
      "execution_count": null,
      "outputs": [
        {
          "output_type": "stream",
          "name": "stdout",
          "text": [
            "Marcelo 28 anos\n"
          ]
        }
      ]
    },
    {
      "cell_type": "code",
      "source": [
        "# Exemplo\n",
        "# Forma INCORRETA de executar o cálculo matemático, pois repetirá o '0.20' MIL vezes\n",
        "\n",
        "investimento = 1000\n",
        "taxa_juros = '0.2'\n",
        "\n",
        "print(investimento * taxa_juros)"
      ],
      "metadata": {
        "colab": {
          "base_uri": "https://localhost:8080/"
        },
        "id": "GG2JLBYRqbnq",
        "outputId": "6f696396-7e78-4dfe-f0ea-6f6f2cd56181"
      },
      "execution_count": null,
      "outputs": [
        {
          "output_type": "stream",
          "name": "stdout",
          "text": [
            "0.20.20.20.20.20.20.20.20.20.20.20.20.20.20.20.20.20.20.20.20.20.20.20.20.20.20.20.20.20.20.20.20.20.20.20.20.20.20.20.20.20.20.20.20.20.20.20.20.20.20.20.20.20.20.20.20.20.20.20.20.20.20.20.20.20.20.20.20.20.20.20.20.20.20.20.20.20.20.20.20.20.20.20.20.20.20.20.20.20.20.20.20.20.20.20.20.20.20.20.20.20.20.20.20.20.20.20.20.20.20.20.20.20.20.20.20.20.20.20.20.20.20.20.20.20.20.20.20.20.20.20.20.20.20.20.20.20.20.20.20.20.20.20.20.20.20.20.20.20.20.20.20.20.20.20.20.20.20.20.20.20.20.20.20.20.20.20.20.20.20.20.20.20.20.20.20.20.20.20.20.20.20.20.20.20.20.20.20.20.20.20.20.20.20.20.20.20.20.20.20.20.20.20.20.20.20.20.20.20.20.20.20.20.20.20.20.20.20.20.20.20.20.20.20.20.20.20.20.20.20.20.20.20.20.20.20.20.20.20.20.20.20.20.20.20.20.20.20.20.20.20.20.20.20.20.20.20.20.20.20.20.20.20.20.20.20.20.20.20.20.20.20.20.20.20.20.20.20.20.20.20.20.20.20.20.20.20.20.20.20.20.20.20.20.20.20.20.20.20.20.20.20.20.20.20.20.20.20.20.20.20.20.20.20.20.20.20.20.20.20.20.20.20.20.20.20.20.20.20.20.20.20.20.20.20.20.20.20.20.20.20.20.20.20.20.20.20.20.20.20.20.20.20.20.20.20.20.20.20.20.20.20.20.20.20.20.20.20.20.20.20.20.20.20.20.20.20.20.20.20.20.20.20.20.20.20.20.20.20.20.20.20.20.20.20.20.20.20.20.20.20.20.20.20.20.20.20.20.20.20.20.20.20.20.20.20.20.20.20.20.20.20.20.20.20.20.20.20.20.20.20.20.20.20.20.20.20.20.20.20.20.20.20.20.20.20.20.20.20.20.20.20.20.20.20.20.20.20.20.20.20.20.20.20.20.20.20.20.20.20.20.20.20.20.20.20.20.20.20.20.20.20.20.20.20.20.20.20.20.20.20.20.20.20.20.20.20.20.20.20.20.20.20.20.20.20.20.20.20.20.20.20.20.20.20.20.20.20.20.20.20.20.20.20.20.20.20.20.20.20.20.20.20.20.20.20.20.20.20.20.20.20.20.20.20.20.20.20.20.20.20.20.20.20.20.20.20.20.20.20.20.20.20.20.20.20.20.20.20.20.20.20.20.20.20.20.20.20.20.20.20.20.20.20.20.20.20.20.20.20.20.20.20.20.20.20.20.20.20.20.20.20.20.20.20.20.20.20.20.20.20.20.20.20.20.20.20.20.20.20.20.20.20.20.20.20.20.20.20.20.20.20.20.20.20.20.20.20.20.20.20.20.20.20.20.20.20.20.20.20.20.20.20.20.20.20.20.20.20.20.20.20.20.20.20.20.20.20.20.20.20.20.20.20.20.20.20.20.20.20.20.20.20.20.20.20.20.20.20.20.20.20.20.20.20.20.20.20.20.20.20.20.20.20.20.20.20.20.20.20.20.20.20.20.20.20.20.20.20.20.20.20.20.20.20.20.20.20.20.20.20.20.20.20.20.20.20.20.20.20.20.20.20.20.20.20.20.20.20.20.20.20.20.20.20.20.20.20.20.20.20.20.20.20.20.20.20.20.20.20.20.20.20.20.20.20.20.20.20.20.20.20.20.20.20.20.20.20.20.20.20.20.20.20.20.20.20.20.20.20.20.20.20.20.20.20.20.20.20.20.20.20.20.20.20.20.20.20.20.20.20.20.20.20.20.20.20.20.20.20.20.20.20.20.20.20.20.20.20.20.20.20.20.20.20.20.20.20.20.20.20.20.20.20.20.20.20.20.20.20.20.20.20.20.20.20.20.20.20.20.20.20.20.20.20.20.20.20.20.20.20.20.20.20.20.20.20.20.20.20.20.20.20.20.20.20.20.20.20.20.20.20.20.20.20.20.20.20.20.20.20.20.20.20.20.20.20.20.20.20.20.20.20.20.20.20.20.20.20.20.20.20.20.20.20.20.20.20.20.20.20.20.20.20.20.20.20.20.20.20.20.20.20.20.20.20.20.20.20.20.20.20.20.20.20.20.20.20.20.20.20.20.20.20.20.20.20.20.20.20.20.20.20.20.20.20.20.20.20.20.20.20.20.20.20.20.20.20.20.2\n"
          ]
        }
      ]
    },
    {
      "cell_type": "code",
      "source": [
        "# Formas CORRETAs de executar o cálculo matemático\n",
        "\n",
        "investimento = 1000\n",
        "taxa_juros = float(0.2)\n",
        "\n",
        "print(investimento * taxa_juros)\n",
        "\n",
        "# OU\n",
        "\n",
        "investimento = 1000\n",
        "taxa_juros = 0.2\n",
        "\n",
        "print(investimento * float(taxa_juros))\n",
        "\n",
        "# OU\n",
        "\n",
        "investimento = 1000\n",
        "taxa_juros = 0.2\n",
        "\n",
        "print(investimento * taxa_juros)"
      ],
      "metadata": {
        "colab": {
          "base_uri": "https://localhost:8080/"
        },
        "id": "Uxtic34drumo",
        "outputId": "a96160a4-4ee0-40c0-9ee8-0e2a43907d21"
      },
      "execution_count": null,
      "outputs": [
        {
          "output_type": "stream",
          "name": "stdout",
          "text": [
            "200.0\n",
            "200.0\n",
            "200.0\n"
          ]
        }
      ]
    },
    {
      "cell_type": "code",
      "source": [
        "valor_ganhado = (investimento * taxa_juros) + investimento\n",
        "\n",
        "print(valor_ganhado)"
      ],
      "metadata": {
        "colab": {
          "base_uri": "https://localhost:8080/"
        },
        "id": "bem84uNAsSLG",
        "outputId": "6fd439d5-e6da-47ea-b572-7420c3322e14"
      },
      "execution_count": null,
      "outputs": [
        {
          "output_type": "stream",
          "name": "stdout",
          "text": [
            "1200.0\n"
          ]
        }
      ]
    },
    {
      "cell_type": "markdown",
      "source": [
        "**TIPO DA INFORMAÇÃO**\n",
        "\n",
        "Na programação, o tipo de dados é um conceito importante. Variáveis podem armazenar dados de diferentes tipos e diferentes tipos podem fazer coisas diferentes. O Python tem os seguintes tipos de dados integrados por padrão nestas categorias:\n",
        "\n",
        "1. Text Type: str\n",
        "2. Numeric Types: int, float, complex\n",
        "3. Sequence Types: list, tuple, range\n",
        "4. Mapping Types: dict\n",
        "5. Set Types: set, frozenset\n",
        "6. Boolean Types: bool\n",
        "7. Binary Types: bytes, bytearray, memoryview"
      ],
      "metadata": {
        "id": "8DflSFA5s5OQ"
      }
    },
    {
      "cell_type": "code",
      "source": [
        "String = str('Hello World')\n",
        "Inteiro = int(10)\n",
        "Flutuante = float(100.5)\n",
        "Complex = complex(1j)\n",
        "Lista = list(('Maça', 'Morango'))\n",
        "Tupla = tuple(('A', 'B'))\n",
        "Range = range(6)\n",
        "Dicionario = dict(nome='Marcelo', idade=28)\n",
        "Set = set(('A', 'B', 'C'))\n",
        "Frozenset = frozenset(('A', 'B', 'C'))\n",
        "Boleano = bool(5)\n",
        "Bytes = bytes(5)\n",
        "ByteArray =bytearray(5)\n",
        "MemoryView = memoryview(bytes(5))\n",
        "\n",
        "from datetime import datetime\n",
        "\n",
        "data = datetime.today().date()"
      ],
      "metadata": {
        "id": "-wy7skCvuce6"
      },
      "execution_count": null,
      "outputs": []
    },
    {
      "cell_type": "markdown",
      "source": [
        "**COMANDO ROUND**\n",
        "\n",
        "Quando trabalhamos com números flutuantes, podemos diminuir o número de casas decimais e arredondar para o valor mais próximo usando um comando nativo do Python.\n",
        "\n",
        "round(valor, número de casas)"
      ],
      "metadata": {
        "id": "4oafbiqjy-SC"
      }
    },
    {
      "cell_type": "code",
      "source": [
        "valor = 12.78994656555\n",
        "\n",
        "print(valor)\n",
        "\n",
        "\n",
        "valor_02 = round(valor, 2)\n",
        "\n",
        "print(valor_02)"
      ],
      "metadata": {
        "colab": {
          "base_uri": "https://localhost:8080/"
        },
        "id": "LcbUnwdSzBoW",
        "outputId": "17e8576e-49e0-4b77-964b-6ae49b87b7d3"
      },
      "execution_count": null,
      "outputs": [
        {
          "output_type": "stream",
          "name": "stdout",
          "text": [
            "12.78994656555\n",
            "12.79\n"
          ]
        }
      ]
    },
    {
      "cell_type": "markdown",
      "source": [
        "**COMANDO LEN**\n",
        "\n",
        "A função len() retorna a quantidade de elementos de qualquer lista em Python, essa é mais uma função **built-in** disponível em qualquer parte dos nossos códigos."
      ],
      "metadata": {
        "id": "I4p70OMWPTVl"
      }
    },
    {
      "cell_type": "code",
      "source": [
        "Lista = [1, 2, 3, 4, 5, 6, 7, 8, 9, 10]\n",
        "Dicionario = {'Nome': 'Marcelo', 'Idade': 28} # chave : valor\n",
        "Tupla = (1, 2, 3)\n",
        "String = 'Hello World!'"
      ],
      "metadata": {
        "id": "UzvDFBp0PHXy"
      },
      "execution_count": null,
      "outputs": []
    },
    {
      "cell_type": "code",
      "source": [
        "print(len(Lista))\n",
        "print(len(Dicionario))\n",
        "print(len(Tupla))\n",
        "print(len(String))"
      ],
      "metadata": {
        "colab": {
          "base_uri": "https://localhost:8080/"
        },
        "id": "IpY0jmciLfUR",
        "outputId": "7914b868-92eb-4daa-e215-95601f964bbe"
      },
      "execution_count": null,
      "outputs": [
        {
          "output_type": "stream",
          "name": "stdout",
          "text": [
            "10\n",
            "2\n",
            "3\n",
            "12\n"
          ]
        }
      ]
    },
    {
      "cell_type": "markdown",
      "source": [
        "**FATIAMENTO DE STRINGS**\n",
        "\n",
        "Strings são listasde bytes representando caracteres.\n",
        "Podemos acessar suas posições usando colchetes..\n",
        "\n",
        "*String[Posição Inicial: Posição Final]*"
      ],
      "metadata": {
        "id": "GmS3SoufMJ7I"
      }
    },
    {
      "cell_type": "code",
      "source": [
        "String = 'Aprender Python é massa demais!'\n",
        "\n",
        "print(type(String))\n",
        "print(len(String))"
      ],
      "metadata": {
        "colab": {
          "base_uri": "https://localhost:8080/"
        },
        "id": "hK9myy27MiGh",
        "outputId": "e73e3e33-7f12-40bf-e925-f48572e18930"
      },
      "execution_count": null,
      "outputs": [
        {
          "output_type": "stream",
          "name": "stdout",
          "text": [
            "<class 'str'>\n",
            "31\n"
          ]
        }
      ]
    },
    {
      "cell_type": "code",
      "source": [
        "print(String[0:23])\n",
        "\n",
        "print(String[:23])\n",
        "\n",
        "print(String[-1]) # última posição \n",
        "\n",
        "print(String[-22:])"
      ],
      "metadata": {
        "colab": {
          "base_uri": "https://localhost:8080/"
        },
        "id": "LqWaMJhEM30N",
        "outputId": "1829e10c-b67e-423d-c879-fdc4c630f0c4"
      },
      "execution_count": null,
      "outputs": [
        {
          "output_type": "stream",
          "name": "stdout",
          "text": [
            "Aprender Python é massa\n",
            "Aprender Python é massa\n",
            "!\n",
            "Python é massa demais!\n"
          ]
        }
      ]
    },
    {
      "cell_type": "markdown",
      "source": [
        "**MANIPULAÇÃO DE STRINGS**\n",
        "\n",
        "Um tipo de dados bastante usado no dia a dia são as strings, ou cadeia de caracteres (ou sequências de caracteres). O tipo de dados string ou str como é chamado em Python, possui várias operações úteis associadas a ele. Essas operações tornam Python uma linguagem bastante propícia para manipulação de textos. Algumas funções mais utilizadas:\n",
        "\n",
        "1. replace()\n",
        "2. startswith()\n",
        "3. endswith()\n",
        "4. count()\n",
        "5. capitalize()\n",
        "6. isdigit()\n",
        "7. isalnum()\n",
        "8. upper()\n",
        "9. lower()\n",
        "10. find()\n",
        "11. strip()\n",
        "12. split()"
      ],
      "metadata": {
        "id": "4Q1l7CnGO8ci"
      }
    },
    {
      "cell_type": "code",
      "source": [
        "cpf = 'CPF:12365478998'\n",
        "\n",
        "print(cpf)\n",
        "\n",
        "String = 'Hello World!'\n",
        "\n",
        "print(String)"
      ],
      "metadata": {
        "colab": {
          "base_uri": "https://localhost:8080/"
        },
        "id": "BciYRduYQDNm",
        "outputId": "af730fa3-186f-4af2-8448-3f75f1dd7f23"
      },
      "execution_count": null,
      "outputs": [
        {
          "output_type": "stream",
          "name": "stdout",
          "text": [
            "CPF:12365478998\n",
            "Hello World!\n"
          ]
        }
      ]
    },
    {
      "cell_type": "code",
      "source": [
        "# replace\n",
        "\n",
        "print(int(cpf.replace('CPF:', '')))"
      ],
      "metadata": {
        "colab": {
          "base_uri": "https://localhost:8080/"
        },
        "id": "1w6_FxqJV0l9",
        "outputId": "4d29ca46-dd4c-4fbd-b802-35c0c8fbea89"
      },
      "execution_count": null,
      "outputs": [
        {
          "output_type": "stream",
          "name": "stdout",
          "text": [
            "12365478998\n"
          ]
        }
      ]
    },
    {
      "cell_type": "code",
      "source": [
        "# startswith\n",
        "\n",
        "String.startswith('Hello') # boolean"
      ],
      "metadata": {
        "colab": {
          "base_uri": "https://localhost:8080/"
        },
        "id": "1CCR2o24WzJf",
        "outputId": "ebc97953-81f1-431d-f931-969275cc54de"
      },
      "execution_count": null,
      "outputs": [
        {
          "output_type": "execute_result",
          "data": {
            "text/plain": [
              "True"
            ]
          },
          "metadata": {},
          "execution_count": 41
        }
      ]
    },
    {
      "cell_type": "code",
      "source": [
        "# startswith\n",
        "\n",
        "String.startswith('Helo') "
      ],
      "metadata": {
        "colab": {
          "base_uri": "https://localhost:8080/"
        },
        "id": "0fYUgnzMXcku",
        "outputId": "2b0ac629-d8b9-4c5f-81ea-d4f1ab8e7d4c"
      },
      "execution_count": null,
      "outputs": [
        {
          "output_type": "execute_result",
          "data": {
            "text/plain": [
              "False"
            ]
          },
          "metadata": {},
          "execution_count": 42
        }
      ]
    },
    {
      "cell_type": "code",
      "source": [
        "# endswith\n",
        "\n",
        "String.endswith('!')"
      ],
      "metadata": {
        "colab": {
          "base_uri": "https://localhost:8080/"
        },
        "id": "4IMPXqQjXmMW",
        "outputId": "3154fe10-0edf-42a2-bc5a-d68e7a48c231"
      },
      "execution_count": null,
      "outputs": [
        {
          "output_type": "execute_result",
          "data": {
            "text/plain": [
              "True"
            ]
          },
          "metadata": {},
          "execution_count": 43
        }
      ]
    },
    {
      "cell_type": "code",
      "source": [
        "# endswith\n",
        "\n",
        "String.endswith('A')"
      ],
      "metadata": {
        "colab": {
          "base_uri": "https://localhost:8080/"
        },
        "id": "G_aziVYhXvju",
        "outputId": "2e0109ab-84e1-429d-b320-86996a125c95"
      },
      "execution_count": null,
      "outputs": [
        {
          "output_type": "execute_result",
          "data": {
            "text/plain": [
              "False"
            ]
          },
          "metadata": {},
          "execution_count": 44
        }
      ]
    },
    {
      "cell_type": "code",
      "source": [
        "# count\n",
        "\n",
        "String.count('l')"
      ],
      "metadata": {
        "colab": {
          "base_uri": "https://localhost:8080/"
        },
        "id": "rfTWWrPLYCUd",
        "outputId": "967badb0-0177-4ca0-c175-43516664f0c1"
      },
      "execution_count": null,
      "outputs": [
        {
          "output_type": "execute_result",
          "data": {
            "text/plain": [
              "3"
            ]
          },
          "metadata": {},
          "execution_count": 45
        }
      ]
    },
    {
      "cell_type": "code",
      "source": [
        "# capitalize\n",
        "\n",
        "nome = 'marcelo'\n",
        "\n",
        "nome.capitalize()"
      ],
      "metadata": {
        "colab": {
          "base_uri": "https://localhost:8080/",
          "height": 35
        },
        "id": "r7B5SGNuYMOz",
        "outputId": "351c2795-c069-4eda-8727-3bddfde9604d"
      },
      "execution_count": null,
      "outputs": [
        {
          "output_type": "execute_result",
          "data": {
            "text/plain": [
              "'Marcelo'"
            ],
            "application/vnd.google.colaboratory.intrinsic+json": {
              "type": "string"
            }
          },
          "metadata": {},
          "execution_count": 46
        }
      ]
    },
    {
      "cell_type": "code",
      "source": [
        "# isdigit\n",
        "\n",
        "String.isdigit() # verifica se há somente valores numéricos e retorna um boolean"
      ],
      "metadata": {
        "colab": {
          "base_uri": "https://localhost:8080/"
        },
        "id": "MiAV9BFkYfku",
        "outputId": "c5739d33-beae-43ac-f6c8-4b6aed263275"
      },
      "execution_count": null,
      "outputs": [
        {
          "output_type": "execute_result",
          "data": {
            "text/plain": [
              "False"
            ]
          },
          "metadata": {},
          "execution_count": 47
        }
      ]
    },
    {
      "cell_type": "code",
      "source": [
        "# isalnum \n",
        "\n",
        "String.isalnum() # Verifica se é alfanumérica  "
      ],
      "metadata": {
        "colab": {
          "base_uri": "https://localhost:8080/"
        },
        "id": "HhkwDgknmmIn",
        "outputId": "50a49caf-bb02-4b59-feba-66c7fe097a2f"
      },
      "execution_count": null,
      "outputs": [
        {
          "output_type": "execute_result",
          "data": {
            "text/plain": [
              "False"
            ]
          },
          "metadata": {},
          "execution_count": 48
        }
      ]
    },
    {
      "cell_type": "code",
      "source": [
        "# upper\n",
        "\n",
        "nome.upper() # Transforma em Maiúsculo"
      ],
      "metadata": {
        "colab": {
          "base_uri": "https://localhost:8080/",
          "height": 35
        },
        "id": "gm94jKvUmmRS",
        "outputId": "5ce7f75c-5e1e-4825-929d-49a5bd21d24d"
      },
      "execution_count": null,
      "outputs": [
        {
          "output_type": "execute_result",
          "data": {
            "text/plain": [
              "'MARCELO'"
            ],
            "application/vnd.google.colaboratory.intrinsic+json": {
              "type": "string"
            }
          },
          "metadata": {},
          "execution_count": 49
        }
      ]
    },
    {
      "cell_type": "code",
      "source": [
        "# lower \n",
        "\n",
        "nome.lower() # Transforma em Minúsculo"
      ],
      "metadata": {
        "colab": {
          "base_uri": "https://localhost:8080/",
          "height": 35
        },
        "id": "fpUsaDEyI5O4",
        "outputId": "c001df2e-9047-46b3-f071-31d40db7a317"
      },
      "execution_count": null,
      "outputs": [
        {
          "output_type": "execute_result",
          "data": {
            "text/plain": [
              "'marcelo'"
            ],
            "application/vnd.google.colaboratory.intrinsic+json": {
              "type": "string"
            }
          },
          "metadata": {},
          "execution_count": 50
        }
      ]
    },
    {
      "cell_type": "code",
      "source": [
        "# find\n",
        "\n",
        "Phrase = 'Beautifull day for learn Python'\n",
        "\n",
        "Phrase.find('day') # Retorna o começo da posição buscada"
      ],
      "metadata": {
        "colab": {
          "base_uri": "https://localhost:8080/"
        },
        "id": "3QSMeQ6eJJuL",
        "outputId": "b93766df-3084-4e2f-b6cd-e2c8fde9d7b2"
      },
      "execution_count": null,
      "outputs": [
        {
          "output_type": "execute_result",
          "data": {
            "text/plain": [
              "11"
            ]
          },
          "metadata": {},
          "execution_count": 51
        }
      ]
    },
    {
      "cell_type": "code",
      "source": [
        "# strip\n",
        "\n",
        "adress = ' Estrada de Colégio, 122 '\n",
        "\n",
        "adress.strip() # Remove espaços no começo e no fim "
      ],
      "metadata": {
        "colab": {
          "base_uri": "https://localhost:8080/",
          "height": 35
        },
        "id": "K335NBZLJJ5H",
        "outputId": "0ff55192-d6bc-4397-b91d-0af1ae601fc0"
      },
      "execution_count": null,
      "outputs": [
        {
          "output_type": "execute_result",
          "data": {
            "text/plain": [
              "'Estrada de Colégio, 122'"
            ],
            "application/vnd.google.colaboratory.intrinsic+json": {
              "type": "string"
            }
          },
          "metadata": {},
          "execution_count": 52
        }
      ]
    },
    {
      "cell_type": "code",
      "source": [
        "# split\n",
        "\n",
        "adress.split(',') # quebrar a string de acordo com o delimiter passado, no caso ','"
      ],
      "metadata": {
        "colab": {
          "base_uri": "https://localhost:8080/"
        },
        "id": "VVjin9G_LE_h",
        "outputId": "74efcfe7-cb91-489e-8111-c74671a3dffb"
      },
      "execution_count": null,
      "outputs": [
        {
          "output_type": "execute_result",
          "data": {
            "text/plain": [
              "[' Estrada de Colégio', ' 122 ']"
            ]
          },
          "metadata": {},
          "execution_count": 56
        }
      ]
    },
    {
      "cell_type": "markdown",
      "source": [
        "**COMANDO INPUT**\n",
        "\n",
        "A função input() recebe como parâmetro uma string que será mostrada como auxílio ao usuário, geralmente o informando que tipo de dado o programa está aguardando receber"
      ],
      "metadata": {
        "id": "2goAbexFL0NK"
      }
    },
    {
      "cell_type": "code",
      "source": [
        "Name = input('What is your name: ')\n",
        "Age = input('How old are you: ')\n",
        "\n",
        "print(\"My name is:\", Name)\n",
        "print(\"I have:\", Age)"
      ],
      "metadata": {
        "colab": {
          "base_uri": "https://localhost:8080/"
        },
        "id": "4chllk1dNls9",
        "outputId": "45a5cb34-73b4-4102-bb5b-f92067456a42"
      },
      "execution_count": null,
      "outputs": [
        {
          "output_type": "stream",
          "name": "stdout",
          "text": [
            "What is your name: Marcelo Augusto\n",
            "How old are you: Twenty eight years old\n",
            "My name is: Marcelo Augusto\n",
            "I have: Twenty eight years old\n"
          ]
        }
      ]
    },
    {
      "cell_type": "markdown",
      "source": [
        "**OPERADORES DE COMPARAÇÃO**\n",
        "\n",
        "Os operados de comparação são usados para comparar dois valores:\n",
        "\n",
        "1. '==' (igual a)\n",
        "2. '!=' (Diferente de)\n",
        "3. '>' (Maior que)\n",
        "4. '<' (Menor que)\n",
        "5. '>=' (Maior ou igual)\n",
        "6. '<=' (Menor ou igual)"
      ],
      "metadata": {
        "id": "0SjAoRZaPlGL"
      }
    },
    {
      "cell_type": "code",
      "source": [
        "10 == 10"
      ],
      "metadata": {
        "colab": {
          "base_uri": "https://localhost:8080/"
        },
        "id": "BLhWmyunQOUb",
        "outputId": "b5afcdc5-ee61-4c67-872a-9e7419ac274c"
      },
      "execution_count": null,
      "outputs": [
        {
          "output_type": "execute_result",
          "data": {
            "text/plain": [
              "True"
            ]
          },
          "metadata": {},
          "execution_count": 61
        }
      ]
    },
    {
      "cell_type": "code",
      "source": [
        "10 == 8"
      ],
      "metadata": {
        "colab": {
          "base_uri": "https://localhost:8080/"
        },
        "id": "6mS5TGGLQdwt",
        "outputId": "6cc867f9-4b07-4086-f0cf-ef98ee513031"
      },
      "execution_count": null,
      "outputs": [
        {
          "output_type": "execute_result",
          "data": {
            "text/plain": [
              "False"
            ]
          },
          "metadata": {},
          "execution_count": 62
        }
      ]
    },
    {
      "cell_type": "code",
      "source": [
        "10 != 8"
      ],
      "metadata": {
        "colab": {
          "base_uri": "https://localhost:8080/"
        },
        "id": "UTwFGKm1Qg6D",
        "outputId": "c84f64b9-2130-4e13-c12e-7177f58fd98a"
      },
      "execution_count": null,
      "outputs": [
        {
          "output_type": "execute_result",
          "data": {
            "text/plain": [
              "True"
            ]
          },
          "metadata": {},
          "execution_count": 63
        }
      ]
    },
    {
      "cell_type": "code",
      "source": [
        "10 != 10"
      ],
      "metadata": {
        "colab": {
          "base_uri": "https://localhost:8080/"
        },
        "id": "UG7zK9fSQjQH",
        "outputId": "425b02f3-d1d8-424d-f917-f6f6212598ee"
      },
      "execution_count": null,
      "outputs": [
        {
          "output_type": "execute_result",
          "data": {
            "text/plain": [
              "False"
            ]
          },
          "metadata": {},
          "execution_count": 64
        }
      ]
    },
    {
      "cell_type": "code",
      "source": [
        "10 > 2"
      ],
      "metadata": {
        "colab": {
          "base_uri": "https://localhost:8080/"
        },
        "id": "dFGT7GLeQlWr",
        "outputId": "832da5c4-1d0e-4aa0-975d-4ad9205fc682"
      },
      "execution_count": null,
      "outputs": [
        {
          "output_type": "execute_result",
          "data": {
            "text/plain": [
              "True"
            ]
          },
          "metadata": {},
          "execution_count": 1
        }
      ]
    },
    {
      "cell_type": "code",
      "source": [
        "10 > 10"
      ],
      "metadata": {
        "colab": {
          "base_uri": "https://localhost:8080/"
        },
        "id": "HWPXQ2i5QmZ6",
        "outputId": "02b7b2ee-5057-47c6-dc0e-71a18d331f2e"
      },
      "execution_count": null,
      "outputs": [
        {
          "output_type": "execute_result",
          "data": {
            "text/plain": [
              "False"
            ]
          },
          "metadata": {},
          "execution_count": 2
        }
      ]
    },
    {
      "cell_type": "code",
      "source": [
        "10 >= 10"
      ],
      "metadata": {
        "colab": {
          "base_uri": "https://localhost:8080/"
        },
        "id": "x9W_0UujH8xk",
        "outputId": "0e90a8ac-376b-4595-9ba2-450e048a6e38"
      },
      "execution_count": null,
      "outputs": [
        {
          "output_type": "execute_result",
          "data": {
            "text/plain": [
              "True"
            ]
          },
          "metadata": {},
          "execution_count": 3
        }
      ]
    },
    {
      "cell_type": "code",
      "source": [
        "10 < 5"
      ],
      "metadata": {
        "colab": {
          "base_uri": "https://localhost:8080/"
        },
        "id": "YbEBzrTsH8zt",
        "outputId": "067fe197-ac7a-498d-8358-617e6da8fb9f"
      },
      "execution_count": null,
      "outputs": [
        {
          "output_type": "execute_result",
          "data": {
            "text/plain": [
              "False"
            ]
          },
          "metadata": {},
          "execution_count": 4
        }
      ]
    },
    {
      "cell_type": "code",
      "source": [
        "10 < 20"
      ],
      "metadata": {
        "colab": {
          "base_uri": "https://localhost:8080/"
        },
        "id": "T0IJi6nxIEP3",
        "outputId": "9d5bec4b-bc00-417d-9172-a8e4395342bd"
      },
      "execution_count": null,
      "outputs": [
        {
          "output_type": "execute_result",
          "data": {
            "text/plain": [
              "True"
            ]
          },
          "metadata": {},
          "execution_count": 5
        }
      ]
    },
    {
      "cell_type": "code",
      "source": [
        "10 <= 10"
      ],
      "metadata": {
        "colab": {
          "base_uri": "https://localhost:8080/"
        },
        "id": "6jVbevVnIGYK",
        "outputId": "f7fdac21-14ec-43c3-a395-8aec6e02dc17"
      },
      "execution_count": null,
      "outputs": [
        {
          "output_type": "execute_result",
          "data": {
            "text/plain": [
              "True"
            ]
          },
          "metadata": {},
          "execution_count": 6
        }
      ]
    },
    {
      "cell_type": "markdown",
      "source": [
        "**OPERADORES LÓGICOS**\n",
        "\n",
        "Os operadores lógicos são usados para combinar instruções condicionais:\n",
        "\n",
        "1. and (Retorna True se ambas as declarações forem verdadeiras)\n",
        "2. or  (Retorna True se uma das declarações for verdadeira)\n",
        "3. not (Inverte o resultado, retorna False se o resultado for verdadeiro)"
      ],
      "metadata": {
        "id": "Y0mLPo2fSHg1"
      }
    },
    {
      "cell_type": "code",
      "source": [
        "10 > 2 and 10 > 3 # declara True se ambas forem verdadeiras"
      ],
      "metadata": {
        "id": "GdY1rZelKBJb",
        "colab": {
          "base_uri": "https://localhost:8080/"
        },
        "outputId": "ef2c70fe-bfbb-4644-b1fd-45e33c2d9b01"
      },
      "execution_count": null,
      "outputs": [
        {
          "output_type": "execute_result",
          "data": {
            "text/plain": [
              "True"
            ]
          },
          "metadata": {},
          "execution_count": 3
        }
      ]
    },
    {
      "cell_type": "code",
      "source": [
        "10 > 2 and 10 > 20"
      ],
      "metadata": {
        "colab": {
          "base_uri": "https://localhost:8080/"
        },
        "id": "5M6q_IoXfg_D",
        "outputId": "a5fd8dab-24fc-4be7-cf0c-0edc69e6c9a5"
      },
      "execution_count": null,
      "outputs": [
        {
          "output_type": "execute_result",
          "data": {
            "text/plain": [
              "False"
            ]
          },
          "metadata": {},
          "execution_count": 4
        }
      ]
    },
    {
      "cell_type": "code",
      "source": [
        "10 > 2 or 10 > 5"
      ],
      "metadata": {
        "colab": {
          "base_uri": "https://localhost:8080/"
        },
        "id": "z4YoZSvofoSD",
        "outputId": "83e9f627-5d33-47d5-b187-1d6f5aa2fb48"
      },
      "execution_count": null,
      "outputs": [
        {
          "output_type": "execute_result",
          "data": {
            "text/plain": [
              "True"
            ]
          },
          "metadata": {},
          "execution_count": 5
        }
      ]
    },
    {
      "cell_type": "code",
      "source": [
        "10 > 2 or 10 > 20 # declara True se uma for verdadeira"
      ],
      "metadata": {
        "colab": {
          "base_uri": "https://localhost:8080/"
        },
        "id": "u8Qsq2GAgHID",
        "outputId": "e4879f8a-eea7-49a2-be0c-8f1868975a61"
      },
      "execution_count": null,
      "outputs": [
        {
          "output_type": "execute_result",
          "data": {
            "text/plain": [
              "True"
            ]
          },
          "metadata": {},
          "execution_count": 6
        }
      ]
    },
    {
      "cell_type": "code",
      "source": [
        "lista = [1, 2, 3, 4]"
      ],
      "metadata": {
        "id": "C9JhgVhcgchv"
      },
      "execution_count": null,
      "outputs": []
    },
    {
      "cell_type": "code",
      "source": [
        "2 in lista"
      ],
      "metadata": {
        "colab": {
          "base_uri": "https://localhost:8080/"
        },
        "id": "8P4tgMW4gpbO",
        "outputId": "805999dc-4456-411a-b6bb-9c996be4d055"
      },
      "execution_count": null,
      "outputs": [
        {
          "output_type": "execute_result",
          "data": {
            "text/plain": [
              "True"
            ]
          },
          "metadata": {},
          "execution_count": 9
        }
      ]
    },
    {
      "cell_type": "code",
      "source": [
        "10 in lista"
      ],
      "metadata": {
        "colab": {
          "base_uri": "https://localhost:8080/"
        },
        "id": "JuwOaJuogxd7",
        "outputId": "b318c338-2e3a-49d0-f6f5-822d14da8895"
      },
      "execution_count": null,
      "outputs": [
        {
          "output_type": "execute_result",
          "data": {
            "text/plain": [
              "False"
            ]
          },
          "metadata": {},
          "execution_count": 10
        }
      ]
    },
    {
      "cell_type": "code",
      "source": [
        "10 not in lista"
      ],
      "metadata": {
        "colab": {
          "base_uri": "https://localhost:8080/"
        },
        "id": "VOP5C4Chg0YP",
        "outputId": "7d45d2b1-1564-4b90-805d-a2ddb864c732"
      },
      "execution_count": null,
      "outputs": [
        {
          "output_type": "execute_result",
          "data": {
            "text/plain": [
              "True"
            ]
          },
          "metadata": {},
          "execution_count": 11
        }
      ]
    },
    {
      "cell_type": "code",
      "source": [
        "2 not in lista "
      ],
      "metadata": {
        "colab": {
          "base_uri": "https://localhost:8080/"
        },
        "id": "KRQ-3d-ZhBVn",
        "outputId": "3c2324b4-2a54-4a85-c045-f6c0dfc02109"
      },
      "execution_count": null,
      "outputs": [
        {
          "output_type": "execute_result",
          "data": {
            "text/plain": [
              "False"
            ]
          },
          "metadata": {},
          "execution_count": 12
        }
      ]
    },
    {
      "cell_type": "markdown",
      "source": [
        "**OPERADORES DE IDENTIDADE**\n",
        "\n",
        "Os operadores de identidade são usados para comparar os objetos, não se forem iguais, mas se forem realmente o mesmo objeto, com a mesma localização de memória:\n",
        "\n",
        "1. is (retorna True se ambas as variáveis forem o mesmo objeto)\n",
        "2. is not (retorna True se ambas as variáveis não forem o mesmo objeto)"
      ],
      "metadata": {
        "id": "ejg9PwrnhOU9"
      }
    },
    {
      "cell_type": "code",
      "source": [
        "String_01 = 'Hello World!'\n",
        "String_02 = 'Hello World!'"
      ],
      "metadata": {
        "id": "tlnev_qmhNAr"
      },
      "execution_count": null,
      "outputs": []
    },
    {
      "cell_type": "code",
      "source": [
        "type(String_01) == type(String_02)"
      ],
      "metadata": {
        "colab": {
          "base_uri": "https://localhost:8080/"
        },
        "id": "PpAwHlt1hNa4",
        "outputId": "99d245f1-a311-480d-d5e2-2fa2fa12107c"
      },
      "execution_count": null,
      "outputs": [
        {
          "output_type": "execute_result",
          "data": {
            "text/plain": [
              "True"
            ]
          },
          "metadata": {},
          "execution_count": 16
        }
      ]
    },
    {
      "cell_type": "code",
      "source": [
        "type(String_01) is type(String_02)"
      ],
      "metadata": {
        "colab": {
          "base_uri": "https://localhost:8080/"
        },
        "id": "LHkIDVbv51Wi",
        "outputId": "7986bb4c-d3ff-4ce6-94ab-e59ac7902cd4"
      },
      "execution_count": null,
      "outputs": [
        {
          "output_type": "execute_result",
          "data": {
            "text/plain": [
              "True"
            ]
          },
          "metadata": {},
          "execution_count": 17
        }
      ]
    },
    {
      "cell_type": "code",
      "source": [
        "type(String_01) is not type(String_02)"
      ],
      "metadata": {
        "colab": {
          "base_uri": "https://localhost:8080/"
        },
        "id": "tlHKpVq1547T",
        "outputId": "78b2b9de-f17c-4d95-ad4f-8c6ff82599e2"
      },
      "execution_count": null,
      "outputs": [
        {
          "output_type": "execute_result",
          "data": {
            "text/plain": [
              "False"
            ]
          },
          "metadata": {},
          "execution_count": 18
        }
      ]
    },
    {
      "cell_type": "markdown",
      "source": [
        "**OPERADORES DE ASSOCIAÇÃO**\n",
        "\n",
        "Os operadores de associação são usados para testar se uma sequência é apresentada em um objeto:\n",
        "\n",
        "1. in (retorna True se uma sequência com o valor especificado estiver presente no objeto)\n",
        "2. not in (retorna True se uma sequência com o valor especificado não estiver presente no objeto)"
      ],
      "metadata": {
        "id": "QZPSQwux6Kui"
      }
    },
    {
      "cell_type": "code",
      "source": [
        "Ações = ['Magalu', 'Via Varejo', 'Carrefour']"
      ],
      "metadata": {
        "id": "1z-W3Qqq9eeG"
      },
      "execution_count": null,
      "outputs": []
    },
    {
      "cell_type": "code",
      "source": [
        "'Via Varejo' in Ações"
      ],
      "metadata": {
        "colab": {
          "base_uri": "https://localhost:8080/"
        },
        "id": "S2GxJ74uXVuk",
        "outputId": "57f93bee-7e0d-4031-8cde-dbb10d3b5122"
      },
      "execution_count": null,
      "outputs": [
        {
          "output_type": "execute_result",
          "data": {
            "text/plain": [
              "True"
            ]
          },
          "metadata": {},
          "execution_count": 4
        }
      ]
    },
    {
      "cell_type": "code",
      "source": [
        "'OIBR3' not in Ações"
      ],
      "metadata": {
        "colab": {
          "base_uri": "https://localhost:8080/"
        },
        "id": "npFgOzKy6f-R",
        "outputId": "8ba2c0d5-36ad-4110-c3e7-fee6984581b5"
      },
      "execution_count": null,
      "outputs": [
        {
          "output_type": "execute_result",
          "data": {
            "text/plain": [
              "True"
            ]
          },
          "metadata": {},
          "execution_count": 5
        }
      ]
    },
    {
      "cell_type": "markdown",
      "source": [
        "**MANIPULANDO LISTAS**\n",
        "\n",
        "As listas são usadas para armazenar vários itens em uma única variável.\n",
        "\n",
        "As listas são um dos 4 tipos de dados internos do Python usados para armazenar coleções de dados, os outros 3 são Tuple, Set e Dictionary. Todos com qualidades e usos diferentes.\n",
        "\n",
        "Comandos mais utilizados: \n",
        "\n",
        "1. append() - Para adicionar um item ao final da lista\n",
        "2. len() - Calcular o tamanho da lista\n",
        "3. [] - Acessar posições\n",
        "4.del() - Excluir um elemento\n",
        "5.clear() - Limpar a lista\n",
        "6.insert() - Para inserir um item de lista em um índice especificado\n",
        "7.extend() - Anexar elementos de outra lista à lista atual\n",
        "8.remove() - Remove um elemento especificado\n",
        "9.pop() - Remove o índice especificado\n",
        "10.sort() - Ordenar os valores\n",
        "11.copy() - Faz uma cópia da lista\n",
        "12.index() - Retorna o index do elemento da lista"
      ],
      "metadata": {
        "id": "H8ICIIGKBawh"
      }
    },
    {
      "cell_type": "code",
      "source": [
        "Vazia = []\n",
        "\n",
        "print(Vazia)"
      ],
      "metadata": {
        "colab": {
          "base_uri": "https://localhost:8080/"
        },
        "id": "miZubs12CyRW",
        "outputId": "451ebb6b-2a62-45d9-87de-c53709da98c0"
      },
      "execution_count": null,
      "outputs": [
        {
          "output_type": "stream",
          "name": "stdout",
          "text": [
            "[]\n"
          ]
        }
      ]
    },
    {
      "cell_type": "code",
      "source": [
        "Vazia.append(1)\n",
        "Vazia.append(2)\n",
        "Vazia.append(3)\n",
        "Vazia.append('Valor')\n",
        "\n",
        "print(Vazia)"
      ],
      "metadata": {
        "colab": {
          "base_uri": "https://localhost:8080/"
        },
        "id": "xTIfaHrqB2j_",
        "outputId": "f4e0de72-7d2e-41fd-e457-442412f3af55"
      },
      "execution_count": null,
      "outputs": [
        {
          "output_type": "stream",
          "name": "stdout",
          "text": [
            "[1, 2, 3, 'Valor']\n"
          ]
        }
      ]
    },
    {
      "cell_type": "code",
      "source": [
        "len(Vazia)"
      ],
      "metadata": {
        "colab": {
          "base_uri": "https://localhost:8080/"
        },
        "id": "KFVhD8CNERT2",
        "outputId": "4a3ffca4-438b-4987-fe00-ce33c5ff0bfe"
      },
      "execution_count": null,
      "outputs": [
        {
          "output_type": "execute_result",
          "data": {
            "text/plain": [
              "4"
            ]
          },
          "metadata": {},
          "execution_count": 9
        }
      ]
    },
    {
      "cell_type": "code",
      "source": [
        "Vazia[3]"
      ],
      "metadata": {
        "colab": {
          "base_uri": "https://localhost:8080/",
          "height": 35
        },
        "id": "4WWrPSikEWeU",
        "outputId": "a2321cdc-a909-4548-b3af-af665ab540e4"
      },
      "execution_count": null,
      "outputs": [
        {
          "output_type": "execute_result",
          "data": {
            "text/plain": [
              "'Valor'"
            ],
            "application/vnd.google.colaboratory.intrinsic+json": {
              "type": "string"
            }
          },
          "metadata": {},
          "execution_count": 11
        }
      ]
    },
    {
      "cell_type": "code",
      "source": [
        "Vazia[-1]"
      ],
      "metadata": {
        "colab": {
          "base_uri": "https://localhost:8080/",
          "height": 35
        },
        "id": "HE1qL44_FGXA",
        "outputId": "3f2dbc2e-034f-4f31-f804-fac64072fd40"
      },
      "execution_count": null,
      "outputs": [
        {
          "output_type": "execute_result",
          "data": {
            "text/plain": [
              "'Valor'"
            ],
            "application/vnd.google.colaboratory.intrinsic+json": {
              "type": "string"
            }
          },
          "metadata": {},
          "execution_count": 12
        }
      ]
    },
    {
      "cell_type": "code",
      "source": [
        "Vazia[0:2]"
      ],
      "metadata": {
        "colab": {
          "base_uri": "https://localhost:8080/"
        },
        "id": "2axrz373FG5R",
        "outputId": "96171c67-8a38-4086-f342-88a206364cf2"
      },
      "execution_count": null,
      "outputs": [
        {
          "output_type": "execute_result",
          "data": {
            "text/plain": [
              "[1, 2]"
            ]
          },
          "metadata": {},
          "execution_count": 13
        }
      ]
    },
    {
      "cell_type": "code",
      "source": [
        "Vazia.clear()\n",
        "\n",
        "print(Vazia)"
      ],
      "metadata": {
        "colab": {
          "base_uri": "https://localhost:8080/"
        },
        "id": "Yp7PUcZ8FHB6",
        "outputId": "9108016c-3b0b-474c-fa1d-6c9bc61822c3"
      },
      "execution_count": null,
      "outputs": [
        {
          "output_type": "stream",
          "name": "stdout",
          "text": [
            "[]\n"
          ]
        }
      ]
    },
    {
      "cell_type": "code",
      "source": [
        "Vazia.insert(0, 0)\n",
        "Vazia.insert(2, 1.5)\n",
        "\n",
        "print(Vazia)"
      ],
      "metadata": {
        "colab": {
          "base_uri": "https://localhost:8080/"
        },
        "id": "LgWTkCNaFzq3",
        "outputId": "79115a44-38d8-4849-b0c9-70de63529af0"
      },
      "execution_count": null,
      "outputs": [
        {
          "output_type": "stream",
          "name": "stdout",
          "text": [
            "[0, 0, 1.5, 1, 2, 3, 'Valor']\n"
          ]
        }
      ]
    },
    {
      "cell_type": "code",
      "source": [
        "Vazia.remove(0)"
      ],
      "metadata": {
        "id": "W5g3vHzeFzt1"
      },
      "execution_count": null,
      "outputs": []
    },
    {
      "cell_type": "code",
      "source": [
        "print(Vazia)"
      ],
      "metadata": {
        "colab": {
          "base_uri": "https://localhost:8080/"
        },
        "id": "M-yh9Bq1Fzwd",
        "outputId": "2ca12295-cab9-49ee-c92d-7211c2c67a5d"
      },
      "execution_count": null,
      "outputs": [
        {
          "output_type": "stream",
          "name": "stdout",
          "text": [
            "[0, 1.5, 1, 2, 3, 'Valor']\n"
          ]
        }
      ]
    },
    {
      "cell_type": "code",
      "source": [
        "Lista_01 = [1, 2, 3]\n",
        "Lista_02 = [4, 5, 6]\n",
        "\n",
        "Lista_01.extend(Lista_02)\n",
        "\n",
        "print(Lista_01)"
      ],
      "metadata": {
        "colab": {
          "base_uri": "https://localhost:8080/"
        },
        "id": "k0a7_9S7Fzy9",
        "outputId": "36a9cf2d-cc44-491d-a026-a82d814100b1"
      },
      "execution_count": null,
      "outputs": [
        {
          "output_type": "stream",
          "name": "stdout",
          "text": [
            "[1, 2, 3, 4, 5, 6]\n"
          ]
        }
      ]
    },
    {
      "cell_type": "code",
      "source": [
        "Lista_01.pop(0)  # o pop() remove pelo índice, diferente do remove() que remove pelo valor\n",
        "\n",
        "print(Lista_01)"
      ],
      "metadata": {
        "colab": {
          "base_uri": "https://localhost:8080/"
        },
        "id": "ewDe6LxbFHOF",
        "outputId": "2e8d0830-7b37-4607-c5b2-b83ee06bd322"
      },
      "execution_count": null,
      "outputs": [
        {
          "output_type": "stream",
          "name": "stdout",
          "text": [
            "[2, 3, 4, 5, 6]\n"
          ]
        }
      ]
    },
    {
      "cell_type": "code",
      "source": [
        "ABC = ['z', 'c', 'f', 'H', 'A']\n",
        "\n",
        "ABC.sort()\n",
        "print(ABC)"
      ],
      "metadata": {
        "colab": {
          "base_uri": "https://localhost:8080/"
        },
        "id": "kqr1QpUiIg_R",
        "outputId": "43f464ac-2202-490a-f1b7-08fda67920d2"
      },
      "execution_count": null,
      "outputs": [
        {
          "output_type": "stream",
          "name": "stdout",
          "text": [
            "['A', 'H', 'c', 'f', 'z']\n"
          ]
        }
      ]
    },
    {
      "cell_type": "code",
      "source": [
        "ABC.sort(reverse = True)\n",
        "print(ABC)"
      ],
      "metadata": {
        "colab": {
          "base_uri": "https://localhost:8080/"
        },
        "id": "Grm0L0VkIhF4",
        "outputId": "4c7317e6-5058-437f-c4c9-2d29d9855eb3"
      },
      "execution_count": null,
      "outputs": [
        {
          "output_type": "stream",
          "name": "stdout",
          "text": [
            "['z', 'f', 'c', 'H', 'A']\n"
          ]
        }
      ]
    },
    {
      "cell_type": "code",
      "source": [
        "NOVA_ABC = ABC.copy()\n",
        "print(NOVA_ABC)"
      ],
      "metadata": {
        "colab": {
          "base_uri": "https://localhost:8080/"
        },
        "id": "dPFx4FoBIhLr",
        "outputId": "3610e637-09a5-44b6-f95d-0f228d712e0f"
      },
      "execution_count": null,
      "outputs": [
        {
          "output_type": "stream",
          "name": "stdout",
          "text": [
            "['z', 'f', 'c', 'H', 'A']\n"
          ]
        }
      ]
    },
    {
      "cell_type": "code",
      "source": [
        "NOVA_ABC.index('H')"
      ],
      "metadata": {
        "colab": {
          "base_uri": "https://localhost:8080/"
        },
        "id": "5CllOfEnIhQH",
        "outputId": "15c389e5-a888-4495-de48-de27a5033f29"
      },
      "execution_count": null,
      "outputs": [
        {
          "output_type": "execute_result",
          "data": {
            "text/plain": [
              "3"
            ]
          },
          "metadata": {},
          "execution_count": 27
        }
      ]
    },
    {
      "cell_type": "markdown",
      "source": [
        "**PACOTE EXTERNO - DATETIME**\n",
        "\n",
        "O datetime módulo fornece classes para manipulação de datas e horas."
      ],
      "metadata": {
        "id": "VIViiuqdQNI1"
      }
    },
    {
      "cell_type": "code",
      "source": [
        "type('01/01/2022')"
      ],
      "metadata": {
        "colab": {
          "base_uri": "https://localhost:8080/"
        },
        "id": "zv7HjFErQXlI",
        "outputId": "58749cef-210b-4678-9483-80397be75e85"
      },
      "execution_count": null,
      "outputs": [
        {
          "output_type": "execute_result",
          "data": {
            "text/plain": [
              "str"
            ]
          },
          "metadata": {},
          "execution_count": 28
        }
      ]
    },
    {
      "cell_type": "code",
      "source": [
        "import datetime"
      ],
      "metadata": {
        "id": "NDufr-tmQl3g"
      },
      "execution_count": null,
      "outputs": []
    },
    {
      "cell_type": "code",
      "source": [
        "data_corrente = datetime.datetime.today()\n",
        "\n",
        "print(data_corrente) # Nesse caso com UTC de 3h a frente"
      ],
      "metadata": {
        "colab": {
          "base_uri": "https://localhost:8080/"
        },
        "id": "Tq_HdkrwQmGS",
        "outputId": "a79e7cb1-e76f-4afd-fc6f-9246e2d4f85d"
      },
      "execution_count": null,
      "outputs": [
        {
          "output_type": "stream",
          "name": "stdout",
          "text": [
            "2022-07-14 19:51:09.704766\n"
          ]
        }
      ]
    },
    {
      "cell_type": "code",
      "source": [
        "type(data_corrente)"
      ],
      "metadata": {
        "colab": {
          "base_uri": "https://localhost:8080/"
        },
        "id": "D_uShT8URQWj",
        "outputId": "4420c000-d152-4b7e-8275-c49d0fe212b0"
      },
      "execution_count": null,
      "outputs": [
        {
          "output_type": "execute_result",
          "data": {
            "text/plain": [
              "datetime.datetime"
            ]
          },
          "metadata": {},
          "execution_count": 31
        }
      ]
    },
    {
      "cell_type": "code",
      "source": [
        "print(datetime.datetime.today().date())"
      ],
      "metadata": {
        "colab": {
          "base_uri": "https://localhost:8080/"
        },
        "id": "DrKDKh80Rhzu",
        "outputId": "ccfda2f2-817a-4d23-bd19-45d12997e394"
      },
      "execution_count": null,
      "outputs": [
        {
          "output_type": "stream",
          "name": "stdout",
          "text": [
            "2022-07-14\n"
          ]
        }
      ]
    },
    {
      "cell_type": "code",
      "source": [
        "Data = datetime.datetime.today().date()\n",
        "\n",
        "print(Data)"
      ],
      "metadata": {
        "colab": {
          "base_uri": "https://localhost:8080/"
        },
        "id": "L3PIzqPWRiKp",
        "outputId": "30fe7fb3-d987-4de4-d96b-680752dff95c"
      },
      "execution_count": null,
      "outputs": [
        {
          "output_type": "stream",
          "name": "stdout",
          "text": [
            "2022-07-14\n"
          ]
        }
      ]
    },
    {
      "cell_type": "code",
      "source": [
        "ano = Data.year\n",
        "mes = Data.month\n",
        "dia = Data.day\n",
        "\n",
        "print(ano, mes, dia)"
      ],
      "metadata": {
        "colab": {
          "base_uri": "https://localhost:8080/"
        },
        "id": "WjylbO7IR3xQ",
        "outputId": "b8227d89-4492-46fb-ed50-bb38e425c779"
      },
      "execution_count": null,
      "outputs": [
        {
          "output_type": "stream",
          "name": "stdout",
          "text": [
            "2022 7 14\n"
          ]
        }
      ]
    },
    {
      "cell_type": "code",
      "source": [
        "data_antiga = datetime.date(2022, 1, 1)\n",
        "\n",
        "print(data_antiga)"
      ],
      "metadata": {
        "colab": {
          "base_uri": "https://localhost:8080/"
        },
        "id": "GzyVKGNvR39G",
        "outputId": "24f4a65f-345b-4208-d0bf-11e14c9c2b6d"
      },
      "execution_count": null,
      "outputs": [
        {
          "output_type": "stream",
          "name": "stdout",
          "text": [
            "2022-01-01\n"
          ]
        }
      ]
    },
    {
      "cell_type": "code",
      "source": [
        "dif_dias = Data - data_antiga\n",
        "\n",
        "print(dif_dias)\n",
        "type(dif_dias)"
      ],
      "metadata": {
        "colab": {
          "base_uri": "https://localhost:8080/"
        },
        "id": "KcBrljRRS0PG",
        "outputId": "60cd5881-e5f4-4b86-c519-811b97fa44ec"
      },
      "execution_count": null,
      "outputs": [
        {
          "output_type": "stream",
          "name": "stdout",
          "text": [
            "194 days, 0:00:00\n"
          ]
        },
        {
          "output_type": "execute_result",
          "data": {
            "text/plain": [
              "datetime.timedelta"
            ]
          },
          "metadata": {},
          "execution_count": 38
        }
      ]
    },
    {
      "cell_type": "code",
      "source": [
        "new_Data = Data.strftime('%d/%m/%y')\n",
        "\n",
        "print(new_Data)\n",
        "type(new_Data)"
      ],
      "metadata": {
        "colab": {
          "base_uri": "https://localhost:8080/"
        },
        "id": "kQb7rGVfS0XW",
        "outputId": "82465036-8365-4ded-d04e-ff170bb61c89"
      },
      "execution_count": null,
      "outputs": [
        {
          "output_type": "stream",
          "name": "stdout",
          "text": [
            "14/07/22\n"
          ]
        },
        {
          "output_type": "execute_result",
          "data": {
            "text/plain": [
              "str"
            ]
          },
          "metadata": {},
          "execution_count": 41
        }
      ]
    },
    {
      "cell_type": "code",
      "source": [
        "print(Data + datetime.timedelta(days=30))"
      ],
      "metadata": {
        "colab": {
          "base_uri": "https://localhost:8080/"
        },
        "id": "DRKOpG1zZDHf",
        "outputId": "6f30d698-4289-4cdd-8bd1-25ea38123ef1"
      },
      "execution_count": null,
      "outputs": [
        {
          "output_type": "stream",
          "name": "stdout",
          "text": [
            "2022-08-13\n"
          ]
        }
      ]
    },
    {
      "cell_type": "markdown",
      "source": [
        "**PACOTE EXTERNO - TIME**\n",
        "\n",
        "Este módulo fornece várias funções relacionadas ao tempo"
      ],
      "metadata": {
        "id": "iZwFy0FnbHMb"
      }
    },
    {
      "cell_type": "code",
      "source": [
        "import time"
      ],
      "metadata": {
        "id": "dEUaaTyqZDR8"
      },
      "execution_count": null,
      "outputs": []
    },
    {
      "cell_type": "code",
      "source": [
        "print('Comecei agora...')\n",
        "time.sleep(3) # Espera 3 segundos e executa o segundo print\n",
        "print('Terminei')"
      ],
      "metadata": {
        "colab": {
          "base_uri": "https://localhost:8080/"
        },
        "id": "E8eJhVZJbhHA",
        "outputId": "a8120ce2-7c1f-4b5f-ff3d-9a797814aa22"
      },
      "execution_count": null,
      "outputs": [
        {
          "output_type": "stream",
          "name": "stdout",
          "text": [
            "Comecei agora...\n",
            "Terminei\n"
          ]
        }
      ]
    },
    {
      "cell_type": "code",
      "source": [
        "now = time.localtime()\n",
        "\n",
        "print(now)\n",
        "type(now)"
      ],
      "metadata": {
        "colab": {
          "base_uri": "https://localhost:8080/"
        },
        "id": "OYiim9p0bhar",
        "outputId": "9c17b009-a8e0-48f1-be0b-834be009edf7"
      },
      "execution_count": null,
      "outputs": [
        {
          "output_type": "stream",
          "name": "stdout",
          "text": [
            "time.struct_time(tm_year=2022, tm_mon=7, tm_mday=14, tm_hour=20, tm_min=42, tm_sec=35, tm_wday=3, tm_yday=195, tm_isdst=0)\n"
          ]
        },
        {
          "output_type": "execute_result",
          "data": {
            "text/plain": [
              "time.struct_time"
            ]
          },
          "metadata": {},
          "execution_count": 48
        }
      ]
    },
    {
      "cell_type": "markdown",
      "source": [
        "![srtFtime_strPtime.png](data:image/png;base64,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)"
      ],
      "metadata": {
        "id": "0Fimk3JLeqf0"
      }
    },
    {
      "cell_type": "code",
      "source": [
        "new_now = time.strftime('%y/%m/%d %H:%M:%S', now)\n",
        "\n",
        "print(new_now)\n",
        "type(new_now)"
      ],
      "metadata": {
        "colab": {
          "base_uri": "https://localhost:8080/"
        },
        "id": "MZ7bA3-qbhek",
        "outputId": "c9ce4746-1243-4baf-9c5a-4d4be7286eb3"
      },
      "execution_count": null,
      "outputs": [
        {
          "output_type": "stream",
          "name": "stdout",
          "text": [
            "22/07/14 20:42:35\n"
          ]
        },
        {
          "output_type": "execute_result",
          "data": {
            "text/plain": [
              "str"
            ]
          },
          "metadata": {},
          "execution_count": 53
        }
      ]
    },
    {
      "cell_type": "code",
      "source": [
        "time_texto = '21 June, 2021'\n",
        "\n",
        "print(time_texto)"
      ],
      "metadata": {
        "colab": {
          "base_uri": "https://localhost:8080/"
        },
        "id": "vgNnBKIHeCQp",
        "outputId": "7bbb5cd0-9a7a-4ff9-ffd4-5260ecf0d6ef"
      },
      "execution_count": null,
      "outputs": [
        {
          "output_type": "stream",
          "name": "stdout",
          "text": [
            "21 June, 2021\n"
          ]
        }
      ]
    },
    {
      "cell_type": "code",
      "source": [
        "new_time_texto = time.strptime(time_texto, '%d %B, %Y')\n",
        "\n",
        "print(new_time_texto)\n",
        "type(new_time_texto)"
      ],
      "metadata": {
        "colab": {
          "base_uri": "https://localhost:8080/"
        },
        "id": "W_rFWOFofHbl",
        "outputId": "2f315ad7-3f30-4880-fd59-36d09f0cef9a"
      },
      "execution_count": null,
      "outputs": [
        {
          "output_type": "stream",
          "name": "stdout",
          "text": [
            "time.struct_time(tm_year=2021, tm_mon=6, tm_mday=21, tm_hour=0, tm_min=0, tm_sec=0, tm_wday=0, tm_yday=172, tm_isdst=-1)\n"
          ]
        },
        {
          "output_type": "execute_result",
          "data": {
            "text/plain": [
              "time.struct_time"
            ]
          },
          "metadata": {},
          "execution_count": 56
        }
      ]
    },
    {
      "cell_type": "markdown",
      "source": [
        "**PACOTE EXTERNO - MATH**\n",
        "\n",
        "O Python possui um conjunto de funções matemáticas integradas, incluindo um extenso módulo matemático que permite realizar tarefas matemáticas em números."
      ],
      "metadata": {
        "id": "X8aAcELYgzNP"
      }
    },
    {
      "cell_type": "code",
      "source": [
        "import math"
      ],
      "metadata": {
        "id": "8pDk33XfhGCJ"
      },
      "execution_count": null,
      "outputs": []
    },
    {
      "cell_type": "code",
      "source": [
        "Tupla = (10, 5, 20, 30, 40)"
      ],
      "metadata": {
        "id": "B-9zpTvnJseq"
      },
      "execution_count": null,
      "outputs": []
    },
    {
      "cell_type": "code",
      "source": [
        "min(Tupla)"
      ],
      "metadata": {
        "colab": {
          "base_uri": "https://localhost:8080/"
        },
        "id": "ir-4H6FYJxCS",
        "outputId": "a215effd-40d7-47cd-9695-6d3c01b4e652"
      },
      "execution_count": null,
      "outputs": [
        {
          "output_type": "execute_result",
          "data": {
            "text/plain": [
              "5"
            ]
          },
          "metadata": {},
          "execution_count": 3
        }
      ]
    },
    {
      "cell_type": "code",
      "source": [
        "max(Tupla)"
      ],
      "metadata": {
        "colab": {
          "base_uri": "https://localhost:8080/"
        },
        "id": "1NX0XREQJzmX",
        "outputId": "6c256e9e-d812-4ba7-e19e-adcbec90b2e8"
      },
      "execution_count": null,
      "outputs": [
        {
          "output_type": "execute_result",
          "data": {
            "text/plain": [
              "40"
            ]
          },
          "metadata": {},
          "execution_count": 4
        }
      ]
    },
    {
      "cell_type": "code",
      "source": [
        "abs(-7.25) # converte para positivo números negativos"
      ],
      "metadata": {
        "colab": {
          "base_uri": "https://localhost:8080/"
        },
        "id": "5U2hoqTzJ2ra",
        "outputId": "a20cb2a5-3fd9-44c4-c4e1-c9de277bb284"
      },
      "execution_count": null,
      "outputs": [
        {
          "output_type": "execute_result",
          "data": {
            "text/plain": [
              "7.25"
            ]
          },
          "metadata": {},
          "execution_count": 5
        }
      ]
    },
    {
      "cell_type": "code",
      "source": [
        "negativo  = -1"
      ],
      "metadata": {
        "id": "p4S9FbkPKBQM"
      },
      "execution_count": null,
      "outputs": []
    },
    {
      "cell_type": "code",
      "source": [
        "abs(negativo)"
      ],
      "metadata": {
        "colab": {
          "base_uri": "https://localhost:8080/"
        },
        "id": "Uu_Ye8UqKDYW",
        "outputId": "0a14b8fb-d3a2-4993-c4ba-eb94ab2df672"
      },
      "execution_count": null,
      "outputs": [
        {
          "output_type": "execute_result",
          "data": {
            "text/plain": [
              "1"
            ]
          },
          "metadata": {},
          "execution_count": 7
        }
      ]
    },
    {
      "cell_type": "code",
      "source": [
        "pow(3, 4) # 3 * 3 * 3 * 3 "
      ],
      "metadata": {
        "colab": {
          "base_uri": "https://localhost:8080/"
        },
        "id": "alGbGKVkKGo4",
        "outputId": "3ce3a72b-dc7f-442c-ccc2-5efc10879eee"
      },
      "execution_count": null,
      "outputs": [
        {
          "output_type": "execute_result",
          "data": {
            "text/plain": [
              "81"
            ]
          },
          "metadata": {},
          "execution_count": 8
        }
      ]
    },
    {
      "cell_type": "code",
      "source": [
        "math.sqrt(81) # extração da raíz quadrada"
      ],
      "metadata": {
        "colab": {
          "base_uri": "https://localhost:8080/"
        },
        "id": "XCDp67byKSzc",
        "outputId": "3326ae23-add9-4bac-82c0-0d2e8e49ef11"
      },
      "execution_count": null,
      "outputs": [
        {
          "output_type": "execute_result",
          "data": {
            "text/plain": [
              "9.0"
            ]
          },
          "metadata": {},
          "execution_count": 10
        }
      ]
    },
    {
      "cell_type": "code",
      "source": [
        "math.ceil(1.4) # Arrendonda para cima para o número inteiro mais próximo"
      ],
      "metadata": {
        "colab": {
          "base_uri": "https://localhost:8080/"
        },
        "id": "DEGoKjikKS4R",
        "outputId": "caab7746-92f2-494a-bc50-2ee81ba211db"
      },
      "execution_count": null,
      "outputs": [
        {
          "output_type": "execute_result",
          "data": {
            "text/plain": [
              "2"
            ]
          },
          "metadata": {},
          "execution_count": 13
        }
      ]
    },
    {
      "cell_type": "code",
      "source": [
        "math.floor(1.4) # Arrendonda para baixo para o número inteiro mais próximo"
      ],
      "metadata": {
        "colab": {
          "base_uri": "https://localhost:8080/"
        },
        "id": "kJh6Ui8IKuC_",
        "outputId": "c8edf41f-eeb4-47a3-ec7e-f2ca144f2fd9"
      },
      "execution_count": null,
      "outputs": [
        {
          "output_type": "execute_result",
          "data": {
            "text/plain": [
              "1"
            ]
          },
          "metadata": {},
          "execution_count": 14
        }
      ]
    },
    {
      "cell_type": "code",
      "source": [
        "math.pi"
      ],
      "metadata": {
        "colab": {
          "base_uri": "https://localhost:8080/"
        },
        "id": "YN-qKbkmLD5h",
        "outputId": "5b588c94-3e25-45d1-8fb7-01e392de1666"
      },
      "execution_count": null,
      "outputs": [
        {
          "output_type": "execute_result",
          "data": {
            "text/plain": [
              "3.141592653589793"
            ]
          },
          "metadata": {},
          "execution_count": 15
        }
      ]
    },
    {
      "cell_type": "markdown",
      "source": [
        "**PACOTE EXTERNO - RANDOM**\n",
        "\n",
        "Este módulo implementa geradores de números pseudo-aleatórios para várias distribuições."
      ],
      "metadata": {
        "id": "UhmYc_WkLg9J"
      }
    },
    {
      "cell_type": "code",
      "source": [
        "import random"
      ],
      "metadata": {
        "id": "wwK5ACfTLEDP"
      },
      "execution_count": null,
      "outputs": []
    },
    {
      "cell_type": "code",
      "source": [
        "Lista = [1, 2, 3, 4, 5, 6, 7, 8]"
      ],
      "metadata": {
        "id": "jDPlM9QvL-jY"
      },
      "execution_count": null,
      "outputs": []
    },
    {
      "cell_type": "code",
      "source": [
        "random.choice(Lista) # escolhe um número aleatório "
      ],
      "metadata": {
        "colab": {
          "base_uri": "https://localhost:8080/"
        },
        "id": "AN8v2XcEMI4u",
        "outputId": "680278e2-47b9-4012-d9af-ec3691780277"
      },
      "execution_count": null,
      "outputs": [
        {
          "output_type": "execute_result",
          "data": {
            "text/plain": [
              "2"
            ]
          },
          "metadata": {},
          "execution_count": 21
        }
      ]
    },
    {
      "cell_type": "code",
      "source": [
        "Palavra = 'Marcelo'"
      ],
      "metadata": {
        "id": "tLwzPFZKMqiK"
      },
      "execution_count": null,
      "outputs": []
    },
    {
      "cell_type": "code",
      "source": [
        "random.choice(Palavra)"
      ],
      "metadata": {
        "colab": {
          "base_uri": "https://localhost:8080/",
          "height": 35
        },
        "id": "pTeizUdhMqqy",
        "outputId": "fd76103a-436d-4dce-d559-5c513d6d9315"
      },
      "execution_count": null,
      "outputs": [
        {
          "output_type": "execute_result",
          "data": {
            "text/plain": [
              "'a'"
            ],
            "application/vnd.google.colaboratory.intrinsic+json": {
              "type": "string"
            }
          },
          "metadata": {},
          "execution_count": 23
        }
      ]
    },
    {
      "cell_type": "code",
      "source": [
        "random.random() # gera um valor entre 0 e 1"
      ],
      "metadata": {
        "colab": {
          "base_uri": "https://localhost:8080/"
        },
        "id": "WkbBEen3Mqy8",
        "outputId": "cbcb18f8-a4f4-46b2-f9e0-08a1f2e770d7"
      },
      "execution_count": null,
      "outputs": [
        {
          "output_type": "execute_result",
          "data": {
            "text/plain": [
              "0.14706054709714034"
            ]
          },
          "metadata": {},
          "execution_count": 24
        }
      ]
    },
    {
      "cell_type": "code",
      "source": [
        "random.randint(0, 1000) # Passa maior e menor escala e gera um valor entre "
      ],
      "metadata": {
        "colab": {
          "base_uri": "https://localhost:8080/"
        },
        "id": "W3u0CnQxNJYA",
        "outputId": "8e656f7d-0b59-4a19-ace6-c71a0f0e735d"
      },
      "execution_count": null,
      "outputs": [
        {
          "output_type": "execute_result",
          "data": {
            "text/plain": [
              "342"
            ]
          },
          "metadata": {},
          "execution_count": 26
        }
      ]
    },
    {
      "cell_type": "markdown",
      "source": [
        "**PACOTE EXTERNO - STATISTICS**\n",
        "\n",
        "Este módulo fornece funções para calcular estatísticas matemáticas de dados númericos e interage com as listas."
      ],
      "metadata": {
        "id": "Qin1rfVMNnd6"
      }
    },
    {
      "cell_type": "code",
      "source": [
        "import statistics"
      ],
      "metadata": {
        "id": "bjI9h2giNKRy"
      },
      "execution_count": null,
      "outputs": []
    },
    {
      "cell_type": "code",
      "source": [
        "Lista = [12, 15, 28, 56, 78, 80, 80]"
      ],
      "metadata": {
        "id": "5toxGfsVON9d"
      },
      "execution_count": null,
      "outputs": []
    },
    {
      "cell_type": "code",
      "source": [
        "media = sum(Lista) / len(Lista)\n",
        "\n",
        "print(media)"
      ],
      "metadata": {
        "colab": {
          "base_uri": "https://localhost:8080/"
        },
        "id": "8ahRnP18NKUW",
        "outputId": "844b258d-e612-40a2-d27e-c452e5466568"
      },
      "execution_count": null,
      "outputs": [
        {
          "output_type": "stream",
          "name": "stdout",
          "text": [
            "49.857142857142854\n"
          ]
        }
      ]
    },
    {
      "cell_type": "code",
      "source": [
        "statistics.mean(Lista) # Mesma forma de obter a média da célula acima usando statistics"
      ],
      "metadata": {
        "colab": {
          "base_uri": "https://localhost:8080/"
        },
        "id": "x4hlBA3ANKXM",
        "outputId": "a24d3b77-097c-4a65-a9f1-10f0c2c1bb88"
      },
      "execution_count": null,
      "outputs": [
        {
          "output_type": "execute_result",
          "data": {
            "text/plain": [
              "49.857142857142854"
            ]
          },
          "metadata": {},
          "execution_count": 36
        }
      ]
    },
    {
      "cell_type": "code",
      "source": [
        "statistics.median(Lista) # Mediana"
      ],
      "metadata": {
        "colab": {
          "base_uri": "https://localhost:8080/"
        },
        "id": "BF26CREGNK31",
        "outputId": "5f05e36b-0092-4235-e9c1-39390969bcee"
      },
      "execution_count": null,
      "outputs": [
        {
          "output_type": "execute_result",
          "data": {
            "text/plain": [
              "56"
            ]
          },
          "metadata": {},
          "execution_count": 37
        }
      ]
    },
    {
      "cell_type": "code",
      "source": [
        "statistics.mode(Lista) # Moda"
      ],
      "metadata": {
        "colab": {
          "base_uri": "https://localhost:8080/"
        },
        "id": "mXbjmA-lPxsZ",
        "outputId": "5e4235cf-1f47-4155-ab09-ed97fc526958"
      },
      "execution_count": null,
      "outputs": [
        {
          "output_type": "execute_result",
          "data": {
            "text/plain": [
              "80"
            ]
          },
          "metadata": {},
          "execution_count": 38
        }
      ]
    },
    {
      "cell_type": "markdown",
      "source": [
        "**CONDIÇÃO IF**\n",
        "\n",
        "if é a declaração mais simples de tomada de decisão.\n",
        "\n",
        "Ele é usado para decidir se uma determinada instrução ou bloco de instruções será executado ou não, ou seja, se uma determinada condição for verdadeira, um bloco de instruções será executado, caso contrário, não. \n",
        "\n",
        "if condição:\n",
        "  \n",
        "*   declarações a serem executadas se \n",
        "*   condição é verdadeira"
      ],
      "metadata": {
        "id": "QyQZp6NhQVv7"
      }
    },
    {
      "cell_type": "code",
      "source": [
        "# Se a pessoa tiver menos de 18 anos, ela não entra no sistema.\n",
        "\n",
        "idade = 16 \n",
        "\n",
        "if idade >= 18:\n",
        "  print('Você é maior de idade. Entrada permitida!')\n",
        "else:\n",
        "  print('Você é menor de idade. Entrada proibida!')"
      ],
      "metadata": {
        "id": "aWrdQQFmRZIR",
        "colab": {
          "base_uri": "https://localhost:8080/"
        },
        "outputId": "6da5355f-a5f7-42c0-f25a-763ef8d7f09a"
      },
      "execution_count": null,
      "outputs": [
        {
          "output_type": "stream",
          "name": "stdout",
          "text": [
            "Você é menor de idade. Entrada proibida!\n"
          ]
        }
      ]
    },
    {
      "cell_type": "code",
      "source": [
        "idade = 16 \n",
        "\n",
        "if idade >= 18:\n",
        "  print('Você é maior de idade. Entrada permitida!')\n",
        "\n",
        "elif idade >= 15 and idade <= 17:\n",
        "  print(\"Entrada condicionada a autorização de responsável legal!\")\n",
        "\n",
        "else:\n",
        "  print('Você é menor de idade. Entrada proibida!')"
      ],
      "metadata": {
        "colab": {
          "base_uri": "https://localhost:8080/"
        },
        "id": "dhv8V0l5_o0D",
        "outputId": "35b97943-2256-4a2c-be40-4bc553016899"
      },
      "execution_count": null,
      "outputs": [
        {
          "output_type": "stream",
          "name": "stdout",
          "text": [
            "Entrada condicionada a autorização de responsável legal!\n"
          ]
        }
      ]
    },
    {
      "cell_type": "markdown",
      "source": [
        "**ESTRUTURA DE LOOP - FOR**\n",
        "\n",
        "O loop FOR do Python é usado para travessia sequencial, ou seja, é usado para iterar sobre um iterável como string, tupla, lista, etc. Ele se enquadra na categoria de iteração definida. Iterações definidas significam que o número de repetições é especificado explicitamente com antecedência. \n",
        "\n",
        "for variável in objeto:\n",
        "\n",
        "*   loop\n",
        "\n"
      ],
      "metadata": {
        "id": "iz9BQRtZBsmZ"
      }
    },
    {
      "cell_type": "code",
      "source": [
        "lista = [1, 2 , 3]\n",
        "\n",
        "for i in lista:\n",
        "  i = i + 1\n",
        "  print(i)"
      ],
      "metadata": {
        "colab": {
          "base_uri": "https://localhost:8080/"
        },
        "id": "pyPXk6d1CPrW",
        "outputId": "d850c53d-c2f7-40ab-f1e4-2ea5bc5bf240"
      },
      "execution_count": null,
      "outputs": [
        {
          "output_type": "stream",
          "name": "stdout",
          "text": [
            "2\n",
            "3\n",
            "4\n"
          ]
        }
      ]
    },
    {
      "cell_type": "code",
      "source": [
        "for elemento in range(10):\n",
        "  print(elemento)"
      ],
      "metadata": {
        "colab": {
          "base_uri": "https://localhost:8080/"
        },
        "id": "mRyyi1fhzHS9",
        "outputId": "7e0fd36e-378b-43ee-d6e2-812a0a73af21"
      },
      "execution_count": null,
      "outputs": [
        {
          "output_type": "stream",
          "name": "stdout",
          "text": [
            "0\n",
            "1\n",
            "2\n",
            "3\n",
            "4\n",
            "5\n",
            "6\n",
            "7\n",
            "8\n",
            "9\n"
          ]
        }
      ]
    },
    {
      "cell_type": "code",
      "source": [
        "for elemento in range(10):\n",
        "  elemento = elemento + 2\n",
        "  print(elemento)"
      ],
      "metadata": {
        "colab": {
          "base_uri": "https://localhost:8080/"
        },
        "id": "LroqDaXBzoIC",
        "outputId": "fb666946-3350-4b78-a888-ba718544fa97"
      },
      "execution_count": null,
      "outputs": [
        {
          "output_type": "stream",
          "name": "stdout",
          "text": [
            "2\n",
            "3\n",
            "4\n",
            "5\n",
            "6\n",
            "7\n",
            "8\n",
            "9\n",
            "10\n",
            "11\n"
          ]
        }
      ]
    },
    {
      "cell_type": "code",
      "source": [
        "for elemento in range(1, 10): # Começando da primeira posição e indo até a décima\n",
        "  print(elemento)"
      ],
      "metadata": {
        "colab": {
          "base_uri": "https://localhost:8080/"
        },
        "id": "hltog9k70h_V",
        "outputId": "d8387794-28bf-4e23-b4b6-4ed8b4d0e51e"
      },
      "execution_count": null,
      "outputs": [
        {
          "output_type": "stream",
          "name": "stdout",
          "text": [
            "1\n",
            "2\n",
            "3\n",
            "4\n",
            "5\n",
            "6\n",
            "7\n",
            "8\n",
            "9\n"
          ]
        }
      ]
    },
    {
      "cell_type": "code",
      "source": [
        "for elemento in range(1, 100, 5): # Começando da primeira posição e indo até a décima, pulando de 5 em 5\n",
        "  print(elemento)"
      ],
      "metadata": {
        "colab": {
          "base_uri": "https://localhost:8080/"
        },
        "id": "RPDlv2Rn00wQ",
        "outputId": "81f9907a-7746-4e9b-d8a8-4ca4ce8eb9f2"
      },
      "execution_count": null,
      "outputs": [
        {
          "output_type": "stream",
          "name": "stdout",
          "text": [
            "1\n",
            "6\n",
            "11\n",
            "16\n",
            "21\n",
            "26\n",
            "31\n",
            "36\n",
            "41\n",
            "46\n",
            "51\n",
            "56\n",
            "61\n",
            "66\n",
            "71\n",
            "76\n",
            "81\n",
            "86\n",
            "91\n",
            "96\n"
          ]
        }
      ]
    },
    {
      "cell_type": "code",
      "source": [
        "Lista = ['Brasil', 'Argentina', 'Uruguai', 'Paraguai', 'Bolívia', 'Colombia', 'Equador']"
      ],
      "metadata": {
        "id": "OjVULrYm00y-"
      },
      "execution_count": null,
      "outputs": []
    },
    {
      "cell_type": "code",
      "source": [
        "import time\n",
        "\n",
        "for x in Lista: \n",
        "  time.sleep(2)\n",
        "  print(x.upper())"
      ],
      "metadata": {
        "colab": {
          "base_uri": "https://localhost:8080/"
        },
        "id": "mwchwp2T1Q3A",
        "outputId": "3399e4ab-f3bd-417c-db26-c0e931e006af"
      },
      "execution_count": null,
      "outputs": [
        {
          "output_type": "stream",
          "name": "stdout",
          "text": [
            "BRASIL\n",
            "ARGENTINA\n",
            "URUGUAI\n",
            "PARAGUAI\n",
            "BOLÍVIA\n",
            "COLOMBIA\n",
            "EQUADOR\n"
          ]
        }
      ]
    },
    {
      "cell_type": "code",
      "source": [
        "import time\n",
        "\n",
        "for x in Lista: \n",
        "  time.sleep(2)\n",
        "  print(x.upper()[0:3]) # Pega somente as 3 primeiras posições"
      ],
      "metadata": {
        "colab": {
          "base_uri": "https://localhost:8080/"
        },
        "id": "H9zd6Sf31Q5u",
        "outputId": "8771c42a-9cff-4de8-b646-888bd33e38d8"
      },
      "execution_count": null,
      "outputs": [
        {
          "output_type": "stream",
          "name": "stdout",
          "text": [
            "BRA\n",
            "ARG\n",
            "URU\n",
            "PAR\n",
            "BOL\n",
            "COL\n",
            "EQU\n"
          ]
        }
      ]
    },
    {
      "cell_type": "code",
      "source": [
        "for x in Lista:\n",
        "\n",
        "  if x == 'Brasil':\n",
        "    print(x, 'é Pentacampeão da Copa do Mundo!')"
      ],
      "metadata": {
        "colab": {
          "base_uri": "https://localhost:8080/"
        },
        "id": "SN-iNg3K1Q8q",
        "outputId": "b6697c46-992f-48e2-d309-44a9a00afbba"
      },
      "execution_count": null,
      "outputs": [
        {
          "output_type": "stream",
          "name": "stdout",
          "text": [
            "Brasil é Pentacampeão da Copa do Mundo!\n"
          ]
        }
      ]
    },
    {
      "cell_type": "code",
      "source": [
        "for x in Lista:\n",
        "\n",
        "  if x == 'Brasil':\n",
        "    print(x, 'é Pentacampeão da Copa do Mundo!')\n",
        "\n",
        "    for a in range(5):\n",
        "      print(a)"
      ],
      "metadata": {
        "colab": {
          "base_uri": "https://localhost:8080/"
        },
        "id": "43Wz4o3E1Q_F",
        "outputId": "6e92d906-74c3-4e8b-9aa6-b130e4484c6a"
      },
      "execution_count": null,
      "outputs": [
        {
          "output_type": "stream",
          "name": "stdout",
          "text": [
            "Brasil é Pentacampeão da Copa do Mundo!\n",
            "0\n",
            "1\n",
            "2\n",
            "3\n",
            "4\n"
          ]
        }
      ]
    },
    {
      "cell_type": "code",
      "source": [
        "for n in range(len(Lista)): \n",
        "  print(n)"
      ],
      "metadata": {
        "colab": {
          "base_uri": "https://localhost:8080/"
        },
        "id": "FcX7qF4T1RB5",
        "outputId": "5aeb180e-dc76-41dc-94c4-be4508304466"
      },
      "execution_count": null,
      "outputs": [
        {
          "output_type": "stream",
          "name": "stdout",
          "text": [
            "0\n",
            "1\n",
            "2\n",
            "3\n",
            "4\n",
            "5\n",
            "6\n"
          ]
        }
      ]
    },
    {
      "cell_type": "code",
      "source": [
        "len(Lista)"
      ],
      "metadata": {
        "colab": {
          "base_uri": "https://localhost:8080/"
        },
        "id": "ZjGEgNJ31REy",
        "outputId": "bf2bb9b4-dc0f-4235-e6d1-02b05df68626"
      },
      "execution_count": null,
      "outputs": [
        {
          "output_type": "execute_result",
          "data": {
            "text/plain": [
              "7"
            ]
          },
          "metadata": {},
          "execution_count": 26
        }
      ]
    },
    {
      "cell_type": "code",
      "source": [
        "Lista[6] "
      ],
      "metadata": {
        "colab": {
          "base_uri": "https://localhost:8080/",
          "height": 35
        },
        "id": "fn7Rs47h5TFE",
        "outputId": "64e767ea-1b05-4abd-b8d0-cf6426212b89"
      },
      "execution_count": null,
      "outputs": [
        {
          "output_type": "execute_result",
          "data": {
            "text/plain": [
              "'Equador'"
            ],
            "application/vnd.google.colaboratory.intrinsic+json": {
              "type": "string"
            }
          },
          "metadata": {},
          "execution_count": 32
        }
      ]
    },
    {
      "cell_type": "code",
      "source": [
        "for n in range(len(Lista)): \n",
        "  print(Lista[n])"
      ],
      "metadata": {
        "colab": {
          "base_uri": "https://localhost:8080/"
        },
        "id": "aCHy_8kM1RH4",
        "outputId": "987eff65-b9fe-467d-94e4-e2bce2e34805"
      },
      "execution_count": null,
      "outputs": [
        {
          "output_type": "stream",
          "name": "stdout",
          "text": [
            "Brasil\n",
            "Argentina\n",
            "Uruguai\n",
            "Paraguai\n",
            "Bolívia\n",
            "Colombia\n",
            "Equador\n"
          ]
        }
      ]
    },
    {
      "cell_type": "code",
      "source": [
        "for n in range(0, len(Lista), 2):  # Começa da posição 0 até o tamanho de len(Lista), indo de 2 em 2.\n",
        "  print(Lista[n])"
      ],
      "metadata": {
        "colab": {
          "base_uri": "https://localhost:8080/"
        },
        "id": "3iZtG-2d49cI",
        "outputId": "5481e3e7-bf98-4ab0-8260-945de611c3d0"
      },
      "execution_count": null,
      "outputs": [
        {
          "output_type": "stream",
          "name": "stdout",
          "text": [
            "Brasil\n",
            "Uruguai\n",
            "Bolívia\n",
            "Equador\n"
          ]
        }
      ]
    },
    {
      "cell_type": "code",
      "source": [
        "for index, a in enumerate(Lista):\n",
        "  print(index, a)"
      ],
      "metadata": {
        "colab": {
          "base_uri": "https://localhost:8080/"
        },
        "id": "9JK3YSi6lACm",
        "outputId": "4d54b313-eae5-41d7-b2c0-668ff112435e"
      },
      "execution_count": null,
      "outputs": [
        {
          "output_type": "stream",
          "name": "stdout",
          "text": [
            "0 Brasil\n",
            "1 Argentina\n",
            "2 Uruguai\n",
            "3 Paraguai\n",
            "4 Bolívia\n",
            "5 Colombia\n",
            "6 Equador\n"
          ]
        }
      ]
    },
    {
      "cell_type": "code",
      "source": [
        "x = 0\n",
        "\n",
        "for b in Lista:\n",
        "  print(x, b)\n",
        "  x = x + 1"
      ],
      "metadata": {
        "colab": {
          "base_uri": "https://localhost:8080/"
        },
        "id": "UV-mdhZMHx3h",
        "outputId": "51a2a7d8-d8a5-4c3b-cf4f-69a6f2883371"
      },
      "execution_count": null,
      "outputs": [
        {
          "output_type": "stream",
          "name": "stdout",
          "text": [
            "0 Brasil\n",
            "1 Argentina\n",
            "2 Uruguai\n",
            "3 Paraguai\n",
            "4 Bolívia\n",
            "5 Colombia\n",
            "6 Equador\n"
          ]
        }
      ]
    },
    {
      "cell_type": "code",
      "source": [
        "[numero for numero in range(0, 10, 2)]  "
      ],
      "metadata": {
        "colab": {
          "base_uri": "https://localhost:8080/"
        },
        "id": "DO77tLZvI4pV",
        "outputId": "e0d4b2de-5aef-4c46-f2e9-740ac79b878e"
      },
      "execution_count": null,
      "outputs": [
        {
          "output_type": "execute_result",
          "data": {
            "text/plain": [
              "[0, 2, 4, 6, 8]"
            ]
          },
          "metadata": {},
          "execution_count": 8
        }
      ]
    },
    {
      "cell_type": "code",
      "source": [
        "[numero * 5 / 2 for numero in range(0, 10, 2)]  "
      ],
      "metadata": {
        "colab": {
          "base_uri": "https://localhost:8080/"
        },
        "id": "vm70g3tkI4-u",
        "outputId": "5bd66fed-5b79-442c-8c14-44f27f3fd5ef"
      },
      "execution_count": null,
      "outputs": [
        {
          "output_type": "execute_result",
          "data": {
            "text/plain": [
              "[0.0, 5.0, 10.0, 15.0, 20.0]"
            ]
          },
          "metadata": {},
          "execution_count": 12
        }
      ]
    },
    {
      "cell_type": "code",
      "source": [
        "Lista_2 = [numero * 5 / 2 for numero in range(0, 10, 2)]  \n",
        "\n",
        "print(Lista_2)"
      ],
      "metadata": {
        "colab": {
          "base_uri": "https://localhost:8080/"
        },
        "id": "Pa4qJbUvI5Bo",
        "outputId": "34a29538-dbc2-477f-8fbc-823330cc9856"
      },
      "execution_count": null,
      "outputs": [
        {
          "output_type": "stream",
          "name": "stdout",
          "text": [
            "[0.0, 5.0, 10.0, 15.0, 20.0]\n"
          ]
        }
      ]
    },
    {
      "cell_type": "code",
      "source": [
        "Vazia = []\n",
        "\n",
        "for loop in range(0, 10):\n",
        "  Vazia.append(loop)\n",
        "\n",
        "\n",
        "print(Vazia)"
      ],
      "metadata": {
        "colab": {
          "base_uri": "https://localhost:8080/"
        },
        "id": "4muBN1gtI5FH",
        "outputId": "68100506-4365-4961-c0ad-3f4364d26be5"
      },
      "execution_count": null,
      "outputs": [
        {
          "output_type": "stream",
          "name": "stdout",
          "text": [
            "[0, 1, 2, 3, 4, 5, 6, 7, 8, 9]\n"
          ]
        }
      ]
    },
    {
      "cell_type": "markdown",
      "source": [
        "**ESTRUTURA DE LOOP - WHILE**\n",
        "\n",
        "Python While Loop é usado para executar um bloco de instruções repetidamente até que uma determinada condição seja satisfeita. E quando a condição se torna falsa, a linha imediatamente após o loop no programa é executada. While loop se enquadra na categoria de iteração indefinida. A iteração indefinida significa que o número de vezes que o loop é executado não é especificado explicitamente com antecedência. \n",
        "\n",
        "While expressão:\n",
        "*   loop\n",
        "\n",
        "\n"
      ],
      "metadata": {
        "id": "cwnQaWbpLb2X"
      }
    },
    {
      "cell_type": "code",
      "source": [
        "parar = 0\n",
        "\n",
        "while parar <= 10:\n",
        "  print(parar)\n",
        "  parar = parar + 1"
      ],
      "metadata": {
        "id": "11KBKpmLLbJ6",
        "outputId": "8b91e10b-0ceb-44c6-c377-91e3f0d3401e",
        "colab": {
          "base_uri": "https://localhost:8080/"
        }
      },
      "execution_count": null,
      "outputs": [
        {
          "output_type": "stream",
          "name": "stdout",
          "text": [
            "0\n",
            "1\n",
            "2\n",
            "3\n",
            "4\n",
            "5\n",
            "6\n",
            "7\n",
            "8\n",
            "9\n",
            "10\n"
          ]
        }
      ]
    },
    {
      "cell_type": "code",
      "source": [
        "loop = 0\n",
        "\n",
        "while loop <= 10:\n",
        "  print(loop)\n",
        "\n",
        "  if loop == 5:\n",
        "    for x in range(10):\n",
        "      print(x)\n",
        "\n",
        "  loop = loop + 1"
      ],
      "metadata": {
        "id": "fo8q4ezFORp8",
        "colab": {
          "base_uri": "https://localhost:8080/"
        },
        "outputId": "b456ccbe-b75d-44c9-a5df-e467fcc729cd"
      },
      "execution_count": 3,
      "outputs": [
        {
          "output_type": "stream",
          "name": "stdout",
          "text": [
            "0\n",
            "1\n",
            "2\n",
            "3\n",
            "4\n",
            "5\n",
            "0\n",
            "1\n",
            "2\n",
            "3\n",
            "4\n",
            "5\n",
            "6\n",
            "7\n",
            "8\n",
            "9\n",
            "6\n",
            "7\n",
            "8\n",
            "9\n",
            "10\n"
          ]
        }
      ]
    },
    {
      "cell_type": "code",
      "source": [
        "import random"
      ],
      "metadata": {
        "id": "aFIAKRdsE26c"
      },
      "execution_count": 14,
      "outputs": []
    },
    {
      "cell_type": "code",
      "source": [
        "random.randint(0, 10) # gera um valor aleatório entre 0 e 10"
      ],
      "metadata": {
        "colab": {
          "base_uri": "https://localhost:8080/"
        },
        "id": "4Kcz-MtUEpg5",
        "outputId": "7c2e00a1-4951-43ee-ab06-aadcf3b918e5"
      },
      "execution_count": 16,
      "outputs": [
        {
          "output_type": "execute_result",
          "data": {
            "text/plain": [
              "1"
            ]
          },
          "metadata": {},
          "execution_count": 16
        }
      ]
    },
    {
      "cell_type": "code",
      "source": [
        "# jogo\n",
        "\n",
        "while True:\n",
        "  eu = random.randint(0, 10)\n",
        "  voce = random.randint(0, 10)\n",
        "\n",
        "  print('Eu tirei o valor', eu)\n",
        "  print('Voce tirou', voce)\n",
        "\n",
        "  if eu > voce:\n",
        "    print('Ganhei!!!')\n",
        "    break\n",
        "\n",
        "  print('\\n')"
      ],
      "metadata": {
        "colab": {
          "base_uri": "https://localhost:8080/"
        },
        "id": "WQJyjX3tvT7s",
        "outputId": "866aad6c-6fee-4f0d-d7b9-13e7a0e30eb1"
      },
      "execution_count": 21,
      "outputs": [
        {
          "output_type": "stream",
          "name": "stdout",
          "text": [
            "Eu tirei o valor 0\n",
            "Voce tirou 8\n",
            "\n",
            "\n",
            "Eu tirei o valor 2\n",
            "Voce tirou 1\n",
            "Ganhei!!!\n"
          ]
        }
      ]
    },
    {
      "cell_type": "markdown",
      "source": [
        "**ESTRUTURA DE QUEBRA - BREAK E CONTINUE**\n",
        "\n",
        "O uso de loops no Python automatiza e repete as tarefas de maneira eficiente. Mas, às vezes, pode surgir uma condição em que você deseja sair completamente do loop, pular uma iteração ou ignorar essa condição. Isso pode ser feito por instruções de controle de loop. As instruções de controle de loop alteram a execução de sua sequência normal. Quando a execução sair de um escopo, todos os objetos automáticos que foram criados nesse escopo são destruídos. Python suporta as seguintes instruções de controle."
      ],
      "metadata": {
        "id": "HEcFnj5gIDZr"
      }
    },
    {
      "cell_type": "code",
      "source": [
        "import time\n",
        "\n",
        "Frutas = ['Morango', 'Pera', 'Uva', 'Abacaxi']\n",
        "\n",
        "for fruta in Frutas:\n",
        "  time.sleep(2)\n",
        "  print(fruta)\n",
        "\n",
        "  if fruta == 'Uva':\n",
        "    break"
      ],
      "metadata": {
        "colab": {
          "base_uri": "https://localhost:8080/"
        },
        "id": "-PibHVM0I-jv",
        "outputId": "af47585f-a35f-4010-dfdf-4e65b1c9f600"
      },
      "execution_count": 25,
      "outputs": [
        {
          "output_type": "stream",
          "name": "stdout",
          "text": [
            "Morango\n",
            "Pera\n",
            "Uva\n"
          ]
        }
      ]
    },
    {
      "cell_type": "code",
      "source": [
        "# continue - ignora a iteração\n",
        "\n",
        "for x in range(0, 11):\n",
        "\n",
        "  if x == 5:\n",
        "    continue\n",
        "    print('Cheguei aqui mas vou ser ignorado!')\n",
        "\n",
        "\n",
        "  print(x)"
      ],
      "metadata": {
        "colab": {
          "base_uri": "https://localhost:8080/"
        },
        "id": "i8ilCmksJ7xr",
        "outputId": "08b656bb-9c0b-4284-dda3-9bc306b99d33"
      },
      "execution_count": 27,
      "outputs": [
        {
          "output_type": "stream",
          "name": "stdout",
          "text": [
            "0\n",
            "1\n",
            "2\n",
            "3\n",
            "4\n",
            "6\n",
            "7\n",
            "8\n",
            "9\n",
            "10\n"
          ]
        }
      ]
    },
    {
      "cell_type": "markdown",
      "source": [
        "**ESTRUTURA DE FUNÇÕES**\n",
        "\n",
        "Uma função é um bloco de código que só é executado quando é chamado. \n",
        "Você pode passar dados, conhecidos como parâmetros, para uma função.\n",
        "Uma função pode retornar dados como resultado."
      ],
      "metadata": {
        "id": "6RiVV_3ld9VG"
      }
    },
    {
      "cell_type": "code",
      "source": [
        "def welcome():\n",
        "  print('********************* PYTHON ***********************')"
      ],
      "metadata": {
        "id": "wYZZ-gqvd1ee"
      },
      "execution_count": 1,
      "outputs": []
    },
    {
      "cell_type": "code",
      "source": [
        "# chamando a função\n",
        "\n",
        "welcome()"
      ],
      "metadata": {
        "id": "TR_M1F6serl5",
        "outputId": "63c48f5b-2a38-4e00-fb60-73776f145cd9",
        "colab": {
          "base_uri": "https://localhost:8080/"
        }
      },
      "execution_count": 3,
      "outputs": [
        {
          "output_type": "stream",
          "name": "stdout",
          "text": [
            "********************* PYTHON ***********************\n"
          ]
        }
      ]
    },
    {
      "cell_type": "code",
      "source": [
        ""
      ],
      "metadata": {
        "id": "aE8Lzd9ae57V"
      },
      "execution_count": null,
      "outputs": []
    },
    {
      "cell_type": "code",
      "source": [
        "# soma\n",
        "\n",
        "def somar(a, b):\n",
        "  soma = a + b\n",
        "  print(soma)"
      ],
      "metadata": {
        "id": "LgsSC-2Se6bq"
      },
      "execution_count": 4,
      "outputs": []
    },
    {
      "cell_type": "code",
      "source": [
        "somar(5, 25)"
      ],
      "metadata": {
        "id": "cX-jPlTyfG1s",
        "outputId": "8da9bcbf-7889-4212-e02d-59ad50735aee",
        "colab": {
          "base_uri": "https://localhost:8080/"
        }
      },
      "execution_count": 5,
      "outputs": [
        {
          "output_type": "stream",
          "name": "stdout",
          "text": [
            "30\n"
          ]
        }
      ]
    },
    {
      "cell_type": "code",
      "source": [
        "for y in range(0, 10):\n",
        "\n",
        "  import random\n",
        "\n",
        "  x = random.random() # importa valores entre 0 e 1\n",
        "  z = random.random() # importa valores entre 0 e 1\n",
        "\n",
        "  somar(x, z)"
      ],
      "metadata": {
        "id": "QWIfCbr3frOi",
        "outputId": "3eaebf80-e1de-45e1-9ffe-7022585acb87",
        "colab": {
          "base_uri": "https://localhost:8080/"
        }
      },
      "execution_count": 8,
      "outputs": [
        {
          "output_type": "stream",
          "name": "stdout",
          "text": [
            "1.2192793874654462\n",
            "0.7383534303112359\n",
            "1.0355053930306595\n",
            "1.1590753355522532\n",
            "1.5386865561996683\n",
            "0.8716652715403452\n",
            "0.8136622730873142\n",
            "1.1092309966763179\n",
            "0.8615161255602395\n",
            "1.4581869299551475\n"
          ]
        }
      ]
    },
    {
      "cell_type": "code",
      "source": [
        "from random import randint\n",
        "\n",
        "def sobrenome(texto, numero):\n",
        "  print(f'Nome dele é: {texto}')\n",
        "\n",
        "  if numero >= 10:\n",
        "    print('Maior que 10')\n",
        "  else:\n",
        "    print('NADA!')\n",
        "\n",
        "nomes = ['Odemir', 'Luigi', 'Mariana']\n",
        "\n",
        "for nome in nomes:\n",
        "  sobrenome(nome, randint(1, 12))"
      ],
      "metadata": {
        "id": "tOgNpZL4hn1T",
        "outputId": "f1213f37-345f-4ee7-9f5a-72723e1babd9",
        "colab": {
          "base_uri": "https://localhost:8080/"
        }
      },
      "execution_count": 22,
      "outputs": [
        {
          "output_type": "stream",
          "name": "stdout",
          "text": [
            "Nome dele é: Odemir\n",
            "NADA!\n",
            "Nome dele é: Luigi\n",
            "Maior que 10\n",
            "Nome dele é: Mariana\n",
            "NADA!\n"
          ]
        }
      ]
    },
    {
      "cell_type": "markdown",
      "source": [
        "**ESTRUTURA LAMBDA**\n",
        "\n",
        "Uma função lambda é uma pequena função anônima.\n",
        "Uma função lambda pode receber qualquer número de argumentos, mas pode ter apenas uma expressão."
      ],
      "metadata": {
        "id": "m8DfsHUmg_Mi"
      }
    },
    {
      "cell_type": "code",
      "source": [
        "soma = lambda valor: valor + 10"
      ],
      "metadata": {
        "id": "3SR4EShags1P"
      },
      "execution_count": 23,
      "outputs": []
    },
    {
      "cell_type": "code",
      "source": [
        "soma(90)"
      ],
      "metadata": {
        "id": "lbzsVauVi12y",
        "outputId": "c4295c11-6791-44cf-818b-4cdaee62ef8d",
        "colab": {
          "base_uri": "https://localhost:8080/"
        }
      },
      "execution_count": 24,
      "outputs": [
        {
          "output_type": "execute_result",
          "data": {
            "text/plain": [
              "100"
            ]
          },
          "metadata": {},
          "execution_count": 24
        }
      ]
    },
    {
      "cell_type": "code",
      "source": [
        "soma_02 = lambda valor_01, valor_02: valor_01 + valor_02"
      ],
      "metadata": {
        "id": "cLcVtHR5i_lD"
      },
      "execution_count": 25,
      "outputs": []
    },
    {
      "cell_type": "code",
      "source": [
        "soma_02(50, 20)"
      ],
      "metadata": {
        "id": "-zJCaJthjMkr",
        "outputId": "08567a09-3792-4eea-a0e4-be67c101abe4",
        "colab": {
          "base_uri": "https://localhost:8080/"
        }
      },
      "execution_count": 26,
      "outputs": [
        {
          "output_type": "execute_result",
          "data": {
            "text/plain": [
              "70"
            ]
          },
          "metadata": {},
          "execution_count": 26
        }
      ]
    },
    {
      "cell_type": "code",
      "source": [
        "exemplo = lambda valor: 'Verdadeiro' if valor % 2 == 0 else 'Falso'\n",
        "\n",
        "exemplo(2)"
      ],
      "metadata": {
        "id": "4OnSHZ85jv_z",
        "outputId": "10fef9e6-718a-4fce-e803-fde3324aa6dc",
        "colab": {
          "base_uri": "https://localhost:8080/",
          "height": 35
        }
      },
      "execution_count": 27,
      "outputs": [
        {
          "output_type": "execute_result",
          "data": {
            "text/plain": [
              "'Verdadeiro'"
            ],
            "application/vnd.google.colaboratory.intrinsic+json": {
              "type": "string"
            }
          },
          "metadata": {},
          "execution_count": 27
        }
      ]
    }
  ]
}