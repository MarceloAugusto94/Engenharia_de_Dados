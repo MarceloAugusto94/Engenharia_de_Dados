{
  "nbformat": 4,
  "nbformat_minor": 0,
  "metadata": {
    "colab": {
      "name": "Consumindo API com Python e consultando endereço pelo CEP.ipynb",
      "provenance": [],
      "authorship_tag": "ABX9TyPe83bL9U6wIUusvdxOAGpY"
    },
    "kernelspec": {
      "name": "python3",
      "display_name": "Python 3"
    },
    "language_info": {
      "name": "python"
    }
  },
  "cells": [
    {
      "cell_type": "code",
      "execution_count": 1,
      "metadata": {
        "colab": {
          "base_uri": "https://localhost:8080/"
        },
        "id": "38_-7BsYT0lM",
        "outputId": "394ce9ba-5bb9-4be0-ae7b-dac39f1a08f3"
      },
      "outputs": [
        {
          "output_type": "stream",
          "name": "stdout",
          "text": [
            "Looking in indexes: https://pypi.org/simple, https://us-python.pkg.dev/colab-wheels/public/simple/\n",
            "Requirement already satisfied: requests in /usr/local/lib/python3.7/dist-packages (2.23.0)\n",
            "Requirement already satisfied: certifi>=2017.4.17 in /usr/local/lib/python3.7/dist-packages (from requests) (2022.6.15)\n",
            "Requirement already satisfied: urllib3!=1.25.0,!=1.25.1,<1.26,>=1.21.1 in /usr/local/lib/python3.7/dist-packages (from requests) (1.24.3)\n",
            "Requirement already satisfied: idna<3,>=2.5 in /usr/local/lib/python3.7/dist-packages (from requests) (2.10)\n",
            "Requirement already satisfied: chardet<4,>=3.0.2 in /usr/local/lib/python3.7/dist-packages (from requests) (3.0.4)\n"
          ]
        }
      ],
      "source": [
        "!pip install requests # for Windows"
      ]
    },
    {
      "cell_type": "code",
      "source": [
        "import requests"
      ],
      "metadata": {
        "id": "qZ26CpSET86t"
      },
      "execution_count": 2,
      "outputs": []
    },
    {
      "cell_type": "code",
      "source": [
        "from requests.api import request\n",
        "\n",
        "def main():\n",
        "  print('######################')\n",
        "  print('#### CONSULTA CEP ####')\n",
        "  print('######################')\n",
        "  print()\n",
        "\n",
        "  cep_input = input('Digite o CEP para a consulta: ')\n",
        "  print()\n",
        "\n",
        "  if len(cep_input) != 8:\n",
        "    print('Quantidade de digitos inválida!')\n",
        "    exit()\n",
        "\n",
        "\n",
        "  requisicao = requests.get('https://viacep.com.br/ws/{}/json/'.format(cep_input))\n",
        "\n",
        "  # print(requisicao.json())\n",
        "\n",
        "  adress_data = requisicao.json()\n",
        "\n",
        "  if 'erro' not in adress_data:\n",
        "    print('==> CEP ENCONTRADO <==')\n",
        "    print('CEP: {}'.format(adress_data['cep']))\n",
        "    print('Logradouro: {}'.format(adress_data['logradouro']))\n",
        "    print('Complemento: {}'.format(adress_data['complemento']))\n",
        "    print('Bairro: {}'.format(adress_data['bairro']))\n",
        "    print('Cidade: {}'.format(adress_data['localidade']))\n",
        "    print('Estado: {}'.format(adress_data['uf']))\n",
        "  else: \n",
        "    print('{}: CEP inválido!'.format(cep_input))\n",
        "    print('-----------------------------------')\n",
        "\n",
        "\n",
        "  option = int(input('Deseja realizar uma nova consulta?\\n1. Sim\\n2. Não\\n'))\n",
        "  if option == 1:\n",
        "    main()\n",
        "  else:\n",
        "    print('\\nSaindo...')\n",
        "\n",
        "if __name__ == '__main__':\n",
        "  main()"
      ],
      "metadata": {
        "colab": {
          "base_uri": "https://localhost:8080/"
        },
        "id": "3bVv_L6jUEUl",
        "outputId": "6211ea44-e05d-45a1-92b0-b95429c53c95"
      },
      "execution_count": 11,
      "outputs": [
        {
          "output_type": "stream",
          "name": "stdout",
          "text": [
            "######################\n",
            "#### CONSULTA CEP ####\n",
            "######################\n",
            "\n",
            "Digite o CEP para a consulta: 12345678\n",
            "\n",
            "12345678: CEP inválido!\n",
            "-----------------------------------\n",
            "Deseja realizar uma nova consulta?\n",
            "1. Sim\n",
            "2. Não\n",
            "1\n",
            "######################\n",
            "#### CONSULTA CEP ####\n",
            "######################\n",
            "\n",
            "Digite o CEP para a consulta: 21235280\n",
            "\n",
            "==> CEP ENCONTRADO <==\n",
            "CEP: 21235-280\n",
            "Logradouro: Estrada do Colégio\n",
            "Complemento: \n",
            "Bairro: Colégio\n",
            "Cidade: Rio de Janeiro\n",
            "Estado: RJ\n",
            "Deseja realizar uma nova consulta?\n",
            "1. Sim\n",
            "2. Não\n",
            "2\n",
            "\n",
            "Saindo...\n"
          ]
        }
      ]
    }
  ]
}