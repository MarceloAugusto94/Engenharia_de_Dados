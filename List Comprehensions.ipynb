{
 "cells": [
  {
   "cell_type": "markdown",
   "id": "236db419",
   "metadata": {},
   "source": [
    "# List Comprehension\n",
    "\n",
    "* É a forma com que fazemos filtros e mapeamentos dentro de uma lista. Assemelham-se às funções FILTER() e MAP() que veremos mais à frente"
   ]
  },
  {
   "cell_type": "code",
   "execution_count": 1,
   "id": "57b1f9de",
   "metadata": {},
   "outputs": [],
   "source": [
    "lista = [1, 2, 3, 4, 5, 6, 7, 8, 9, 10]"
   ]
  },
  {
   "cell_type": "code",
   "execution_count": 2,
   "id": "dc9c6e65",
   "metadata": {},
   "outputs": [
    {
     "name": "stdout",
     "output_type": "stream",
     "text": [
      "[1, 2, 3, 4, 5, 6, 7, 8, 9, 10]\n"
     ]
    }
   ],
   "source": [
    "print(lista)"
   ]
  },
  {
   "cell_type": "code",
   "execution_count": 3,
   "id": "bb571a31",
   "metadata": {},
   "outputs": [
    {
     "data": {
      "text/plain": [
       "list"
      ]
     },
     "execution_count": 3,
     "metadata": {},
     "output_type": "execute_result"
    }
   ],
   "source": [
    "type(lista)"
   ]
  },
  {
   "cell_type": "code",
   "execution_count": 4,
   "id": "d7626643",
   "metadata": {},
   "outputs": [
    {
     "data": {
      "text/plain": [
       "[1, 2, 3, 4, 5, 6, 7, 8, 9, 10, 1, 2, 3, 4, 5, 6, 7, 8, 9, 10]"
      ]
     },
     "execution_count": 4,
     "metadata": {},
     "output_type": "execute_result"
    }
   ],
   "source": [
    "dobro = lambda x: x * 2\n",
    "dobro(lista)"
   ]
  },
  {
   "cell_type": "code",
   "execution_count": 5,
   "id": "a06a43c0",
   "metadata": {},
   "outputs": [
    {
     "name": "stdout",
     "output_type": "stream",
     "text": [
      "[1, 4, 9, 16, 25, 36, 49, 64, 81, 100]\n"
     ]
    }
   ],
   "source": [
    "# Imprimindo uma lista com o quadrado de todos os números da lista\n",
    "\n",
    "lst = []\n",
    "\n",
    "for i in lista: \n",
    "    num = i ** 2\n",
    "    lst.append(num)\n",
    "    \n",
    "print(lst)"
   ]
  },
  {
   "cell_type": "code",
   "execution_count": 6,
   "id": "77f0452e",
   "metadata": {},
   "outputs": [
    {
     "data": {
      "text/plain": [
       "[1, 4, 9, 16, 25, 36, 49, 64, 81, 100]"
      ]
     },
     "execution_count": 6,
     "metadata": {},
     "output_type": "execute_result"
    }
   ],
   "source": [
    "# Elevar ao quadrado para cada item da lista [List Comprehension]\n",
    "# O que quer retornar vem na frente \n",
    "\n",
    "[item ** 2 for item in lista]"
   ]
  },
  {
   "cell_type": "code",
   "execution_count": 7,
   "id": "dfa85483",
   "metadata": {},
   "outputs": [
    {
     "data": {
      "text/plain": [
       "[2, 4, 6, 8, 10]"
      ]
     },
     "execution_count": 7,
     "metadata": {},
     "output_type": "execute_result"
    }
   ],
   "source": [
    "# Para cada item na lista, verificar se o item é Par\n",
    "[item for item in lista if item % 2 == 0]"
   ]
  },
  {
   "cell_type": "code",
   "execution_count": 8,
   "id": "7631545a",
   "metadata": {},
   "outputs": [
    {
     "data": {
      "text/plain": [
       "[4, 16, 36, 64, 100]"
      ]
     },
     "execution_count": 8,
     "metadata": {},
     "output_type": "execute_result"
    }
   ],
   "source": [
    "# Elevar ao quadrado e para cada item da lista, verificar se é Par\n",
    "[item ** 2 for item in lista if item % 2 == 0]"
   ]
  },
  {
   "cell_type": "code",
   "execution_count": 9,
   "id": "e28a2247",
   "metadata": {},
   "outputs": [],
   "source": [
    "pessoa = [\"Amo como ama o amor. Não conheço nenhuma outra razão para amar senão mar. Que queres que te diga, além de que te amo, se o que quero dizer-te é que te amo?\",\n",
    "                \"Às vezes ouço passar o vento; e só de ouvir o vento passar, vale a pena ter nascido.\",\n",
    "                \"Tudo vale a pena quando a alma não é pequena.\",\n",
    "                \"Tenho em mim todos os sonhos do mundo.\",\n",
    "                \"Tenho pensamentos que, se pudesse revelá-los e fazê-los viver, acrescentariam nova luminosidade às estrelas, nova beleza ao mundo e maior amor ao coração dos homens.\",\n",
    "                \"O poeta é um fingidor. Finge tão completamente. Que chega a fingir que é dor. A dor que deveras sente.\",\n",
    "                \"O próprio viver é morrer, porque não temos um dia a mais na nossa vida que não tenhamos, nisso, um dia a menos nela.\",\n",
    "                \"Matar o sonho é matarmo-nos. É mutilar a nossa alma. O sonho é o que temos de realmente nosso, de impenetravelmente e inexpugnavelmente nosso.\"]"
   ]
  },
  {
   "cell_type": "code",
   "execution_count": 11,
   "id": "19023901",
   "metadata": {},
   "outputs": [
    {
     "data": {
      "text/plain": [
       "['Amo como ama o amor. Não conheço nenhuma outra razão para amar senão mar. Que queres que te diga, além de que te amo, se o que quero dizer-te é que te amo?',\n",
       " 'Tenho pensamentos que, se pudesse revelá-los e fazê-los viver, acrescentariam nova luminosidade às estrelas, nova beleza ao mundo e maior amor ao coração dos homens.']"
      ]
     },
     "execution_count": 11,
     "metadata": {},
     "output_type": "execute_result"
    }
   ],
   "source": [
    "[item for item in pessoa if item.count(\"amor\") >= 1]"
   ]
  },
  {
   "cell_type": "code",
   "execution_count": 13,
   "id": "0f33a7cf",
   "metadata": {},
   "outputs": [
    {
     "data": {
      "text/plain": [
       "[3.0, 4.0, 5.0]"
      ]
     },
     "execution_count": 13,
     "metadata": {},
     "output_type": "execute_result"
    }
   ],
   "source": [
    "# Convertendo para float cada item da lista e imprimindo os maiores ou iguais a 3\n",
    "lista = ['1', '2', '3', '4', '5']\n",
    "\n",
    "[float(item) for item in lista if item >= '3']"
   ]
  },
  {
   "cell_type": "code",
   "execution_count": 14,
   "id": "f0155194",
   "metadata": {},
   "outputs": [
    {
     "data": {
      "text/plain": [
       "['3', '4', '5']"
      ]
     },
     "execution_count": 14,
     "metadata": {},
     "output_type": "execute_result"
    }
   ],
   "source": [
    "[item for item in lista if item >= '3']"
   ]
  }
 ],
 "metadata": {
  "kernelspec": {
   "display_name": "Python 3",
   "language": "python",
   "name": "python3"
  },
  "language_info": {
   "codemirror_mode": {
    "name": "ipython",
    "version": 3
   },
   "file_extension": ".py",
   "mimetype": "text/x-python",
   "name": "python",
   "nbconvert_exporter": "python",
   "pygments_lexer": "ipython3",
   "version": "3.8.8"
  }
 },
 "nbformat": 4,
 "nbformat_minor": 5
}
