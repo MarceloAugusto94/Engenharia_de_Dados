{
 "cells": [
  {
   "cell_type": "code",
   "execution_count": 23,
   "id": "9b80d630",
   "metadata": {},
   "outputs": [],
   "source": [
    "df = (spark\n",
    "      .read\n",
    "      .format(\"csv\")\n",
    "      .option(\"header\", \"False\")\n",
    "      .option(\"inferSchema\", \"False\")\n",
    "      .option(\"delimiter\", \";\")\n",
    "      .load(\"dataset/arquivo_geral.csv\")\n",
    ")\n",
    "\n",
    "import pyspark.sql.functions as f"
   ]
  },
  {
   "cell_type": "code",
   "execution_count": 19,
   "id": "eab8ea34",
   "metadata": {},
   "outputs": [],
   "source": [
    "from pyspark.sql.types import StructType, StructField, StringType, IntegerType"
   ]
  },
  {
   "cell_type": "code",
   "execution_count": 24,
   "id": "dd61ed70",
   "metadata": {},
   "outputs": [
    {
     "name": "stdout",
     "output_type": "stream",
     "text": [
      "root\n",
      " |-- _c0: string (nullable = true)\n",
      " |-- _c1: string (nullable = true)\n",
      " |-- _c2: string (nullable = true)\n",
      " |-- _c3: string (nullable = true)\n",
      " |-- _c4: string (nullable = true)\n",
      " |-- _c5: string (nullable = true)\n",
      " |-- _c6: string (nullable = true)\n",
      "\n"
     ]
    }
   ],
   "source": [
    "df.printSchema()"
   ]
  },
  {
   "cell_type": "code",
   "execution_count": 21,
   "id": "acc4af58",
   "metadata": {},
   "outputs": [
    {
     "name": "stdout",
     "output_type": "stream",
     "text": [
      "root\n",
      " |-- Um: string (nullable = true)\n",
      " |-- Dois: string (nullable = true)\n",
      " |-- Tres: string (nullable = true)\n",
      " |-- Quatro: string (nullable = true)\n",
      " |-- Cinco: string (nullable = true)\n",
      " |-- Seis: string (nullable = true)\n",
      " |-- Sete: string (nullable = true)\n",
      "\n"
     ]
    }
   ],
   "source": [
    "# 1 Forma\n",
    "\n",
    "lista = [\"Um\", \"Dois\", \"Tres\", \"Quatro\", \"Cinco\", \"Seis\", \"Sete\"]\n",
    "\n",
    "df = (spark\n",
    "      .read\n",
    "      .format(\"csv\")\n",
    "      .option(\"header\", \"False\")\n",
    "      .option(\"inferSchema\", \"True\")\n",
    "      .option(\"delimiter\", \";\")\n",
    "      .load(\"dataset/arquivo_geral.csv\").toDF(*lista)\n",
    ")\n",
    "\n",
    "df.printSchema()"
   ]
  },
  {
   "cell_type": "code",
   "execution_count": 25,
   "id": "cd291117",
   "metadata": {},
   "outputs": [
    {
     "name": "stdout",
     "output_type": "stream",
     "text": [
      "root\n",
      " |-- Um: string (nullable = true)\n",
      " |-- Dois: string (nullable = true)\n",
      " |-- Tres: string (nullable = true)\n",
      " |-- Quatro: string (nullable = true)\n",
      " |-- Cinco: string (nullable = true)\n",
      " |-- Seis: string (nullable = true)\n",
      " |-- Sete: string (nullable = true)\n",
      "\n"
     ]
    }
   ],
   "source": [
    "# 2 Forma\n",
    "\n",
    "df = (df.select(f.col(\"_c0\").alias(\"Um\"),\n",
    "                f.col(\"_c1\").alias(\"Dois\"),\n",
    "                f.col(\"_c2\").alias(\"Tres\"),\n",
    "                f.col(\"_c3\").alias(\"Quatro\"),\n",
    "                f.col(\"_c4\").alias(\"Cinco\"),\n",
    "                f.col(\"_c5\").alias(\"Seis\"),\n",
    "                f.col(\"_c6\").alias(\"Sete\")))\n",
    "\n",
    "df.printSchema()"
   ]
  }
 ],
 "metadata": {
  "kernelspec": {
   "display_name": "Python 3",
   "language": "python",
   "name": "python3"
  },
  "language_info": {
   "codemirror_mode": {
    "name": "ipython",
    "version": 3
   },
   "file_extension": ".py",
   "mimetype": "text/x-python",
   "name": "python",
   "nbconvert_exporter": "python",
   "pygments_lexer": "ipython3",
   "version": "3.8.8"
  }
 },
 "nbformat": 4,
 "nbformat_minor": 5
}
