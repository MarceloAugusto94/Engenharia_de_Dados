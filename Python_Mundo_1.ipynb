{
  "nbformat": 4,
  "nbformat_minor": 0,
  "metadata": {
    "colab": {
      "provenance": [],
      "authorship_tag": "ABX9TyN6SDmJtkQJG1na4fzxFwzs"
    },
    "kernelspec": {
      "name": "python3",
      "display_name": "Python 3"
    },
    "language_info": {
      "name": "python"
    }
  },
  "cells": [
    {
      "cell_type": "code",
      "execution_count": null,
      "metadata": {
        "colab": {
          "base_uri": "https://localhost:8080/"
        },
        "id": "LtCjWvh9U4jc",
        "outputId": "558903d7-09ff-4c6d-a92e-7c05e7fcb423"
      },
      "outputs": [
        {
          "output_type": "stream",
          "name": "stdout",
          "text": [
            "Olá, Mundo! \n",
            "11\n",
            "74\n",
            "Olá 5\n",
            "Guanabara 25 75.8\n"
          ]
        }
      ],
      "source": [
        "print('Olá, Mundo! ')\n",
        "print(7 + 4)\n",
        "print('7' + '4')\n",
        "print('Olá', 5)\n",
        "\n",
        "# toda variável é um objeto\n",
        "nome = 'Guanabara' \n",
        "idade = 25\n",
        "peso = 75.8\n",
        "\n",
        "print(nome, idade, peso)"
      ]
    },
    {
      "cell_type": "code",
      "source": [
        "nome = input('Digite seu nome: ')\n",
        "idade = input('Digite sua idade: ')\n",
        "peso = input('Digite seu peso: ')\n",
        "\n",
        "print(nome, idade, peso)"
      ],
      "metadata": {
        "colab": {
          "base_uri": "https://localhost:8080/"
        },
        "id": "0l8Xd_jxVIco",
        "outputId": "544592d6-442f-47f9-8815-77017bcac72f"
      },
      "execution_count": null,
      "outputs": [
        {
          "output_type": "stream",
          "name": "stdout",
          "text": [
            "Digite seu nome: Marcelo\n",
            "Digite sua idade: 28\n",
            "Digite seu peso: 83.5\n",
            "Marcelo 28 83.5\n"
          ]
        }
      ]
    },
    {
      "cell_type": "code",
      "source": [
        "# DESAFIO 01 \n",
        "\n",
        "nome = input('Qual é o seu nome? ')\n",
        "print(f\"Olá {nome}, prazer em te conhecer!\")"
      ],
      "metadata": {
        "colab": {
          "base_uri": "https://localhost:8080/"
        },
        "id": "hmGyhg5oXMoS",
        "outputId": "64357b25-1b94-4a80-c0a5-7338c71cc632"
      },
      "execution_count": null,
      "outputs": [
        {
          "output_type": "stream",
          "name": "stdout",
          "text": [
            "Qual é o seu nome? Marcelo\n",
            "Olá Marcelo, prazer em te conhecer!\n"
          ]
        }
      ]
    },
    {
      "cell_type": "code",
      "source": [
        "# DESAFIO 02\n",
        "\n",
        "dia = input('Dia = ')\n",
        "mes = input('Mes = ')\n",
        "ano = input('Ano = ')\n",
        "print(f'Você nasceu no dia {dia} de {mes} de {ano}. Correto?')"
      ],
      "metadata": {
        "colab": {
          "base_uri": "https://localhost:8080/"
        },
        "id": "CVQtldwPZV8-",
        "outputId": "43ce785d-d4fa-424d-a721-c36ca70e542b"
      },
      "execution_count": null,
      "outputs": [
        {
          "output_type": "stream",
          "name": "stdout",
          "text": [
            "Dia = 16\n",
            "Mes = Maio\n",
            "Ano = 1994\n",
            "Você nasceu no dia 16 de Maio de 1994. Correto?\n"
          ]
        }
      ]
    },
    {
      "cell_type": "code",
      "source": [
        "# DESAFIO 03\n",
        "\n",
        "n1 = int(input('Primeiro número: '))\n",
        "n2 = int(input('Segundo número: '))\n",
        "print(f'A soma é {n1 + n2}')"
      ],
      "metadata": {
        "colab": {
          "base_uri": "https://localhost:8080/"
        },
        "id": "vXlDuE9yaigH",
        "outputId": "79ed86da-fc09-4fb3-8743-e1b5e36530b3"
      },
      "execution_count": null,
      "outputs": [
        {
          "output_type": "stream",
          "name": "stdout",
          "text": [
            "Primeiro número: 15\n",
            "Segundo número: 25\n",
            "A soma é 40\n"
          ]
        }
      ]
    },
    {
      "cell_type": "code",
      "source": [
        "# DESAFIO 03\n",
        "\n",
        "n1 = int(input('Primeiro número: '))\n",
        "n2 = int(input('Segundo número: '))\n",
        "soma = n1 + n2\n",
        "print('A soma entre {0} e {1} é {2}'.format(n1, n2, soma))"
      ],
      "metadata": {
        "colab": {
          "base_uri": "https://localhost:8080/"
        },
        "id": "p4plnHkmwLvw",
        "outputId": "f08e5ed4-739a-44d4-ef2c-003e7ba24fbe"
      },
      "execution_count": null,
      "outputs": [
        {
          "output_type": "stream",
          "name": "stdout",
          "text": [
            "Primeiro número: 5\n",
            "Segundo número: 10\n",
            "A soma entre 5 e 10 é 15\n"
          ]
        }
      ]
    },
    {
      "cell_type": "code",
      "source": [
        "n = input('Digite algo: ')\n",
        "print(n.isnumeric())"
      ],
      "metadata": {
        "colab": {
          "base_uri": "https://localhost:8080/"
        },
        "id": "iVM7dhaZxOws",
        "outputId": "c064a85b-937e-47bb-ba97-1e6c787f7f3e"
      },
      "execution_count": null,
      "outputs": [
        {
          "output_type": "stream",
          "name": "stdout",
          "text": [
            "Digite algo: 5\n",
            "True\n"
          ]
        }
      ]
    },
    {
      "cell_type": "code",
      "source": [
        "n = input('Digite algo: ')\n",
        "print(n.isalpha())"
      ],
      "metadata": {
        "colab": {
          "base_uri": "https://localhost:8080/"
        },
        "id": "muEzwQXeyU1C",
        "outputId": "35be0cb0-7adb-4be9-830a-7251d0e8b3f1"
      },
      "execution_count": null,
      "outputs": [
        {
          "output_type": "stream",
          "name": "stdout",
          "text": [
            "Digite algo: A\n",
            "True\n"
          ]
        }
      ]
    },
    {
      "cell_type": "code",
      "source": [
        "n = input('Digite algo: ')\n",
        "print(n.isalnum())"
      ],
      "metadata": {
        "colab": {
          "base_uri": "https://localhost:8080/"
        },
        "id": "wU3QlxXtyfyW",
        "outputId": "c4443afd-9b1c-4f41-bc08-9f8a18691173"
      },
      "execution_count": null,
      "outputs": [
        {
          "output_type": "stream",
          "name": "stdout",
          "text": [
            "Digite algo: 3A\n",
            "True\n"
          ]
        }
      ]
    },
    {
      "cell_type": "code",
      "source": [
        "informacao = input('Digite algo: ')\n",
        "print(type(informacao))\n",
        "print(informacao.isnumeric())\n",
        "print(informacao.isalpha())\n",
        "print(informacao.isalnum())"
      ],
      "metadata": {
        "colab": {
          "base_uri": "https://localhost:8080/"
        },
        "id": "s-Dh39TizGhQ",
        "outputId": "ad4999e8-961f-455d-9d93-63fa838b65d4"
      },
      "execution_count": null,
      "outputs": [
        {
          "output_type": "stream",
          "name": "stdout",
          "text": [
            "Digite algo: 5H\n",
            "<class 'str'>\n",
            "False\n",
            "False\n",
            "True\n"
          ]
        }
      ]
    },
    {
      "cell_type": "code",
      "source": [
        "# DESAFIO 04\n",
        "\n",
        "a = input('Digite algo: ')\n",
        "print(f'O tipo primitivo desse valor é {type(a)}')\n",
        "print(f'Só tem espaços? {a.isspace()}')\n",
        "print(f'É um número? {a.isnumeric()}')\n",
        "print(f'É alfabético? {a.isalpha()}')\n",
        "print(f'É alfanumérico? {a.isalnum()}')\n",
        "print(f'Está em maiúsculas? {a.isupper()}')\n",
        "print(f'Está em minúsculas? {a.islower()}')\n",
        "print(f'Está capitalizada? {a.istitle()}')"
      ],
      "metadata": {
        "colab": {
          "base_uri": "https://localhost:8080/"
        },
        "id": "JkdZekFueswX",
        "outputId": "009d8c41-9809-4122-ef20-b5fb6ba5f9b6"
      },
      "execution_count": 17,
      "outputs": [
        {
          "output_type": "stream",
          "name": "stdout",
          "text": [
            "Digite algo: Python\n",
            "O tipo primitivo desse valor é <class 'str'>\n",
            "Só tem espaços? False\n",
            "É um número? False\n",
            "É alfabético? True\n",
            "É alfanumérico? True\n",
            "Está em maiúsculas? False\n",
            "Está em minúsculas? False\n",
            "Está capitalizada? True\n"
          ]
        }
      ]
    },
    {
      "cell_type": "code",
      "source": [
        "nome = str(input('Qual é seu nome? '))\n",
        "print(f'Prazer em te conhecer, {nome:>20}!')\n",
        "print(f'Prazer em te conhecer, {nome:<20}!')\n",
        "print('Prazer em te conhecer, {:^20}!'.format(nome))\n",
        "print('Prazer em te conhecer, {:=^20}!'.format(nome))"
      ],
      "metadata": {
        "colab": {
          "base_uri": "https://localhost:8080/"
        },
        "id": "Qs597ShqsEnr",
        "outputId": "35219563-2f85-4518-99b3-d57d3ba09807"
      },
      "execution_count": 29,
      "outputs": [
        {
          "output_type": "stream",
          "name": "stdout",
          "text": [
            "Qual é seu nome? Marcelo\n",
            "Prazer em te conhecer,              Marcelo!\n",
            "Prazer em te conhecer, Marcelo             !\n",
            "Prazer em te conhecer,       Marcelo       !\n",
            "Prazer em te conhecer, ======Marcelo=======!\n"
          ]
        }
      ]
    },
    {
      "cell_type": "code",
      "source": [
        "# ORDEM DE PRECEDÊNCIA\n",
        "\n",
        "# 5 + 3 x 2 = 11\n",
        "# 3 * 5 + 4 ** 2 = 3 * 5 + 16 = 15 + 16 = 31 \n",
        "# 3 * (5 + 4) ** 2 = 3 * 9 ** 2 = 3 * 81 = 243\n",
        "\n",
        "print(pow(4, 3))\n",
        "print(81**(1/2)) # descobrir raiz quadrada de 81 \n",
        "print(127**(1/3)) # descobrir raiz cubica de 127\n",
        "print('='*20)"
      ],
      "metadata": {
        "colab": {
          "base_uri": "https://localhost:8080/"
        },
        "id": "OzwlYfMzl5Pk",
        "outputId": "18cc96f7-ec12-4932-ba4e-718123c6e143"
      },
      "execution_count": 22,
      "outputs": [
        {
          "output_type": "stream",
          "name": "stdout",
          "text": [
            "64\n",
            "9.0\n",
            "5.026525695313479\n",
            "====================\n"
          ]
        }
      ]
    },
    {
      "cell_type": "code",
      "source": [
        "n1 = int(input('Digite o primeiro valor: '))\n",
        "n2 = int(input('Digite o segundo valor: '))\n",
        "print('\\n')\n",
        "s = n1 + n2\n",
        "m = n1 * n2\n",
        "d = n1 / n2\n",
        "di = n1 // n2\n",
        "e = n1 ** n2\n",
        "\n",
        "# PRIMEIRA OPÇÃO\n",
        "print(f'A soma é {s}, o produto é {m} e a divisão é {d:.3f}') # d:.3f > quantidade de casas decimais flutuantes\n",
        "print(f'Divisão inteira {di} e potência {e}')\n",
        "print('\\n')\n",
        "# SEGUNDA OPÇÃO\n",
        "print(f'A soma é {s}, o produto é {m} e a divisão é {d:.3f}', end = ' ') # end = ' ' > printa tudo na mesma linha\n",
        "print(f'Divisão inteira {di} e potência {e}')\n",
        "print('\\n')\n",
        "# TERCEIRA OPÇÃO \n",
        "print(f'A soma é {s},\\n o produto é {m}\\n e a divisão é {d:.3f}\\n', end = ' >>> ') # end = ' ' > printa tudo na mesma linha\n",
        "print(f'Divisão inteira {di} e potência {e}')"
      ],
      "metadata": {
        "colab": {
          "base_uri": "https://localhost:8080/"
        },
        "id": "GJzjQHGAyCpx",
        "outputId": "402d1fd7-751c-4762-f867-2871268dfe1b"
      },
      "execution_count": 18,
      "outputs": [
        {
          "output_type": "stream",
          "name": "stdout",
          "text": [
            "Digite o primeiro valor: 9\n",
            "Digite o segundo valor: 6\n",
            "\n",
            "\n",
            "A soma é 15, o produto é 54 e a divisão é 1.500\n",
            "Divisão inteira 1 e potência 531441\n",
            "\n",
            "\n",
            "A soma é 15, o produto é 54 e a divisão é 1.500 Divisão inteira 1 e potência 531441\n",
            "\n",
            "\n",
            "A soma é 15,\n",
            " o produto é 54\n",
            " e a divisão é 1.500\n",
            " >>> Divisão inteira 1 e potência 531441\n"
          ]
        }
      ]
    },
    {
      "cell_type": "code",
      "source": [
        "# DESAFIO 05\n",
        "\n",
        "numero = int(input('Digite um número: '))\n",
        "ant = numero - 1\n",
        "suc = numero + 1\n",
        "\n",
        "print(f'Seu antecessor é: {ant}')\n",
        "print(f'Seu sucessor é: {suc}')\n",
        "\n",
        "print('Analisando o valor {}, seu sucessor é {} e seu antecessor é {}'.format(numero, (numero + 1), (numero - 1))) #"
      ],
      "metadata": {
        "colab": {
          "base_uri": "https://localhost:8080/"
        },
        "id": "eJGR1bDtNxwp",
        "outputId": "ba64bcd0-9580-4795-838b-140c4bc89a2c"
      },
      "execution_count": 16,
      "outputs": [
        {
          "output_type": "stream",
          "name": "stdout",
          "text": [
            "Digite um número: 5\n",
            "Seu antecessor é: 4\n",
            "Seu sucessor é: 6\n",
            "Analisando o valor 5, seu sucessor é 6 e seu antecessor é 4\n"
          ]
        }
      ]
    },
    {
      "cell_type": "code",
      "source": [
        "# DESAFIO 06\n",
        "\n",
        "n = int(input('Digite um número: '))\n",
        "\n",
        "d = n * 2\n",
        "t = n * 3\n",
        "#q = n ** 2\n",
        "q = n ** (1/2) #\n",
        "\n",
        "print('O dobro de {0} é {1} e seu triplo é {2} e sua raiz quadrada é {3}'.format(n, d, t, q))\n",
        "\n",
        "print('O dobro de {0} é {1} e seu triplo é {2} e sua raiz quadrada é {3:.2f}'.format(n, d, t, q)) #\n",
        "\n",
        "print('O dobro de {0} é {1} e seu triplo é {2} e sua raiz quadrada é {3:.2f}'.format(n, (n * 2), (n * 3), (n ** (1/2)))) #\n",
        "\n",
        "print('O dobro de {0} é {1} e seu triplo é {2} e sua raiz quadrada é {3:.2f}'.format(n, (n * 2), (n * 3), pow(n, (1/2)))) #"
      ],
      "metadata": {
        "colab": {
          "base_uri": "https://localhost:8080/"
        },
        "id": "T_XHYhdENxqa",
        "outputId": "81e58635-325b-4ce4-8fcb-b82629e816a5"
      },
      "execution_count": 23,
      "outputs": [
        {
          "output_type": "stream",
          "name": "stdout",
          "text": [
            "Digite um número: 81\n",
            "O dobro de 81 é 162 e seu triplo é 243 e sua raiz quadrada é 9.0\n",
            "O dobro de 81 é 162 e seu triplo é 243 e sua raiz quadrada é 9.00\n",
            "O dobro de 81 é 162 e seu triplo é 243 e sua raiz quadrada é 9.00\n",
            "O dobro de 81 é 162 e seu triplo é 243 e sua raiz quadrada é 9.00\n"
          ]
        }
      ]
    },
    {
      "cell_type": "code",
      "source": [
        "# DESAFIO 07\n",
        "\n",
        "nota01 = float(input('Digite sua primeira nota: '))\n",
        "nota02 = float(input('Digite sua segunda nota: '))\n",
        "media = (nota01 + nota02) / 2\n",
        "\n",
        "print(f'A media das notas {nota01} e {nota02} é: {media}')\n",
        "\n",
        "print(f'A media das notas {nota01:.1f} e {nota02:.1f} é: {media:.1f}') #"
      ],
      "metadata": {
        "colab": {
          "base_uri": "https://localhost:8080/"
        },
        "id": "tkTcjV01Scx4",
        "outputId": "a7749e79-7384-4e5d-e8e4-7be4d14a057d"
      },
      "execution_count": 26,
      "outputs": [
        {
          "output_type": "stream",
          "name": "stdout",
          "text": [
            "Digite sua primeira nota: 5.5\n",
            "Digite sua segunda nota: 2\n",
            "A media das notas 5.5 e 2.0 é: 3.75\n",
            "A media das notas 5.5 e 2.0 é: 3.8\n"
          ]
        }
      ]
    },
    {
      "cell_type": "code",
      "source": [
        "# DESAFIO 08\n",
        "\n",
        "metros = float(input('Digite quantos metros: '))\n",
        "\n",
        "centimetros = metros * 100\n",
        "#milimetros = (metros * 100) * 10\n",
        "milimetros = metros * 1000 #\n",
        "\n",
        "print(f'{metros} metros tem {centimetros} centímetros e {milimetros} milímetros.')\n",
        "\n",
        "print(f'{metros} metros tem {centimetros:.0f} centímetros e {milimetros:.0f} milímetros.') #"
      ],
      "metadata": {
        "colab": {
          "base_uri": "https://localhost:8080/"
        },
        "id": "pOxYj-KUXHM7",
        "outputId": "916a28a3-57aa-4495-9c67-9f61de61b7fb"
      },
      "execution_count": 28,
      "outputs": [
        {
          "output_type": "stream",
          "name": "stdout",
          "text": [
            "Digite quantos metros: 20\n",
            "20.0 metros tem 2000.0 centímetros e 20000.0 milímetros.\n",
            "20.0 metros tem 2000 centímetros e 20000 milímetros.\n"
          ]
        }
      ]
    },
    {
      "cell_type": "code",
      "source": [
        "# DESAFIO 09\n",
        "\n",
        "num_int = int(input('Digite um número: '))\n",
        "contador = 0\n",
        "print('\\n')\n",
        "\n",
        "while contador <= 10:\n",
        "  tab = num_int * contador\n",
        "  print(f'{num_int} X {contador} = {tab}')\n",
        "  contador = contador + 1\n",
        "print('\\n')\n",
        "\n",
        "# INICIANTE\n",
        "print('-' * 12)\n",
        "print('{} X {:2} = {}'.format(num_int, 1, num_int * 1)) \n",
        "print('{} X {:2} = {}'.format(num_int, 2, num_int * 2))\n",
        "print('{} X {:2} = {}'.format(num_int, 3, num_int * 3))\n",
        "print('{} X {:2} = {}'.format(num_int, 4, num_int * 4))\n",
        "print('{} X {:2} = {}'.format(num_int, 5, num_int * 5))\n",
        "print('{} X {:2} = {}'.format(num_int, 6, num_int * 6))\n",
        "print('{} X {:2} = {}'.format(num_int, 7, num_int * 7))\n",
        "print('{} X {:2} = {}'.format(num_int, 8, num_int * 8))\n",
        "print('{} X {:2} = {}'.format(num_int, 9, num_int * 9))\n",
        "print('{} X {:2} = {}'.format(num_int, 10, num_int * 10))\n",
        "print('-' * 12)"
      ],
      "metadata": {
        "colab": {
          "base_uri": "https://localhost:8080/"
        },
        "id": "i4iiUSC_bwvx",
        "outputId": "eac335e4-cf3e-48fb-f7ef-ee268fb572ac"
      },
      "execution_count": 38,
      "outputs": [
        {
          "output_type": "stream",
          "name": "stdout",
          "text": [
            "Digite um número: 5\n",
            "\n",
            "\n",
            "5 X 0 = 0\n",
            "5 X 1 = 5\n",
            "5 X 2 = 10\n",
            "5 X 3 = 15\n",
            "5 X 4 = 20\n",
            "5 X 5 = 25\n",
            "5 X 6 = 30\n",
            "5 X 7 = 35\n",
            "5 X 8 = 40\n",
            "5 X 9 = 45\n",
            "5 X 10 = 50\n",
            "\n",
            "\n",
            "------------\n",
            "5 X  1 = 5\n",
            "5 X  2 = 10\n",
            "5 X  3 = 15\n",
            "5 X  4 = 20\n",
            "5 X  5 = 25\n",
            "5 X  6 = 30\n",
            "5 X  7 = 35\n",
            "5 X  8 = 40\n",
            "5 X  9 = 45\n",
            "5 X 10 = 50\n",
            "------------\n"
          ]
        }
      ]
    },
    {
      "cell_type": "code",
      "source": [
        "# DESAFIO 10\n",
        "\n",
        "real = float(input('Digite quantos reais você tem na carteira: R$'))\n",
        "dolar = 3.27\n",
        "qtd_dolares = real / dolar\n",
        "\n",
        "print('Com {} reais e o dolár custando {}, você pode comprar {:.2f} doláres.'.format(real, dolar, qtd_dolares))"
      ],
      "metadata": {
        "colab": {
          "base_uri": "https://localhost:8080/"
        },
        "id": "n5FAmOY1eIMm",
        "outputId": "43be77e1-3dc4-476f-f8fd-049b2fb1642c"
      },
      "execution_count": 42,
      "outputs": [
        {
          "output_type": "stream",
          "name": "stdout",
          "text": [
            "Digite quantos reais você tem na carteira: R$17.55\n",
            "Com 17.55 reais e o dolár custando 3.27, você pode comprar 5.37 doláres.\n"
          ]
        }
      ]
    },
    {
      "cell_type": "code",
      "source": [
        "# DESAFIO 11\n",
        "\n",
        "largura = float(input('Largura da parede: '))\n",
        "altura = float(input('Altura da parede: '))\n",
        "\n",
        "area = largura * altura\n",
        "lt_tinta = area / 2\n",
        "\n",
        "print(f'Para pintar {area} metros quadrados de área, são necessários {lt_tinta} litros de tinta')"
      ],
      "metadata": {
        "colab": {
          "base_uri": "https://localhost:8080/"
        },
        "id": "0ZU_IZjyRlAF",
        "outputId": "8013a40d-dead-4b62-f6c3-46a1a00d82df"
      },
      "execution_count": 1,
      "outputs": [
        {
          "output_type": "stream",
          "name": "stdout",
          "text": [
            "Largura da parede: 2.5\n",
            "Altura da parede: 1.75\n",
            "Para pintar 4.375 metros quadrados de área, são necessários 2.1875 litros de tinta\n"
          ]
        }
      ]
    },
    {
      "cell_type": "code",
      "source": [
        "# DESAFIO 12\n",
        "\n",
        "preco = float(input('Digite um valor: '))\n",
        "desconto = 5 / 100 * preco\n",
        "novo_preco = preco - desconto\n",
        "\n",
        "novo_preco = preco - (preco * 5 / 100) #\n",
        "\n",
        "print(f'Preço sem desconto é: {preco}. Preço com desconto é: {novo_preco:.2f}')\n",
        "print(f'Valor do desconto é: {desconto:.2f}')"
      ],
      "metadata": {
        "colab": {
          "base_uri": "https://localhost:8080/"
        },
        "id": "hJeSx4dJBwfu",
        "outputId": "40db2cc9-82aa-4999-d362-e1b5823dd321"
      },
      "execution_count": 3,
      "outputs": [
        {
          "output_type": "stream",
          "name": "stdout",
          "text": [
            "Digite um valor: 123.95\n",
            "Preço sem desconto é: 123.95. Preço com desconto é: 117.75\n",
            "Valor do desconto é: 6.20\n"
          ]
        }
      ]
    },
    {
      "cell_type": "code",
      "source": [
        "# DESAFIO 13\n",
        "\n",
        "salario = float(input('Digite seu salário: '))\n",
        "aumento = 15 / 100 * salario\n",
        "novo_salario = salario + aumento\n",
        "\n",
        "print(f'Seu salário de {salario} foi reajustado para {novo_salario} com um aumento de 15%. Parabéns')\n",
        "print(f'Você ganhou um aumento de {aumento} reais')"
      ],
      "metadata": {
        "colab": {
          "base_uri": "https://localhost:8080/"
        },
        "id": "AxZAUkHGHk90",
        "outputId": "e2f2dd7b-f0f4-4e90-8239-786aac91d730"
      },
      "execution_count": 14,
      "outputs": [
        {
          "output_type": "stream",
          "name": "stdout",
          "text": [
            "Digite seu salário: 11000\n",
            "Seu salário de 11000.0 foi reajustado para 12650.0 com um aumento de 15%. Parabéns\n",
            "Você ganhou um aumento de 1650.0 reais\n"
          ]
        }
      ]
    },
    {
      "cell_type": "code",
      "source": [
        "# DESAFIO 14\n",
        "\n",
        "celsius = float(input('Informe a temperatura em C°: '))\n",
        "fahrenheit = ((celsius / 5) * 9) + 32\n",
        "fahrenheit = ((9 * celsius) / 5) + 32 #\n",
        "fahrenheit = 9 * celsius / 5 + 32 #\n",
        "\n",
        "print('A temperatura de {:.1f}°C corresponde a {:.1f}°F'.format(celsius, fahrenheit))"
      ],
      "metadata": {
        "colab": {
          "base_uri": "https://localhost:8080/"
        },
        "id": "Bn5nvM-R55Tt",
        "outputId": "994cee02-9498-4a5e-822f-b7900581f8d4"
      },
      "execution_count": 5,
      "outputs": [
        {
          "output_type": "stream",
          "name": "stdout",
          "text": [
            "Informe a temperatura em C°: 31.5\n",
            "A temperatura de 31.5°C corresponde a 88.7°F\n"
          ]
        }
      ]
    },
    {
      "cell_type": "code",
      "source": [
        "# DESAFIO 15\n",
        "\n",
        "qtd_dias = int(input('Digite a quantidade de dias alugados: '))\n",
        "km = float(input('Digite a quantidade de quilômetros percorridos: '))\n",
        "\n",
        "total_pagar = (qtd_dias * 60) + (km * 0.15)\n",
        "\n",
        "print(f'O total a pagar é de R${total_pagar:.2f}')"
      ],
      "metadata": {
        "colab": {
          "base_uri": "https://localhost:8080/"
        },
        "id": "RJ5lH_gcA8pE",
        "outputId": "67a442e7-8130-4aa5-fcde-36cfa2a47444"
      },
      "execution_count": 7,
      "outputs": [
        {
          "output_type": "stream",
          "name": "stdout",
          "text": [
            "Digite a quantidade de dias alugados: 8\n",
            "Digite a quantidade de quilômetros percorridos: 720\n",
            "O total a pagar é de R$588.00\n"
          ]
        }
      ]
    }
  ]
}