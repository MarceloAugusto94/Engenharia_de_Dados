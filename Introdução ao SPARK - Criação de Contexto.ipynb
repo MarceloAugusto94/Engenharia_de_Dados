{
 "cells": [
  {
   "cell_type": "markdown",
   "id": "cfb68851",
   "metadata": {},
   "source": [
    "# Criação de Contexto\n",
    "\n",
    "sc é uma conexão com o Spark Cluster e é criado no momento de execução do comando PySpark. Estamos no Python, portanto, temos que nos conectar ao cluster Spark."
   ]
  },
  {
   "cell_type": "code",
   "execution_count": 1,
   "id": "4a9a04b9",
   "metadata": {},
   "outputs": [],
   "source": [
    "# Contexto criado automaticamente "
   ]
  },
  {
   "cell_type": "code",
   "execution_count": 2,
   "id": "5db2d3e5",
   "metadata": {},
   "outputs": [
    {
     "name": "stdout",
     "output_type": "stream",
     "text": [
      "<SparkContext master=local[*] appName=PySparkShell>\n"
     ]
    }
   ],
   "source": [
    "print(sc)"
   ]
  },
  {
   "cell_type": "code",
   "execution_count": 3,
   "id": "ff7370dc",
   "metadata": {},
   "outputs": [
    {
     "name": "stdout",
     "output_type": "stream",
     "text": [
      "3.1.2\n"
     ]
    }
   ],
   "source": [
    "print(sc.version)"
   ]
  },
  {
   "cell_type": "code",
   "execution_count": 4,
   "id": "0628c89b",
   "metadata": {},
   "outputs": [],
   "source": [
    "# Criando o Contexto manualmente importando o SparkContext\n",
    "\n",
    "from pyspark import SparkContext"
   ]
  },
  {
   "cell_type": "code",
   "execution_count": 5,
   "id": "82954533",
   "metadata": {},
   "outputs": [],
   "source": [
    "sc = SparkContext.getOrCreate()"
   ]
  },
  {
   "cell_type": "code",
   "execution_count": 6,
   "id": "3cca1ab4",
   "metadata": {},
   "outputs": [
    {
     "name": "stdout",
     "output_type": "stream",
     "text": [
      "<SparkContext master=local[*] appName=PySparkShell>\n"
     ]
    }
   ],
   "source": [
    "print(sc)"
   ]
  },
  {
   "cell_type": "markdown",
   "id": "12fe587b",
   "metadata": {},
   "source": [
    "## Criando Contexto com opções"
   ]
  },
  {
   "cell_type": "code",
   "execution_count": 7,
   "id": "096c49fa",
   "metadata": {},
   "outputs": [
    {
     "ename": "TypeError",
     "evalue": "__init__() got an unexpected keyword argument 'mastar'",
     "output_type": "error",
     "traceback": [
      "\u001b[1;31m---------------------------------------------------------------------------\u001b[0m",
      "\u001b[1;31mTypeError\u001b[0m                                 Traceback (most recent call last)",
      "\u001b[1;32m<ipython-input-7-2707e32e12b5>\u001b[0m in \u001b[0;36m<module>\u001b[1;34m\u001b[0m\n\u001b[0;32m      2\u001b[0m \u001b[1;33m\u001b[0m\u001b[0m\n\u001b[0;32m      3\u001b[0m \u001b[1;32mfrom\u001b[0m \u001b[0mpyspark\u001b[0m \u001b[1;32mimport\u001b[0m \u001b[0mSparkContext\u001b[0m\u001b[1;33m\u001b[0m\u001b[1;33m\u001b[0m\u001b[0m\n\u001b[1;32m----> 4\u001b[1;33m \u001b[0msc\u001b[0m \u001b[1;33m=\u001b[0m \u001b[0mSparkContext\u001b[0m\u001b[1;33m(\u001b[0m\u001b[0mmastar\u001b[0m\u001b[1;33m=\u001b[0m\u001b[1;34m'local'\u001b[0m\u001b[1;33m,\u001b[0m \u001b[0mappName\u001b[0m\u001b[1;33m=\u001b[0m\u001b[1;34m'Aplicacao'\u001b[0m\u001b[1;33m)\u001b[0m\u001b[1;33m\u001b[0m\u001b[1;33m\u001b[0m\u001b[0m\n\u001b[0m",
      "\u001b[1;31mTypeError\u001b[0m: __init__() got an unexpected keyword argument 'mastar'"
     ]
    }
   ],
   "source": [
    "# Rodar em arquivos py\n",
    "\n",
    "from pyspark import SparkContext\n",
    "sc = SparkContext(mastar='local', appName='Aplicacao')"
   ]
  },
  {
   "cell_type": "markdown",
   "id": "7a299c11",
   "metadata": {},
   "source": [
    "## Contexto SQL\n",
    "\n",
    "Permite processamento de arquivos JSON e integra-se com o HIVE. Permite também a consulta no estilo SQL utilizando JDBC.\n",
    "\n",
    "** JDBC é um tipo de conector que permite conectar-se a qualquer banco de dados pelo Windows "
   ]
  },
  {
   "cell_type": "code",
   "execution_count": 8,
   "id": "04e0af4d",
   "metadata": {},
   "outputs": [
    {
     "name": "stdout",
     "output_type": "stream",
     "text": [
      "<pyspark.sql.context.SQLContext object at 0x000001E939F51E50>\n"
     ]
    }
   ],
   "source": [
    "print(sqlContext)"
   ]
  },
  {
   "cell_type": "code",
   "execution_count": 9,
   "id": "845f30cf",
   "metadata": {},
   "outputs": [],
   "source": [
    "# Criando RDDs através de dados\n",
    "\n",
    "dados_nativos = sc.parallelize([('Brasil', 5), ('Alemanha', 4), ('Itália', 4), ('Argentina', 2)])"
   ]
  },
  {
   "cell_type": "code",
   "execution_count": 10,
   "id": "5f7a8153",
   "metadata": {},
   "outputs": [],
   "source": [
    "# Criando RDDs através de arquivos\n",
    "\n",
    "path = 'C:\\\\Spark\\\\projetos\\\\datasets\\\\airlines.csv'\n",
    "\n",
    "dados_arquivo = sc.textFile(path)"
   ]
  },
  {
   "cell_type": "code",
   "execution_count": 11,
   "id": "d7469c36",
   "metadata": {},
   "outputs": [],
   "source": [
    "# Leitura do HDFS Hadoop\n",
    "\n",
    "dados_hdfs = \"hdfs:///user/diretorio1/diretorio2/arquivo.csv\""
   ]
  },
  {
   "cell_type": "markdown",
   "id": "ea0e1407",
   "metadata": {},
   "source": [
    "### Verificando a Tipagem"
   ]
  },
  {
   "cell_type": "code",
   "execution_count": 12,
   "id": "d47ee227",
   "metadata": {},
   "outputs": [
    {
     "data": {
      "text/plain": [
       "pyspark.rdd.RDD"
      ]
     },
     "execution_count": 12,
     "metadata": {},
     "output_type": "execute_result"
    }
   ],
   "source": [
    "type(dados_nativos)"
   ]
  },
  {
   "cell_type": "code",
   "execution_count": 13,
   "id": "f9637bf6",
   "metadata": {},
   "outputs": [
    {
     "data": {
      "text/plain": [
       "pyspark.rdd.RDD"
      ]
     },
     "execution_count": 13,
     "metadata": {},
     "output_type": "execute_result"
    }
   ],
   "source": [
    "type(dados_arquivo)"
   ]
  },
  {
   "cell_type": "code",
   "execution_count": 16,
   "id": "96c31ccb",
   "metadata": {},
   "outputs": [
    {
     "ename": "SyntaxError",
     "evalue": "invalid syntax (<ipython-input-16-62dc3e1eed26>, line 4)",
     "output_type": "error",
     "traceback": [
      "\u001b[1;36m  File \u001b[1;32m\"<ipython-input-16-62dc3e1eed26>\"\u001b[1;36m, line \u001b[1;32m4\u001b[0m\n\u001b[1;33m    pyspark --master local[2]\u001b[0m\n\u001b[1;37m                     ^\u001b[0m\n\u001b[1;31mSyntaxError\u001b[0m\u001b[1;31m:\u001b[0m invalid syntax\n"
     ]
    }
   ],
   "source": [
    "# Simulando um Cluster local\n",
    "# O ideal é que o número seja igual ao número de CORE's do seu computador\n",
    "\n",
    "pyspark --master local[2]"
   ]
  },
  {
   "cell_type": "markdown",
   "id": "da2af239",
   "metadata": {},
   "source": [
    "## Imprimendo os Dados"
   ]
  },
  {
   "cell_type": "code",
   "execution_count": 17,
   "id": "99ba5283",
   "metadata": {},
   "outputs": [
    {
     "data": {
      "text/plain": [
       "ParallelCollectionRDD[0] at readRDDFromFile at PythonRDD.scala:274"
      ]
     },
     "execution_count": 17,
     "metadata": {},
     "output_type": "execute_result"
    }
   ],
   "source": [
    "dados_nativos"
   ]
  },
  {
   "cell_type": "code",
   "execution_count": 18,
   "id": "31e460e3",
   "metadata": {},
   "outputs": [
    {
     "data": {
      "text/plain": [
       "C:\\Spark\\projetos\\datasets\\airlines.csv MapPartitionsRDD[2] at textFile at NativeMethodAccessorImpl.java:0"
      ]
     },
     "execution_count": 18,
     "metadata": {},
     "output_type": "execute_result"
    }
   ],
   "source": [
    "dados_arquivo"
   ]
  },
  {
   "cell_type": "code",
   "execution_count": 20,
   "id": "7b685033",
   "metadata": {},
   "outputs": [
    {
     "data": {
      "text/plain": [
       "[('Brasil', 5), ('Alemanha', 4), ('Itália', 4), ('Argentina', 2)]"
      ]
     },
     "execution_count": 20,
     "metadata": {},
     "output_type": "execute_result"
    }
   ],
   "source": [
    "dados_nativos.collect()"
   ]
  },
  {
   "cell_type": "code",
   "execution_count": null,
   "id": "44889a3f",
   "metadata": {},
   "outputs": [],
   "source": [
    "# Não há esse arquivo no diretório local\n",
    "\n",
    "dados_arquivo.take(10)"
   ]
  }
 ],
 "metadata": {
  "kernelspec": {
   "display_name": "Python 3",
   "language": "python",
   "name": "python3"
  },
  "language_info": {
   "codemirror_mode": {
    "name": "ipython",
    "version": 3
   },
   "file_extension": ".py",
   "mimetype": "text/x-python",
   "name": "python",
   "nbconvert_exporter": "python",
   "pygments_lexer": "ipython3",
   "version": "3.8.8"
  }
 },
 "nbformat": 4,
 "nbformat_minor": 5
}
