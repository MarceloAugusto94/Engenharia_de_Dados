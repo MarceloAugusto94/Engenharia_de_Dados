{
 "cells": [
  {
   "cell_type": "code",
   "execution_count": 1,
   "id": "3e91f750",
   "metadata": {},
   "outputs": [],
   "source": [
    "from pyspark import SparkContext\n",
    "sc = SparkContext.getOrCreate()"
   ]
  },
  {
   "cell_type": "code",
   "execution_count": 2,
   "id": "559170c6",
   "metadata": {},
   "outputs": [
    {
     "data": {
      "text/plain": [
       "[1, 2, 3]"
      ]
     },
     "execution_count": 2,
     "metadata": {},
     "output_type": "execute_result"
    }
   ],
   "source": [
    "# Criação de uma RDD simples\n",
    "\n",
    "rdd1 = sc.parallelize([1, 2, 3])\n",
    "rdd1.collect()"
   ]
  },
  {
   "cell_type": "code",
   "execution_count": 5,
   "id": "4a60c3b1",
   "metadata": {},
   "outputs": [
    {
     "data": {
      "text/plain": [
       "array([ 0,  1,  2,  3,  4,  5,  6,  7,  8,  9, 10, 11, 12, 13, 14, 15, 16,\n",
       "       17, 18, 19, 20, 21, 22, 23, 24, 25, 26, 27, 28, 29, 30, 31, 32, 33,\n",
       "       34, 35, 36, 37, 38, 39, 40, 41, 42, 43, 44, 45, 46, 47, 48, 49, 50,\n",
       "       51, 52, 53, 54, 55, 56, 57, 58, 59, 60, 61, 62, 63, 64, 65, 66, 67,\n",
       "       68, 69, 70, 71, 72, 73, 74, 75, 76, 77, 78, 79, 80, 81, 82, 83, 84,\n",
       "       85, 86, 87, 88, 89, 90, 91, 92, 93, 94, 95, 96, 97, 98, 99])"
      ]
     },
     "execution_count": 5,
     "metadata": {},
     "output_type": "execute_result"
    }
   ],
   "source": [
    "# Utilizando o NumPy\n",
    "# Biblioteca do Python para trabalhar com Matemática\n",
    "\n",
    "import numpy as np\n",
    "A = np.array(range(100))\n",
    "A"
   ]
  },
  {
   "cell_type": "code",
   "execution_count": 4,
   "id": "f97bfe5d",
   "metadata": {},
   "outputs": [
    {
     "data": {
      "text/plain": [
       "[0, 1, 2, 3, 4, 5, 6, 7, 8, 9]"
      ]
     },
     "execution_count": 4,
     "metadata": {},
     "output_type": "execute_result"
    }
   ],
   "source": [
    "rdd2 = sc.parallelize(np.array(range(100)))\n",
    "rdd2.take(10)"
   ]
  },
  {
   "cell_type": "code",
   "execution_count": 6,
   "id": "ca096412",
   "metadata": {},
   "outputs": [
    {
     "name": "stdout",
     "output_type": "stream",
     "text": [
      "[[0, 1, 2, 3, 4, 5, 6, 7, 8, 9, 10, 11], [12, 13, 14, 15, 16, 17, 18, 19, 20, 21, 22, 23], [24, 25, 26, 27, 28, 29, 30, 31, 32, 33, 34, 35], [36, 37, 38, 39, 40, 41, 42, 43, 44, 45, 46, 47], [48, 49, 50, 51, 52, 53, 54, 55, 56, 57, 58, 59], [60, 61, 62, 63, 64, 65, 66, 67, 68, 69, 70, 71], [72, 73, 74, 75, 76, 77, 78, 79, 80, 81, 82, 83], [84, 85, 86, 87, 88, 89, 90, 91, 92, 93, 94, 95, 96, 97, 98, 99]]\n"
     ]
    }
   ],
   "source": [
    "# Verificando a paralelização\n",
    "# Observe que a paralelização da RDD não ocorreu. Ela não foi dividida\n",
    "\n",
    "rdd3 = sc.parallelize(np.array(range(100)))\n",
    "print(rdd3.glom().collect())"
   ]
  },
  {
   "cell_type": "markdown",
   "id": "a0c9e03f",
   "metadata": {},
   "source": [
    "# O particionamento das RDDs é feito por padrão pelo tamanho do Cluster, mas também podemos específicar explicitamente, de preferência com o número de cores do PC."
   ]
  },
  {
   "cell_type": "code",
   "execution_count": 7,
   "id": "dd81c23d",
   "metadata": {},
   "outputs": [],
   "source": [
    "# Paralelizando explicitamente \n",
    "\n",
    "rdd4 = sc.parallelize(np.array(range(100)), 10)"
   ]
  },
  {
   "cell_type": "code",
   "execution_count": 8,
   "id": "9d51503c",
   "metadata": {},
   "outputs": [
    {
     "name": "stdout",
     "output_type": "stream",
     "text": [
      "[[0, 1, 2, 3, 4, 5, 6, 7, 8, 9], [10, 11, 12, 13, 14, 15, 16, 17, 18, 19], [20, 21, 22, 23, 24, 25, 26, 27, 28, 29], [30, 31, 32, 33, 34, 35, 36, 37, 38, 39], [40, 41, 42, 43, 44, 45, 46, 47, 48, 49], [50, 51, 52, 53, 54, 55, 56, 57, 58, 59], [60, 61, 62, 63, 64, 65, 66, 67, 68, 69], [70, 71, 72, 73, 74, 75, 76, 77, 78, 79], [80, 81, 82, 83, 84, 85, 86, 87, 88, 89], [90, 91, 92, 93, 94, 95, 96, 97, 98, 99]]\n"
     ]
    }
   ],
   "source": [
    "# Verificando a paralelização\n",
    "\n",
    "print(rdd4.glom().collect())"
   ]
  },
  {
   "cell_type": "code",
   "execution_count": 9,
   "id": "ad8b6c92",
   "metadata": {},
   "outputs": [
    {
     "name": "stdout",
     "output_type": "stream",
     "text": [
      "10\n"
     ]
    }
   ],
   "source": [
    "# Número de partições\n",
    "\n",
    "print(rdd4.getNumPartitions())"
   ]
  },
  {
   "cell_type": "markdown",
   "id": "21d14285",
   "metadata": {},
   "source": [
    "# Paralelizando arquivos"
   ]
  },
  {
   "cell_type": "code",
   "execution_count": 16,
   "id": "1def0f7f",
   "metadata": {},
   "outputs": [
    {
     "name": "stdout",
     "output_type": "stream",
     "text": [
      "['A longa duração é um conceito histórico criado pelo francês Fernand Braudel.', '', \"Utilizado por ele em sua tese doutorado de 1949 intitulada La Méditerranée et le monde méditerranéen à l'époque de Philippe II, introduziu uma nova maneira de abordagem dos acontecimentos históricos: aqueles que transcorrem na longa duração.\", '', 'Ao lado da história tradicional (dita fatual e condenada pela Escola dos Annales) das \"oscilações breves, rápidas, nervosas\"[1] e da história cíclica e conjuntural (história econômica e social) caracterizada pelas fases lentas, ele introduz a história quase imóvel que se interessa pelos fenômenos extremamente longos (evolução das paisagens, história do homem na sua relação com o meio). Em 1958, por ocasião de uma controvérsia com Claude Lévi-Strauss, ele teoriza em sua obra A Longa Duração o modelo da pluralidade dos tempos históricos (estrutural / conjuntural / fatual).']\n"
     ]
    }
   ],
   "source": [
    "# Lendo arquivo.\n",
    "\n",
    "rddArquivo = sc.textFile(\"longa historia.txt\")\n",
    "\n",
    "print(rddArquivo.take(100))"
   ]
  },
  {
   "cell_type": "code",
   "execution_count": 17,
   "id": "48a4ccc7",
   "metadata": {},
   "outputs": [
    {
     "name": "stdout",
     "output_type": "stream",
     "text": [
      "2\n"
     ]
    }
   ],
   "source": [
    "print(rddArquivo.getNumPartitions())"
   ]
  },
  {
   "cell_type": "code",
   "execution_count": 18,
   "id": "93f87b50",
   "metadata": {},
   "outputs": [],
   "source": [
    "rddArquivoPart = sc.textFile(\"longa historia.txt\", 100)"
   ]
  },
  {
   "cell_type": "code",
   "execution_count": 19,
   "id": "42d1e2ef",
   "metadata": {},
   "outputs": [
    {
     "name": "stdout",
     "output_type": "stream",
     "text": [
      "105\n"
     ]
    }
   ],
   "source": [
    "print(rddArquivoPart.getNumPartitions())"
   ]
  },
  {
   "cell_type": "code",
   "execution_count": 20,
   "id": "dfda0090",
   "metadata": {},
   "outputs": [
    {
     "name": "stdout",
     "output_type": "stream",
     "text": [
      "[['A longa duração é um conceito histórico criado pelo francês Fernand Braudel.'], [], [], [], [], [], [], [], [], ['', \"Utilizado por ele em sua tese doutorado de 1949 intitulada La Méditerranée et le monde méditerranéen à l'époque de Philippe II, introduziu uma nova maneira de abordagem dos acontecimentos históricos: aqueles que transcorrem na longa duração.\"], [], [], [], [], [], [], [], [], [], [], [], [], [], [], [], [], [], [], [], [], [], [], [], [], [], [], [], ['', 'Ao lado da história tradicional (dita fatual e condenada pela Escola dos Annales) das \"oscilações breves, rápidas, nervosas\"[1] e da história cíclica e conjuntural (história econômica e social) caracterizada pelas fases lentas, ele introduz a história quase imóvel que se interessa pelos fenômenos extremamente longos (evolução das paisagens, história do homem na sua relação com o meio). Em 1958, por ocasião de uma controvérsia com Claude Lévi-Strauss, ele teoriza em sua obra A Longa Duração o modelo da pluralidade dos tempos históricos (estrutural / conjuntural / fatual).'], [], [], [], [], [], [], [], [], [], [], [], [], [], [], [], [], [], [], [], [], [], [], [], [], [], [], [], [], [], [], [], [], [], [], [], [], [], [], [], [], [], [], [], [], [], [], [], [], [], [], [], [], [], [], [], [], [], [], [], [], [], [], [], [], [], [], []]\n"
     ]
    }
   ],
   "source": [
    "print(rddArquivoPart.glom().collect())"
   ]
  },
  {
   "cell_type": "markdown",
   "id": "5353785f",
   "metadata": {},
   "source": [
    "## Leitura da Bíblia"
   ]
  },
  {
   "cell_type": "code",
   "execution_count": null,
   "id": "dcf5d8d0",
   "metadata": {},
   "outputs": [],
   "source": [
    "# Verifique se o arquivo está em ANSI\n",
    "\n",
    "rddANSI = sc.textFile(\"Biblia-ANSI.txt\")\n",
    "\n",
    "print(rddANSI.take(1000))"
   ]
  },
  {
   "cell_type": "code",
   "execution_count": null,
   "id": "3c6fb631",
   "metadata": {},
   "outputs": [],
   "source": [
    "# Altere o arquivo para UTF-8\n",
    "\n",
    "rddBiblia = sc.textFile(\"Biblia-UTF8.txt\")\n",
    "\n",
    "print(rddBiblia.take(1000))"
   ]
  },
  {
   "cell_type": "markdown",
   "id": "905a3f0b",
   "metadata": {},
   "source": [
    "# Transformações\n",
    "\n",
    "1. São operações em um RDD que devolvem um novo RDD\n",
    "2. Normalmente executam uma função anônima(lambda) sobre cada um dos elementos RDD\n",
    "3. Operam sobre Lazy"
   ]
  },
  {
   "cell_type": "markdown",
   "id": "038c8484",
   "metadata": {},
   "source": [
    "# Utilizando o Intersect"
   ]
  },
  {
   "cell_type": "code",
   "execution_count": 24,
   "id": "42ec4c2c",
   "metadata": {},
   "outputs": [
    {
     "data": {
      "text/plain": [
       "['E', 'A']"
      ]
     },
     "execution_count": 24,
     "metadata": {},
     "output_type": "execute_result"
    }
   ],
   "source": [
    "dados1 = sc.parallelize([\"A\", \"B\", \"C\", \"D\", \"E\"])\n",
    "dados2 = sc.parallelize([\"A\", \"E\", \"I\", \"O\", \"U\"])\n",
    "\n",
    "result = dados1.intersection(dados2)\n",
    "result.take(10)"
   ]
  },
  {
   "cell_type": "code",
   "execution_count": null,
   "id": "917aa180",
   "metadata": {},
   "outputs": [],
   "source": [
    "jose = rddBiblia.filter(lambda linha: \"José\" in linha)"
   ]
  },
  {
   "cell_type": "code",
   "execution_count": null,
   "id": "b8809b67",
   "metadata": {},
   "outputs": [],
   "source": [
    "maria = rddBiblia.filter(lambda linha: \"Maria\" in linha)"
   ]
  },
  {
   "cell_type": "code",
   "execution_count": null,
   "id": "b0cb1bf6",
   "metadata": {},
   "outputs": [],
   "source": [
    "biblia = jose.intersection(maria)"
   ]
  },
  {
   "cell_type": "markdown",
   "id": "0b162c73",
   "metadata": {},
   "source": [
    "# Ações\n",
    "\n",
    "1. Devolvem um resultado\n",
    "2. Faz todas as transformações anteriores serem executadas"
   ]
  },
  {
   "cell_type": "markdown",
   "id": "b89af72e",
   "metadata": {},
   "source": [
    "# Utilizando o takeSample para gerar amostras"
   ]
  },
  {
   "cell_type": "code",
   "execution_count": 28,
   "id": "4553b92a",
   "metadata": {},
   "outputs": [
    {
     "name": "stdout",
     "output_type": "stream",
     "text": [
      "Número de elementos do range 100\n",
      "38\n",
      "21\n",
      "2\n",
      "51\n",
      "97\n",
      "63\n",
      "58\n",
      "60\n"
     ]
    }
   ],
   "source": [
    "# TRUE - Possibilita elementos REPETIDOS\n",
    "# Numero = Indica o tamanho da amostra\n",
    "\n",
    "# Criando um RDD com range de números\n",
    "rdd5 = sc.parallelize(np.array(range(100)))\n",
    "\n",
    "# Contando o número de elementos\n",
    "contador = rdd5.count()\n",
    "                      \n",
    "# Imprimindo o número de elementos\n",
    "print(\"Número de elementos do range {0}\".format(contador))\n",
    "                      \n",
    "# Utilizando um FOR para imprimir cada elemento\n",
    "# AMOSTRA ALEATÓRIA\n",
    "for l in rdd5.takeSample(True, 8):\n",
    "    print(l)"
   ]
  },
  {
   "cell_type": "code",
   "execution_count": 27,
   "id": "117d62c3",
   "metadata": {},
   "outputs": [
    {
     "data": {
      "text/plain": [
       "pyspark.rdd.RDD"
      ]
     },
     "execution_count": 27,
     "metadata": {},
     "output_type": "execute_result"
    }
   ],
   "source": [
    "type(rdd5)"
   ]
  },
  {
   "cell_type": "code",
   "execution_count": null,
   "id": "689308aa",
   "metadata": {},
   "outputs": [],
   "source": [
    "lines = biblia.count()\n",
    "\n",
    "print(\"Número de linhas {0}\".format(lines))\n",
    "\n",
    "for l in biblia.takeSample(False, 5):\n",
    "    print(l)"
   ]
  },
  {
   "cell_type": "code",
   "execution_count": null,
   "id": "03f1f6c4",
   "metadata": {},
   "outputs": [],
   "source": [
    "# Podendo vir elementos repetidos\n",
    "\n",
    "for l in biblia.takeSample(True, 10):\n",
    "    print(l)"
   ]
  },
  {
   "cell_type": "markdown",
   "id": "ce907fd2",
   "metadata": {},
   "source": [
    "# Podemos utilizar variáveis"
   ]
  },
  {
   "cell_type": "code",
   "execution_count": null,
   "id": "f15d51eb",
   "metadata": {},
   "outputs": [],
   "source": [
    "rddBiblia = sc.textFile(\"Biblia-UTF8.txt\")\n",
    "\n",
    "A = \"Jesus\"\n",
    "B = \"Cristo\"\n",
    "\n",
    "linhas1 = rddBiblia.filter(lambda linha: A in linha)\n",
    "linhas2 = rddBiblia.filter(lambda linha: B in linha)\n",
    "\n",
    "inter = linhas1.intersection(linhas2)\n",
    "\n",
    "lines = inter.count()\n",
    "\n",
    "print(\"Número de linhas: \" + str(lines))\n",
    "\n",
    "for l in inter.takeSample(False, 10):\n",
    "    print(l)"
   ]
  },
  {
   "cell_type": "markdown",
   "id": "2561d949",
   "metadata": {},
   "source": [
    "# Se quisermos todas as linhas?"
   ]
  },
  {
   "cell_type": "code",
   "execution_count": null,
   "id": "75b4f912",
   "metadata": {},
   "outputs": [],
   "source": [
    "rddBiblia = sc.textFile(\"Biblia-UTF8.txt\")\n",
    "\n",
    "A = \"Jesus\"\n",
    "B = \"Cristo\"\n",
    "\n",
    "linhas1 = rddBiblia.filter(lambda linha: A in linha)\n",
    "linhas2 = rddBiblia.filter(lambda linha: B in linha)\n",
    "\n",
    "inter = linhas1.intersection(linhas2)\n",
    "\n",
    "lines = inter.count()\n",
    "\n",
    "print(\"Número de linhas: \" + str(lines))\n",
    "\n",
    "inter.takeSample(False, lines)"
   ]
  },
  {
   "cell_type": "markdown",
   "id": "ae4ed96f",
   "metadata": {},
   "source": [
    "# Podemos utilizar collect()"
   ]
  },
  {
   "cell_type": "code",
   "execution_count": null,
   "id": "f7a12d55",
   "metadata": {},
   "outputs": [],
   "source": [
    "# Podemos iterar?\n",
    "\n",
    "A = \"Jesus\"\n",
    "B = \"Cristo\"\n",
    "\n",
    "linhas1 = rddBiblia.filter(lambda linha: A in linha)\n",
    "linhas2 = rddBiblia.filter(lambda linha: B in linha)\n",
    "\n",
    "inter = linhas1.intersection(linhas2)\n",
    "\n",
    "lines = inter.count()\n",
    "\n",
    "print(\"Número de linhas: \" + str(lines))\n",
    "print(\"Tipo da RDD inter: \" + str(type(inter)))\n",
    "\n",
    "for l in inter.collect():\n",
    "    print(l)"
   ]
  },
  {
   "cell_type": "code",
   "execution_count": null,
   "id": "df7f4fe6",
   "metadata": {},
   "outputs": [],
   "source": [
    "A = \"Jesus\"\n",
    "B = \"Cristo\"\n",
    "\n",
    "linhas1 = rddBiblia.filter(lambda linha: A in linha)\n",
    "linhas2 = rddBiblia.filter(lambda linha: B in linha)\n",
    "\n",
    "inter = linhas1.intersection(linhas2)\n",
    "\n",
    "lines = inter.count()\n",
    "\n",
    "print(\"Número de linhas: \" + str(lines))\n",
    "\n",
    "inter.collect()"
   ]
  }
 ],
 "metadata": {
  "kernelspec": {
   "display_name": "Python 3",
   "language": "python",
   "name": "python3"
  },
  "language_info": {
   "codemirror_mode": {
    "name": "ipython",
    "version": 3
   },
   "file_extension": ".py",
   "mimetype": "text/x-python",
   "name": "python",
   "nbconvert_exporter": "python",
   "pygments_lexer": "ipython3",
   "version": "3.8.8"
  }
 },
 "nbformat": 4,
 "nbformat_minor": 5
}
