{
 "cells": [
  {
   "cell_type": "markdown",
   "id": "6a63296d",
   "metadata": {},
   "source": [
    "# Função Filter\n",
    "\n",
    "* A Função filter() é aplicada à uma lista de elementos, retornando valores booleanos, True ou False, de acordo com o filtro aplicado."
   ]
  },
  {
   "cell_type": "code",
   "execution_count": 1,
   "id": "0946d1e3",
   "metadata": {},
   "outputs": [],
   "source": [
    "# Definindo um array com a função bulti-in range()\n",
    "\n",
    "lista = [1, 2, 3, 4, 5, 6, 7, 8, 9]"
   ]
  },
  {
   "cell_type": "code",
   "execution_count": 2,
   "id": "417c51c4",
   "metadata": {},
   "outputs": [
    {
     "name": "stdout",
     "output_type": "stream",
     "text": [
      "[1, 2, 3, 4, 5, 6, 7, 8, 9]\n"
     ]
    }
   ],
   "source": [
    "print(lista)"
   ]
  },
  {
   "cell_type": "code",
   "execution_count": 3,
   "id": "a7e730e7",
   "metadata": {},
   "outputs": [
    {
     "data": {
      "text/plain": [
       "list"
      ]
     },
     "execution_count": 3,
     "metadata": {},
     "output_type": "execute_result"
    }
   ],
   "source": [
    "type(lista)"
   ]
  },
  {
   "cell_type": "code",
   "execution_count": 4,
   "id": "6f8f4da6",
   "metadata": {},
   "outputs": [],
   "source": [
    "# Função para verificar se um número é par\n",
    "\n",
    "def funpar(num):\n",
    "    return num % 2 == 0"
   ]
  },
  {
   "cell_type": "code",
   "execution_count": 5,
   "id": "51000f74",
   "metadata": {},
   "outputs": [
    {
     "data": {
      "text/plain": [
       "False"
      ]
     },
     "execution_count": 5,
     "metadata": {},
     "output_type": "execute_result"
    }
   ],
   "source": [
    "funpar(501)"
   ]
  },
  {
   "cell_type": "markdown",
   "id": "66410630",
   "metadata": {},
   "source": [
    "## Revisando"
   ]
  },
  {
   "cell_type": "code",
   "execution_count": 9,
   "id": "e9a1a8d1",
   "metadata": {},
   "outputs": [
    {
     "data": {
      "text/plain": [
       "[False, True, False, True, False, True, False, True, False]"
      ]
     },
     "execution_count": 9,
     "metadata": {},
     "output_type": "execute_result"
    }
   ],
   "source": [
    "# Aplicaremos a função utilizando o map como na aula anterior\n",
    "# [1, 2, 3, 4, 5, 6, 7, 8, 9]\n",
    "\n",
    "list(map(funpar, lista))"
   ]
  },
  {
   "cell_type": "markdown",
   "id": "8cde9e9c",
   "metadata": {},
   "source": [
    "A função Filter tem o mesmo princípio de mapeamento da função MAP, porém ela retorna apenas os valores onde a expressão é verdadeira"
   ]
  },
  {
   "cell_type": "code",
   "execution_count": 7,
   "id": "c886976b",
   "metadata": {},
   "outputs": [
    {
     "data": {
      "text/plain": [
       "[2, 4, 6, 8]"
      ]
     },
     "execution_count": 7,
     "metadata": {},
     "output_type": "execute_result"
    }
   ],
   "source": [
    "list(filter(funpar, lista))"
   ]
  },
  {
   "cell_type": "markdown",
   "id": "4eb32c2f",
   "metadata": {},
   "source": [
    "No caso abaixo, vamos criar uma lista com frases. Utilizaremos a função COUNT(), que retorna a quantidade de aparições de uma determinada palavra ou frase.\n",
    "em seguida, aplicaremos a função Filter()"
   ]
  },
  {
   "cell_type": "code",
   "execution_count": 10,
   "id": "0ee36a17",
   "metadata": {},
   "outputs": [],
   "source": [
    "pessoa = [\"Amo como ama o amor. Não conheço nenhuma outra razão para amar senão mar. Que queres que te diga, além de que te amo, se o que quero dizer-te é que te amo?\",\n",
    "                \"Às vezes ouço passar o vento; e só de ouvir o vento passar, vale a pena ter nascido.\",\n",
    "                \"Tudo vale a pena quando a alma não é pequena.\",\n",
    "                \"Tenho em mim todos os sonhos do mundo.\",\n",
    "                \"Tenho pensamentos que, se pudesse revelá-los e fazê-los viver, acrescentariam nova luminosidade às estrelas, nova beleza ao mundo e maior amor ao coração dos homens.\",\n",
    "                \"O poeta é um fingidor. Finge tão completamente. Que chega a fingir que é dor. A dor que deveras sente.\",\n",
    "                \"O próprio viver é morrer, porque não temos um dia a mais na nossa vida que não tenhamos, nisso, um dia a menos nela.\",\n",
    "                \"Matar o sonho é matarmo-nos. É mutilar a nossa alma. O sonho é o que temos de realmente nosso, de impenetravelmente e inexpugnavelmente nosso.\"]"
   ]
  },
  {
   "cell_type": "code",
   "execution_count": 11,
   "id": "0edfb05a",
   "metadata": {},
   "outputs": [],
   "source": [
    "# Função que conta palavras\n",
    "def cont_words(a):\n",
    "    return a.count(\"amor\") >= 1"
   ]
  },
  {
   "cell_type": "markdown",
   "id": "b131cb03",
   "metadata": {},
   "source": [
    "### Aplicando Filter()"
   ]
  },
  {
   "cell_type": "code",
   "execution_count": 12,
   "id": "08d44ea6",
   "metadata": {},
   "outputs": [
    {
     "data": {
      "text/plain": [
       "['Amo como ama o amor. Não conheço nenhuma outra razão para amar senão mar. Que queres que te diga, além de que te amo, se o que quero dizer-te é que te amo?',\n",
       " 'Tenho pensamentos que, se pudesse revelá-los e fazê-los viver, acrescentariam nova luminosidade às estrelas, nova beleza ao mundo e maior amor ao coração dos homens.']"
      ]
     },
     "execution_count": 12,
     "metadata": {},
     "output_type": "execute_result"
    }
   ],
   "source": [
    "list(filter(cont_words, pessoa))"
   ]
  },
  {
   "cell_type": "markdown",
   "id": "b4b98c00",
   "metadata": {},
   "source": [
    "### Aplicando Map()"
   ]
  },
  {
   "cell_type": "code",
   "execution_count": 13,
   "id": "dba8117b",
   "metadata": {},
   "outputs": [
    {
     "data": {
      "text/plain": [
       "[True, False, False, False, True, False, False, False]"
      ]
     },
     "execution_count": 13,
     "metadata": {},
     "output_type": "execute_result"
    }
   ],
   "source": [
    "list(map(cont_words, pessoa))"
   ]
  }
 ],
 "metadata": {
  "kernelspec": {
   "display_name": "Python 3",
   "language": "python",
   "name": "python3"
  },
  "language_info": {
   "codemirror_mode": {
    "name": "ipython",
    "version": 3
   },
   "file_extension": ".py",
   "mimetype": "text/x-python",
   "name": "python",
   "nbconvert_exporter": "python",
   "pygments_lexer": "ipython3",
   "version": "3.8.8"
  }
 },
 "nbformat": 4,
 "nbformat_minor": 5
}
