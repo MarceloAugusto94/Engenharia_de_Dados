{
 "cells": [
  {
   "cell_type": "code",
   "execution_count": 12,
   "id": "91d480af",
   "metadata": {},
   "outputs": [],
   "source": [
    "df = (spark\n",
    "      .read\n",
    "      .format(\"csv\")\n",
    "      .option(\"header\", \"True\")\n",
    "      .option(\"inferSchema\", \"False\")\n",
    "      .option(\"delimiter\", \";\")\n",
    "      .load(\"dataset/arquivo_geral.csv\")\n",
    ")\n",
    "\n",
    "import pyspark.sql.functions as f"
   ]
  },
  {
   "cell_type": "code",
   "execution_count": 13,
   "id": "48287712",
   "metadata": {},
   "outputs": [
    {
     "name": "stdout",
     "output_type": "stream",
     "text": [
      "root\n",
      " |-- regiao: string (nullable = true)\n",
      " |-- estado: string (nullable = true)\n",
      " |-- data: string (nullable = true)\n",
      " |-- casosNovos: string (nullable = true)\n",
      " |-- casosAcumulados: string (nullable = true)\n",
      " |-- obitosNovos: string (nullable = true)\n",
      " |-- obitosAcumulados: string (nullable = true)\n",
      "\n"
     ]
    }
   ],
   "source": [
    "df.printSchema()"
   ]
  },
  {
   "cell_type": "code",
   "execution_count": 14,
   "id": "9c0e2ee5",
   "metadata": {},
   "outputs": [],
   "source": [
    "from pyspark.sql.types import StructType, StructField, StringType, IntegerType"
   ]
  },
  {
   "cell_type": "code",
   "execution_count": 15,
   "id": "4ddd4d56",
   "metadata": {},
   "outputs": [],
   "source": [
    "schema = (StructType([\n",
    "          StructField(\"regiao\", StringType(), True),\n",
    "          StructField(\"estado\", StringType(), True),\n",
    "          StructField(\"data\", StringType(), True),\n",
    "          StructField(\"casosNovos\", IntegerType(), True),\n",
    "          StructField(\"casosAcumulados\", IntegerType(), True),\n",
    "          StructField(\"obitosNovos\", IntegerType(), True),\n",
    "          StructField(\"obitosAcumulados\", IntegerType(), True)\n",
    "]))"
   ]
  },
  {
   "cell_type": "code",
   "execution_count": 16,
   "id": "cc731b5e",
   "metadata": {},
   "outputs": [
    {
     "name": "stdout",
     "output_type": "stream",
     "text": [
      "root\n",
      " |-- regiao: string (nullable = true)\n",
      " |-- estado: string (nullable = true)\n",
      " |-- data: string (nullable = true)\n",
      " |-- casosNovos: integer (nullable = true)\n",
      " |-- casosAcumulados: integer (nullable = true)\n",
      " |-- obitosNovos: integer (nullable = true)\n",
      " |-- obitosAcumulados: integer (nullable = true)\n",
      "\n"
     ]
    }
   ],
   "source": [
    "df = (spark\n",
    "      .read\n",
    "      .format(\"csv\")\n",
    "      .option(\"header\", \"True\")\n",
    "      .option(\"inferSchema\", \"False\")\n",
    "      .option(\"delimiter\", \";\")\n",
    "      .load(\"dataset/arquivo_geral.csv\", schema = schema)\n",
    ")\n",
    "\n",
    "df.printSchema()"
   ]
  }
 ],
 "metadata": {
  "kernelspec": {
   "display_name": "Python 3",
   "language": "python",
   "name": "python3"
  },
  "language_info": {
   "codemirror_mode": {
    "name": "ipython",
    "version": 3
   },
   "file_extension": ".py",
   "mimetype": "text/x-python",
   "name": "python",
   "nbconvert_exporter": "python",
   "pygments_lexer": "ipython3",
   "version": "3.8.8"
  }
 },
 "nbformat": 4,
 "nbformat_minor": 5
}
