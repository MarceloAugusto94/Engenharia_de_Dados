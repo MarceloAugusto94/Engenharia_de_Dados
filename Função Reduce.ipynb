{
 "cells": [
  {
   "cell_type": "markdown",
   "id": "91c67d19",
   "metadata": {},
   "source": [
    "# Função REDUCE\n",
    "\n",
    "* A função REDUCE() aplica uma função a uma sequência de elementos, até reduzir a sequência a um ÚNICO elemento"
   ]
  },
  {
   "cell_type": "code",
   "execution_count": 5,
   "id": "00bcc2bb",
   "metadata": {},
   "outputs": [],
   "source": [
    "# Não faz parte da biblioteca principal do Python. Precisa ser importada da functools\n",
    "\n",
    "from functools import reduce"
   ]
  },
  {
   "cell_type": "code",
   "execution_count": 8,
   "id": "36e33bf7",
   "metadata": {},
   "outputs": [],
   "source": [
    "soma = reduce((lambda x, y: x + y), range(10))"
   ]
  },
  {
   "cell_type": "code",
   "execution_count": 10,
   "id": "6d2a984d",
   "metadata": {},
   "outputs": [
    {
     "data": {
      "text/plain": [
       "45"
      ]
     },
     "execution_count": 10,
     "metadata": {},
     "output_type": "execute_result"
    }
   ],
   "source": [
    "soma"
   ]
  },
  {
   "cell_type": "markdown",
   "id": "704b3f3c",
   "metadata": {},
   "source": [
    "## Continuação Reduce\n",
    "\n",
    "Aplica uma função a todos os elementos de uma lista, até que os mesmos sejam reduzidos a um só."
   ]
  },
  {
   "cell_type": "code",
   "execution_count": 1,
   "id": "f24973d9",
   "metadata": {},
   "outputs": [],
   "source": [
    "# A função REDUCE() não faz parte das funções built in do Python. Temos que importar a biblioteca functools\n",
    "\n",
    "from functools import reduce"
   ]
  },
  {
   "cell_type": "code",
   "execution_count": 2,
   "id": "43210ba9",
   "metadata": {},
   "outputs": [],
   "source": [
    "elementos = range(1, 100)"
   ]
  },
  {
   "cell_type": "code",
   "execution_count": 3,
   "id": "31ba0219",
   "metadata": {},
   "outputs": [
    {
     "name": "stdout",
     "output_type": "stream",
     "text": [
      "range(1, 100)\n"
     ]
    }
   ],
   "source": [
    "print(elementos)"
   ]
  },
  {
   "cell_type": "code",
   "execution_count": 4,
   "id": "2f87f711",
   "metadata": {},
   "outputs": [],
   "source": [
    "def acumulador(lista):\n",
    "    acumulado = 0\n",
    "    for item in lista:\n",
    "        acumulado = item + acumulado\n",
    "        \n",
    "    return acumulado"
   ]
  },
  {
   "cell_type": "code",
   "execution_count": 5,
   "id": "22616fd6",
   "metadata": {},
   "outputs": [
    {
     "name": "stdout",
     "output_type": "stream",
     "text": [
      "4950\n"
     ]
    }
   ],
   "source": [
    "print(acumulador(elementos))"
   ]
  },
  {
   "cell_type": "markdown",
   "id": "b2d4232a",
   "metadata": {},
   "source": [
    "## Aplicando a função reduce()"
   ]
  },
  {
   "cell_type": "code",
   "execution_count": 6,
   "id": "49f4323e",
   "metadata": {},
   "outputs": [],
   "source": [
    "soma = reduce((lambda x, y: x + y), elementos)"
   ]
  },
  {
   "cell_type": "code",
   "execution_count": 7,
   "id": "4e72b7b6",
   "metadata": {},
   "outputs": [
    {
     "data": {
      "text/plain": [
       "4950"
      ]
     },
     "execution_count": 7,
     "metadata": {},
     "output_type": "execute_result"
    }
   ],
   "source": [
    "soma"
   ]
  },
  {
   "cell_type": "markdown",
   "id": "7ae1f62b",
   "metadata": {},
   "source": [
    "Determinando o maior número da lista com reduce()"
   ]
  },
  {
   "cell_type": "code",
   "execution_count": 8,
   "id": "eb739fd7",
   "metadata": {},
   "outputs": [
    {
     "data": {
      "text/plain": [
       "645"
      ]
     },
     "execution_count": 8,
     "metadata": {},
     "output_type": "execute_result"
    }
   ],
   "source": [
    "lista = [470, 11, 42, 102, 13, 4, 645, 87]\n",
    "\n",
    "reduce(lambda a, b: a if (a > b) else b, lista)"
   ]
  },
  {
   "cell_type": "code",
   "execution_count": 9,
   "id": "243a7c1a",
   "metadata": {},
   "outputs": [
    {
     "data": {
      "text/plain": [
       "645"
      ]
     },
     "execution_count": 9,
     "metadata": {},
     "output_type": "execute_result"
    }
   ],
   "source": [
    "lista = [470, 11, 42, 102, 13, 4, 645, 87]\n",
    "\n",
    "f = lambda a, b: a if (a > b) else b\n",
    "\n",
    "reduce(f, lista)"
   ]
  },
  {
   "cell_type": "markdown",
   "id": "383aa4fa",
   "metadata": {},
   "source": [
    "Determinando o menor número da lista com reduce()"
   ]
  },
  {
   "cell_type": "code",
   "execution_count": 11,
   "id": "dd6b377f",
   "metadata": {},
   "outputs": [
    {
     "data": {
      "text/plain": [
       "4"
      ]
     },
     "execution_count": 11,
     "metadata": {},
     "output_type": "execute_result"
    }
   ],
   "source": [
    "lista = [470, 11, 42, 102, 13, 4, 645, 87]\n",
    "\n",
    "reduce(lambda a, b: a if (a < b) else b, lista)"
   ]
  },
  {
   "cell_type": "code",
   "execution_count": 12,
   "id": "bf69e81a",
   "metadata": {},
   "outputs": [
    {
     "data": {
      "text/plain": [
       "4"
      ]
     },
     "execution_count": 12,
     "metadata": {},
     "output_type": "execute_result"
    }
   ],
   "source": [
    "lista = [470, 11, 42, 102, 13, 4, 645, 87]\n",
    "\n",
    "f = lambda a, b: a if (a < b) else b\n",
    "\n",
    "reduce(f, lista)"
   ]
  },
  {
   "cell_type": "markdown",
   "id": "d160c11c",
   "metadata": {},
   "source": [
    "# Utilizando a reduce() como função do Spark"
   ]
  },
  {
   "cell_type": "code",
   "execution_count": 15,
   "id": "193ce148",
   "metadata": {},
   "outputs": [
    {
     "name": "stdout",
     "output_type": "stream",
     "text": [
      "55\n"
     ]
    }
   ],
   "source": [
    "from pyspark import SparkContext\n",
    "sc = SparkContext.getOrCreate()\n",
    "\n",
    "rddlist = sc.parallelize([1, 2, 3, 4, 5, 6, 7, 8, 9, 10], 2)\n",
    "\n",
    "soma = rddlist.reduce(lambda a, b: a + b)\n",
    "print(soma)"
   ]
  },
  {
   "cell_type": "code",
   "execution_count": 16,
   "id": "8d78351c",
   "metadata": {},
   "outputs": [
    {
     "data": {
      "text/plain": [
       "pyspark.rdd.RDD"
      ]
     },
     "execution_count": 16,
     "metadata": {},
     "output_type": "execute_result"
    }
   ],
   "source": [
    "type(rddlist)"
   ]
  },
  {
   "cell_type": "code",
   "execution_count": null,
   "id": "bc1da8f4",
   "metadata": {},
   "outputs": [],
   "source": [
    "# TAB - Diferença entre lista e rdd\n",
    "\n",
    "lista.\n",
    "rddlist."
   ]
  },
  {
   "cell_type": "code",
   "execution_count": 14,
   "id": "ecce2423",
   "metadata": {},
   "outputs": [
    {
     "name": "stdout",
     "output_type": "stream",
     "text": [
      "3628800\n"
     ]
    }
   ],
   "source": [
    "# Aplicando redução com multiplicação\n",
    "\n",
    "multi = rddlist.reduce(lambda acumulador, numero: acumulador * numero)\n",
    "print(multi)"
   ]
  },
  {
   "cell_type": "code",
   "execution_count": 17,
   "id": "be42a294",
   "metadata": {},
   "outputs": [
    {
     "name": "stdout",
     "output_type": "stream",
     "text": [
      "55\n"
     ]
    }
   ],
   "source": [
    "# Podemos também definir uma função\n",
    "\n",
    "def soma(acum, n):\n",
    "    return acum + n\n",
    "\n",
    "resultado = rddlist.reduce(soma)\n",
    "print(resultado)"
   ]
  },
  {
   "cell_type": "code",
   "execution_count": 19,
   "id": "64c26e37",
   "metadata": {},
   "outputs": [
    {
     "name": "stdout",
     "output_type": "stream",
     "text": [
      "4999950000\n"
     ]
    }
   ],
   "source": [
    "# Paralelizando em 10\n",
    "rddList = sc.parallelize(range(100000), 10)\n",
    "\n",
    "soma = rddList.reduce(lambda a, b: a + b)\n",
    "print(soma)"
   ]
  }
 ],
 "metadata": {
  "kernelspec": {
   "display_name": "Python 3",
   "language": "python",
   "name": "python3"
  },
  "language_info": {
   "codemirror_mode": {
    "name": "ipython",
    "version": 3
   },
   "file_extension": ".py",
   "mimetype": "text/x-python",
   "name": "python",
   "nbconvert_exporter": "python",
   "pygments_lexer": "ipython3",
   "version": "3.8.8"
  }
 },
 "nbformat": 4,
 "nbformat_minor": 5
}
