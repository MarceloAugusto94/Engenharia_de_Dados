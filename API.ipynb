{
  "nbformat": 4,
  "nbformat_minor": 0,
  "metadata": {
    "colab": {
      "name": "API.ipynb",
      "provenance": [],
      "authorship_tag": "ABX9TyPOf05zHLZEg1FXY0oAH4rf"
    },
    "kernelspec": {
      "name": "python3",
      "display_name": "Python 3"
    },
    "language_info": {
      "name": "python"
    }
  },
  "cells": [
    {
      "cell_type": "code",
      "execution_count": null,
      "metadata": {
        "id": "wRFREfugSYbE"
      },
      "outputs": [],
      "source": [
        "# flask  (python3 -m poetry add Flask)\n",
        "# pandas (python3 -m poetry add pandas)\n",
        "\n",
        "import pandas as pd\n",
        "from flask import Flask, jsonify\n",
        "\n",
        "# forma de inicializar o Flask\n",
        "app = Flask(__name__) \n",
        "\n",
        "# construir as funcionalidades\n",
        "@app.route('/')\n",
        "def homepage():\n",
        "  return 'A API está no ar'\n",
        "\n",
        "@app.route('/pegarvendas')\n",
        "def pegarvendas():\n",
        "  tabela = pd.read_csv('12-18 - Criando API no Python.csv')\n",
        "  total_vendas = tabela['Vendas'].sum()\n",
        "  resposta = {'total_vendas': total_vendas}\n",
        "  return jsonify(resposta)\n",
        "\n",
        "\n",
        "# rodar a nossa api\n",
        "app.run(host='0.0.0.0')"
      ]
    },
    {
      "cell_type": "markdown",
      "source": [
        "REQUEST API"
      ],
      "metadata": {
        "id": "2P3TNEBnShqY"
      }
    },
    {
      "cell_type": "code",
      "source": [
        "!pip install requests"
      ],
      "metadata": {
        "id": "Y8iX_9CySlSo"
      },
      "execution_count": null,
      "outputs": []
    },
    {
      "cell_type": "code",
      "source": [
        "import requests\n",
        "\n",
        "link = 'https://minhaapi.marceloaugust47.repl.co/pegarvendas'\n",
        "\n",
        "requisicao = requests.get(link)\n",
        "\n",
        "print(requisicao)\n",
        "print(requisicao.json())"
      ],
      "metadata": {
        "id": "ZCnNmyQaSl_T"
      },
      "execution_count": null,
      "outputs": []
    },
    {
      "cell_type": "code",
      "source": [
        "dicionario = requisicao.json()"
      ],
      "metadata": {
        "id": "zB6krBvlSpT_"
      },
      "execution_count": null,
      "outputs": []
    },
    {
      "cell_type": "code",
      "source": [
        "print(dicionario['total_vendas'])"
      ],
      "metadata": {
        "id": "FCGARhsOSrbb"
      },
      "execution_count": null,
      "outputs": []
    }
  ]
}