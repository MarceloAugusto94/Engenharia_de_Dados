{
  "nbformat": 4,
  "nbformat_minor": 0,
  "metadata": {
    "colab": {
      "name": "Sumarizando_Dados.ipynb",
      "provenance": [],
      "authorship_tag": "ABX9TyM+4pBSJUeGt40iEtsWUvtx"
    },
    "kernelspec": {
      "name": "python3",
      "display_name": "Python 3"
    },
    "language_info": {
      "name": "python"
    }
  },
  "cells": [
    {
      "cell_type": "markdown",
      "source": [
        "**limpeza e estruturação**"
      ],
      "metadata": {
        "id": "vs9ru2f1vBbq"
      }
    },
    {
      "cell_type": "code",
      "execution_count": 1,
      "metadata": {
        "id": "N4gb4A5cuxO5"
      },
      "outputs": [],
      "source": [
        "import pandas as pd\n",
        "import numpy as np"
      ]
    },
    {
      "cell_type": "code",
      "source": [
        "datas = pd.date_range(start = '20200101', periods = 6)\n",
        "\n",
        "df = pd.DataFrame(np.random.randn(6, 4), index = datas, columns = ['Var_A', 'Var_B', 'Var_C', 'Var_D'])"
      ],
      "metadata": {
        "id": "cbXihculwwNR"
      },
      "execution_count": 2,
      "outputs": []
    },
    {
      "cell_type": "code",
      "source": [
        ""
      ],
      "metadata": {
        "id": "AYmDvXDvxLPt"
      },
      "execution_count": null,
      "outputs": []
    }
  ]
}