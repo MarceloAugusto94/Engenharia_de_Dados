{
 "cells": [
  {
   "cell_type": "markdown",
   "id": "21e86383",
   "metadata": {},
   "source": [
    "# Funções Lambda\n",
    "\n",
    "* As funções lambda não são definidas, portanto, não recebem nome. São conhecidas por isso como funções anônimas. A vantagem das funções Lambda são uma menor utilização de memória, já que são executadas \"on the fly\" e deixam o código mais limpo."
   ]
  },
  {
   "cell_type": "markdown",
   "id": "0f15ae31",
   "metadata": {},
   "source": [
    "### Utilizando 3 linhas de código"
   ]
  },
  {
   "cell_type": "code",
   "execution_count": 1,
   "id": "f25055df",
   "metadata": {},
   "outputs": [],
   "source": [
    "def quadrado(num):\n",
    "    a = num**2\n",
    "    return a"
   ]
  },
  {
   "cell_type": "code",
   "execution_count": 2,
   "id": "2209807b",
   "metadata": {},
   "outputs": [
    {
     "data": {
      "text/plain": [
       "25"
      ]
     },
     "execution_count": 2,
     "metadata": {},
     "output_type": "execute_result"
    }
   ],
   "source": [
    "quadrado(5)"
   ]
  },
  {
   "cell_type": "markdown",
   "id": "636cc140",
   "metadata": {},
   "source": [
    "### Utilizando 2 linhas de código"
   ]
  },
  {
   "cell_type": "code",
   "execution_count": 5,
   "id": "47692f2a",
   "metadata": {},
   "outputs": [],
   "source": [
    "def quadrado(num): \n",
    "    return num**2"
   ]
  },
  {
   "cell_type": "code",
   "execution_count": 6,
   "id": "37f2fa00",
   "metadata": {},
   "outputs": [
    {
     "data": {
      "text/plain": [
       "25"
      ]
     },
     "execution_count": 6,
     "metadata": {},
     "output_type": "execute_result"
    }
   ],
   "source": [
    "quadrado(5)"
   ]
  },
  {
   "cell_type": "markdown",
   "id": "3babe8d1",
   "metadata": {},
   "source": [
    "### Utilizando 1 linha de código"
   ]
  },
  {
   "cell_type": "code",
   "execution_count": 7,
   "id": "ee4c0b19",
   "metadata": {},
   "outputs": [],
   "source": [
    "def quadrado(num): return num**2"
   ]
  },
  {
   "cell_type": "code",
   "execution_count": 8,
   "id": "d6a7b593",
   "metadata": {},
   "outputs": [
    {
     "data": {
      "text/plain": [
       "25"
      ]
     },
     "execution_count": 8,
     "metadata": {},
     "output_type": "execute_result"
    }
   ],
   "source": [
    "quadrado(5)"
   ]
  },
  {
   "cell_type": "markdown",
   "id": "72f9e04d",
   "metadata": {},
   "source": [
    "## Lambda"
   ]
  },
  {
   "cell_type": "code",
   "execution_count": 9,
   "id": "bdbcd192",
   "metadata": {},
   "outputs": [
    {
     "data": {
      "text/plain": [
       "<function __main__.<lambda>(num)>"
      ]
     },
     "execution_count": 9,
     "metadata": {},
     "output_type": "execute_result"
    }
   ],
   "source": [
    "lambda num: num**2"
   ]
  },
  {
   "cell_type": "code",
   "execution_count": 10,
   "id": "f8983b3e",
   "metadata": {},
   "outputs": [],
   "source": [
    "quadrado = lambda num: num**2"
   ]
  },
  {
   "cell_type": "code",
   "execution_count": 11,
   "id": "ee4ef8d4",
   "metadata": {},
   "outputs": [
    {
     "data": {
      "text/plain": [
       "25"
      ]
     },
     "execution_count": 11,
     "metadata": {},
     "output_type": "execute_result"
    }
   ],
   "source": [
    "quadrado(5)"
   ]
  },
  {
   "cell_type": "code",
   "execution_count": 12,
   "id": "ba95ae7e",
   "metadata": {},
   "outputs": [],
   "source": [
    "# Retornando o último elemento\n",
    "ultimo = lambda s:s[-1]"
   ]
  },
  {
   "cell_type": "code",
   "execution_count": 13,
   "id": "c13e2861",
   "metadata": {},
   "outputs": [
    {
     "data": {
      "text/plain": [
       "'S'"
      ]
     },
     "execution_count": 13,
     "metadata": {},
     "output_type": "execute_result"
    }
   ],
   "source": [
    "ultimo(\"UNIDADOS\")"
   ]
  },
  {
   "cell_type": "markdown",
   "id": "dd4311d5",
   "metadata": {},
   "source": [
    "## Lambda Booleanas"
   ]
  },
  {
   "cell_type": "code",
   "execution_count": 14,
   "id": "e5b0c8af",
   "metadata": {},
   "outputs": [],
   "source": [
    "# Número Ímpar\n",
    "impar = lambda x: x%2 > 0"
   ]
  },
  {
   "cell_type": "code",
   "execution_count": 15,
   "id": "8f7371cf",
   "metadata": {},
   "outputs": [
    {
     "data": {
      "text/plain": [
       "True"
      ]
     },
     "execution_count": 15,
     "metadata": {},
     "output_type": "execute_result"
    }
   ],
   "source": [
    "impar(3)"
   ]
  },
  {
   "cell_type": "code",
   "execution_count": 16,
   "id": "81c5a2e7",
   "metadata": {},
   "outputs": [],
   "source": [
    "# Número maior que 10\n",
    "maior = lambda x: x > 10"
   ]
  },
  {
   "cell_type": "code",
   "execution_count": 19,
   "id": "63286f04",
   "metadata": {},
   "outputs": [
    {
     "data": {
      "text/plain": [
       "True"
      ]
     },
     "execution_count": 19,
     "metadata": {},
     "output_type": "execute_result"
    }
   ],
   "source": [
    "maior(11)"
   ]
  },
  {
   "cell_type": "markdown",
   "id": "02a12453",
   "metadata": {},
   "source": [
    "## Listas"
   ]
  },
  {
   "cell_type": "code",
   "execution_count": 20,
   "id": "ae9e2e4d",
   "metadata": {},
   "outputs": [],
   "source": [
    "lista = [2, 3, 4, 5]"
   ]
  },
  {
   "cell_type": "code",
   "execution_count": 21,
   "id": "378ac81e",
   "metadata": {},
   "outputs": [],
   "source": [
    "dobro = lambda x: x * 2"
   ]
  },
  {
   "cell_type": "code",
   "execution_count": 22,
   "id": "a52add27",
   "metadata": {},
   "outputs": [
    {
     "data": {
      "text/plain": [
       "[2, 3, 4, 5, 2, 3, 4, 5]"
      ]
     },
     "execution_count": 22,
     "metadata": {},
     "output_type": "execute_result"
    }
   ],
   "source": [
    "# Aqui temos que utilizar a função MAP, que veremos um pouco mais a frente\n",
    "dobro(lista)"
   ]
  },
  {
   "cell_type": "code",
   "execution_count": 23,
   "id": "5e90681b",
   "metadata": {},
   "outputs": [],
   "source": [
    "soma = lambda x, y: x + y"
   ]
  },
  {
   "cell_type": "code",
   "execution_count": 24,
   "id": "e1645b94",
   "metadata": {},
   "outputs": [
    {
     "data": {
      "text/plain": [
       "20"
      ]
     },
     "execution_count": 24,
     "metadata": {},
     "output_type": "execute_result"
    }
   ],
   "source": [
    "soma(10,10)"
   ]
  },
  {
   "cell_type": "code",
   "execution_count": 28,
   "id": "52451e1a",
   "metadata": {},
   "outputs": [],
   "source": [
    "# Ordenando inversamente \n",
    "# :: -> Indexando do ínicio ao fim\n",
    "reverse = lambda s: s[::-1]"
   ]
  },
  {
   "cell_type": "code",
   "execution_count": 29,
   "id": "8990a4b6",
   "metadata": {},
   "outputs": [
    {
     "data": {
      "text/plain": [
       "'SODADINU'"
      ]
     },
     "execution_count": 29,
     "metadata": {},
     "output_type": "execute_result"
    }
   ],
   "source": [
    "reverse(\"UNIDADOS\")"
   ]
  }
 ],
 "metadata": {
  "kernelspec": {
   "display_name": "Python 3",
   "language": "python",
   "name": "python3"
  },
  "language_info": {
   "codemirror_mode": {
    "name": "ipython",
    "version": 3
   },
   "file_extension": ".py",
   "mimetype": "text/x-python",
   "name": "python",
   "nbconvert_exporter": "python",
   "pygments_lexer": "ipython3",
   "version": "3.8.8"
  }
 },
 "nbformat": 4,
 "nbformat_minor": 5
}
