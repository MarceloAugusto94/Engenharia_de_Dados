{
 "cells": [
  {
   "cell_type": "markdown",
   "id": "c808eaa1",
   "metadata": {},
   "source": [
    "# Função MAP - Boleanos"
   ]
  },
  {
   "cell_type": "code",
   "execution_count": 1,
   "id": "a52e43a4",
   "metadata": {},
   "outputs": [],
   "source": [
    "# Definindo uma lista de valores\n",
    "\n",
    "lista = [1, 2, 4, 6, 7, 8, 10, 13]"
   ]
  },
  {
   "cell_type": "code",
   "execution_count": 2,
   "id": "a4c64746",
   "metadata": {},
   "outputs": [
    {
     "data": {
      "text/plain": [
       "[1, 2, 4, 6, 7, 8, 10, 13]"
      ]
     },
     "execution_count": 2,
     "metadata": {},
     "output_type": "execute_result"
    }
   ],
   "source": [
    "# Imprimindo a lista\n",
    "\n",
    "lista"
   ]
  },
  {
   "cell_type": "code",
   "execution_count": 3,
   "id": "1b457f26",
   "metadata": {},
   "outputs": [
    {
     "data": {
      "text/plain": [
       "list"
      ]
     },
     "execution_count": 3,
     "metadata": {},
     "output_type": "execute_result"
    }
   ],
   "source": [
    "# Tipo\n",
    "type(lista)"
   ]
  },
  {
   "cell_type": "code",
   "execution_count": 4,
   "id": "e55a065e",
   "metadata": {},
   "outputs": [],
   "source": [
    "# Função simples, \n",
    "\n",
    "def impar(num):\n",
    "    if num % 2 > 0:\n",
    "        return True\n",
    "    else:\n",
    "        return False"
   ]
  },
  {
   "cell_type": "code",
   "execution_count": 5,
   "id": "343560a0",
   "metadata": {},
   "outputs": [
    {
     "data": {
      "text/plain": [
       "False"
      ]
     },
     "execution_count": 5,
     "metadata": {},
     "output_type": "execute_result"
    }
   ],
   "source": [
    "impar(20)"
   ]
  },
  {
   "cell_type": "code",
   "execution_count": 6,
   "id": "b1a8ea2e",
   "metadata": {},
   "outputs": [
    {
     "ename": "TypeError",
     "evalue": "unsupported operand type(s) for %: 'list' and 'int'",
     "output_type": "error",
     "traceback": [
      "\u001b[1;31m---------------------------------------------------------------------------\u001b[0m",
      "\u001b[1;31mTypeError\u001b[0m                                 Traceback (most recent call last)",
      "\u001b[1;32m<ipython-input-6-859a5dc6214b>\u001b[0m in \u001b[0;36m<module>\u001b[1;34m\u001b[0m\n\u001b[1;32m----> 1\u001b[1;33m \u001b[0mimpar\u001b[0m\u001b[1;33m(\u001b[0m\u001b[0mlista\u001b[0m\u001b[1;33m)\u001b[0m\u001b[1;33m\u001b[0m\u001b[1;33m\u001b[0m\u001b[0m\n\u001b[0m",
      "\u001b[1;32m<ipython-input-4-a04b9523be62>\u001b[0m in \u001b[0;36mimpar\u001b[1;34m(num)\u001b[0m\n\u001b[0;32m      2\u001b[0m \u001b[1;33m\u001b[0m\u001b[0m\n\u001b[0;32m      3\u001b[0m \u001b[1;32mdef\u001b[0m \u001b[0mimpar\u001b[0m\u001b[1;33m(\u001b[0m\u001b[0mnum\u001b[0m\u001b[1;33m)\u001b[0m\u001b[1;33m:\u001b[0m\u001b[1;33m\u001b[0m\u001b[1;33m\u001b[0m\u001b[0m\n\u001b[1;32m----> 4\u001b[1;33m     \u001b[1;32mif\u001b[0m \u001b[0mnum\u001b[0m \u001b[1;33m%\u001b[0m \u001b[1;36m2\u001b[0m \u001b[1;33m>\u001b[0m \u001b[1;36m0\u001b[0m\u001b[1;33m:\u001b[0m\u001b[1;33m\u001b[0m\u001b[1;33m\u001b[0m\u001b[0m\n\u001b[0m\u001b[0;32m      5\u001b[0m         \u001b[1;32mreturn\u001b[0m \u001b[1;32mTrue\u001b[0m\u001b[1;33m\u001b[0m\u001b[1;33m\u001b[0m\u001b[0m\n\u001b[0;32m      6\u001b[0m     \u001b[1;32melse\u001b[0m\u001b[1;33m:\u001b[0m\u001b[1;33m\u001b[0m\u001b[1;33m\u001b[0m\u001b[0m\n",
      "\u001b[1;31mTypeError\u001b[0m: unsupported operand type(s) for %: 'list' and 'int'"
     ]
    }
   ],
   "source": [
    "impar(lista)"
   ]
  },
  {
   "cell_type": "code",
   "execution_count": 8,
   "id": "f9d51980",
   "metadata": {},
   "outputs": [
    {
     "name": "stdout",
     "output_type": "stream",
     "text": [
      "True\n",
      "False\n",
      "False\n",
      "False\n",
      "True\n",
      "False\n",
      "False\n",
      "True\n"
     ]
    }
   ],
   "source": [
    "# Para aplicar a função definida acima, necessitamos criar um loop For para percorrer toda a lista\n",
    "\n",
    "for elemento in lista:\n",
    "    print(impar(elemento))"
   ]
  },
  {
   "cell_type": "code",
   "execution_count": 9,
   "id": "6b3648e4",
   "metadata": {},
   "outputs": [
    {
     "data": {
      "text/plain": [
       "<map at 0x2235465a0a0>"
      ]
     },
     "execution_count": 9,
     "metadata": {},
     "output_type": "execute_result"
    }
   ],
   "source": [
    "map(impar, lista)"
   ]
  },
  {
   "cell_type": "code",
   "execution_count": 12,
   "id": "797f4160",
   "metadata": {},
   "outputs": [],
   "source": [
    "# Com a função MAP() esse processo é facilitado, e a função é MAPEADA sendo aplicada a cada elemento da lista, como um mapeamento\n",
    "# ELEMENTO - VALOR\n",
    "\n",
    "lista_map = map(impar, lista)"
   ]
  },
  {
   "cell_type": "code",
   "execution_count": 13,
   "id": "80b4673e",
   "metadata": {},
   "outputs": [
    {
     "name": "stdout",
     "output_type": "stream",
     "text": [
      "<map object at 0x000002235465AFA0>\n"
     ]
    }
   ],
   "source": [
    "# A função MAP() SEMPRE retorna um objeto iterável\n",
    "\n",
    "print(lista_map)"
   ]
  },
  {
   "cell_type": "code",
   "execution_count": 14,
   "id": "41a95be3",
   "metadata": {},
   "outputs": [
    {
     "name": "stdout",
     "output_type": "stream",
     "text": [
      "[True, False, False, False, True, False, False, True]\n"
     ]
    }
   ],
   "source": [
    "# O objeto iterável pode ser convertido em lista, e assim podemos visualizar o seu conteúdo\n",
    "\n",
    "print(list(lista_map))"
   ]
  },
  {
   "cell_type": "code",
   "execution_count": 10,
   "id": "80278ad6",
   "metadata": {},
   "outputs": [
    {
     "name": "stdout",
     "output_type": "stream",
     "text": [
      "[True, False, False, False, True, False, False, True]\n"
     ]
    }
   ],
   "source": [
    "print(list(map(impar, lista)))"
   ]
  },
  {
   "cell_type": "code",
   "execution_count": null,
   "id": "aa654cbe",
   "metadata": {},
   "outputs": [],
   "source": []
  }
 ],
 "metadata": {
  "kernelspec": {
   "display_name": "Python 3",
   "language": "python",
   "name": "python3"
  },
  "language_info": {
   "codemirror_mode": {
    "name": "ipython",
    "version": 3
   },
   "file_extension": ".py",
   "mimetype": "text/x-python",
   "name": "python",
   "nbconvert_exporter": "python",
   "pygments_lexer": "ipython3",
   "version": "3.8.8"
  }
 },
 "nbformat": 4,
 "nbformat_minor": 5
}
