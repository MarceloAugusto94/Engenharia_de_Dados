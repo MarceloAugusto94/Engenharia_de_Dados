{
  "nbformat": 4,
  "nbformat_minor": 0,
  "metadata": {
    "colab": {
      "name": "01- Programação Python.ipynb",
      "provenance": [],
      "collapsed_sections": [],
      "authorship_tag": "ABX9TyNg5XaIyl/F10Nh+yaOczXM"
    },
    "kernelspec": {
      "name": "python3",
      "display_name": "Python 3"
    },
    "language_info": {
      "name": "python"
    }
  },
  "cells": [
    {
      "cell_type": "code",
      "execution_count": null,
      "metadata": {
        "colab": {
          "base_uri": "https://localhost:8080/"
        },
        "id": "-d9BGJxqxVWA",
        "outputId": "44b93d16-3622-44c1-f769-8325bb97ea66"
      },
      "outputs": [
        {
          "output_type": "stream",
          "name": "stdout",
          "text": [
            "Hello World!\n"
          ]
        }
      ],
      "source": [
        "print('Hello World!')"
      ]
    },
    {
      "cell_type": "code",
      "source": [
        "print('Bem-vindo ao curso de Python!')"
      ],
      "metadata": {
        "colab": {
          "base_uri": "https://localhost:8080/"
        },
        "id": "jHoak8b4xgMk",
        "outputId": "d4ae667f-b44a-4ddf-bb91-5277bcc53c32"
      },
      "execution_count": null,
      "outputs": [
        {
          "output_type": "stream",
          "name": "stdout",
          "text": [
            "Bem-vindo ao curso de Python!\n"
          ]
        }
      ]
    },
    {
      "cell_type": "code",
      "source": [
        "# Comentário"
      ],
      "metadata": {
        "id": "_tTSA_evxikV"
      },
      "execution_count": null,
      "outputs": []
    },
    {
      "cell_type": "code",
      "source": [
        "'''\n",
        "  Comentário!!!\n",
        "  Posso escrever qualquer coisa!\n",
        "'''"
      ],
      "metadata": {
        "colab": {
          "base_uri": "https://localhost:8080/",
          "height": 35
        },
        "id": "B5z-5xkSxnr5",
        "outputId": "88472bc2-69af-4afe-bafa-7570140b593c"
      },
      "execution_count": null,
      "outputs": [
        {
          "output_type": "execute_result",
          "data": {
            "text/plain": [
              "'\\n  Comentário!!!\\n  Posso escrever qualquer coisa!\\n'"
            ],
            "application/vnd.google.colaboratory.intrinsic+json": {
              "type": "string"
            }
          },
          "metadata": {},
          "execution_count": 5
        }
      ]
    },
    {
      "cell_type": "code",
      "source": [
        "print('Hello World!  \\nskipped a line')"
      ],
      "metadata": {
        "colab": {
          "base_uri": "https://localhost:8080/"
        },
        "id": "G0w4sM7fx_Sx",
        "outputId": "8016dd4c-1d01-4c6b-a439-d9d512569521"
      },
      "execution_count": null,
      "outputs": [
        {
          "output_type": "stream",
          "name": "stdout",
          "text": [
            "Hello World!  \n",
            "skipped a line\n"
          ]
        }
      ]
    },
    {
      "cell_type": "markdown",
      "source": [
        "**OPERADORES MATEMÁTICOS**"
      ],
      "metadata": {
        "id": "p5Ie4Ob4yr07"
      }
    },
    {
      "cell_type": "code",
      "source": [
        "# Adição\n",
        "\n",
        "1 + 3 + 4"
      ],
      "metadata": {
        "colab": {
          "base_uri": "https://localhost:8080/"
        },
        "id": "WMeNKTwcy0fk",
        "outputId": "97abbcb6-a514-4395-815c-d460e9c0712f"
      },
      "execution_count": null,
      "outputs": [
        {
          "output_type": "execute_result",
          "data": {
            "text/plain": [
              "8"
            ]
          },
          "metadata": {},
          "execution_count": 7
        }
      ]
    },
    {
      "cell_type": "code",
      "source": [
        "# Subtração\n",
        "\n",
        "4 - 4"
      ],
      "metadata": {
        "colab": {
          "base_uri": "https://localhost:8080/"
        },
        "id": "DVS02iAfy935",
        "outputId": "a0cb577d-6b89-4e00-af3a-159f3109ca1a"
      },
      "execution_count": null,
      "outputs": [
        {
          "output_type": "execute_result",
          "data": {
            "text/plain": [
              "0"
            ]
          },
          "metadata": {},
          "execution_count": 8
        }
      ]
    },
    {
      "cell_type": "code",
      "source": [
        "# Multiplicação\n",
        "\n",
        "4 * 4"
      ],
      "metadata": {
        "colab": {
          "base_uri": "https://localhost:8080/"
        },
        "id": "Jd8Jo93OzC8V",
        "outputId": "ce91ee3d-5e09-4911-e55b-f6dc524e4bf3"
      },
      "execution_count": null,
      "outputs": [
        {
          "output_type": "execute_result",
          "data": {
            "text/plain": [
              "16"
            ]
          },
          "metadata": {},
          "execution_count": 9
        }
      ]
    },
    {
      "cell_type": "code",
      "source": [
        "# Divisão\n",
        "\n",
        "4 / 4"
      ],
      "metadata": {
        "colab": {
          "base_uri": "https://localhost:8080/"
        },
        "id": "lmtAyPvWzO61",
        "outputId": "830d2c3c-910d-4b2c-f24f-7babfede5976"
      },
      "execution_count": null,
      "outputs": [
        {
          "output_type": "execute_result",
          "data": {
            "text/plain": [
              "1.0"
            ]
          },
          "metadata": {},
          "execution_count": 10
        }
      ]
    },
    {
      "cell_type": "code",
      "source": [
        "# Exponenciação\n",
        "\n",
        "2 ** 2"
      ],
      "metadata": {
        "colab": {
          "base_uri": "https://localhost:8080/"
        },
        "id": "pfyouY4MzTMF",
        "outputId": "c16e8494-0757-4a20-aecb-908664606aba"
      },
      "execution_count": null,
      "outputs": [
        {
          "output_type": "execute_result",
          "data": {
            "text/plain": [
              "4"
            ]
          },
          "metadata": {},
          "execution_count": 11
        }
      ]
    },
    {
      "cell_type": "code",
      "source": [
        "# Resto da divisão\n",
        "\n",
        "3 % 4"
      ],
      "metadata": {
        "colab": {
          "base_uri": "https://localhost:8080/"
        },
        "id": "NkBSsVW2zfPo",
        "outputId": "f2598931-bc93-479b-e2e5-972a706c48a0"
      },
      "execution_count": null,
      "outputs": [
        {
          "output_type": "execute_result",
          "data": {
            "text/plain": [
              "3"
            ]
          },
          "metadata": {},
          "execution_count": 12
        }
      ]
    },
    {
      "cell_type": "code",
      "source": [
        "# Divisão de chão\n",
        "\n",
        "3 // 4"
      ],
      "metadata": {
        "colab": {
          "base_uri": "https://localhost:8080/"
        },
        "id": "mJZ0kzeX0FGQ",
        "outputId": "a9fc556b-b501-4dc2-ac31-a0f4006e3e27"
      },
      "execution_count": null,
      "outputs": [
        {
          "output_type": "execute_result",
          "data": {
            "text/plain": [
              "0"
            ]
          },
          "metadata": {},
          "execution_count": 13
        }
      ]
    },
    {
      "cell_type": "code",
      "source": [
        "# Priorização = usar parênteses\n",
        "\n",
        "(2 + 2) * 5"
      ],
      "metadata": {
        "colab": {
          "base_uri": "https://localhost:8080/"
        },
        "id": "y2G3T6940Tss",
        "outputId": "34a8abd7-f02d-4018-86cb-cc5cac9eaa06"
      },
      "execution_count": null,
      "outputs": [
        {
          "output_type": "execute_result",
          "data": {
            "text/plain": [
              "20"
            ]
          },
          "metadata": {},
          "execution_count": 14
        }
      ]
    },
    {
      "cell_type": "markdown",
      "source": [
        "**VARIÁVEIS**"
      ],
      "metadata": {
        "id": "fDSrHVal07KA"
      }
    },
    {
      "cell_type": "code",
      "source": [
        "nome = 'Marcelo Augusto Viana Henrique'"
      ],
      "metadata": {
        "id": "xVx0xwbh0_EB"
      },
      "execution_count": null,
      "outputs": []
    },
    {
      "cell_type": "code",
      "source": [
        "print(nome)"
      ],
      "metadata": {
        "colab": {
          "base_uri": "https://localhost:8080/"
        },
        "id": "ptz1bN3m1Igb",
        "outputId": "27ba60a0-e70b-4c5a-ff93-6b6ddbd6db81"
      },
      "execution_count": null,
      "outputs": [
        {
          "output_type": "stream",
          "name": "stdout",
          "text": [
            "Marcelo Augusto Viana Henrique\n"
          ]
        }
      ]
    },
    {
      "cell_type": "code",
      "source": [
        "# Variáveis de texto\n",
        "\n",
        "var_texto  = 'Qualquer coisa'\n",
        "var_texto_2 = str('Qualquer coisa')\n",
        "\n",
        "print(var_texto)\n",
        "print(var_texto_2)\n",
        "print(var_texto, var_texto_2)"
      ],
      "metadata": {
        "colab": {
          "base_uri": "https://localhost:8080/"
        },
        "id": "XZi4fOh9KzMe",
        "outputId": "68e1d101-cde8-4c1f-a4fa-33176fc604bf"
      },
      "execution_count": null,
      "outputs": [
        {
          "output_type": "stream",
          "name": "stdout",
          "text": [
            "Qualquer coisa\n",
            "Qualquer coisa\n",
            "Qualquer coisa Qualquer coisa\n"
          ]
        }
      ]
    },
    {
      "cell_type": "code",
      "source": [
        "# Variáveis numéricas\n",
        "\n",
        "var_inteiro = 100\n",
        "var_inteiro_02 = int(100)\n",
        "\n",
        "print(var_inteiro)\n",
        "print(var_inteiro_02)\n",
        "print(var_inteiro, var_inteiro_02)"
      ],
      "metadata": {
        "colab": {
          "base_uri": "https://localhost:8080/"
        },
        "id": "4KihWLD_Lmle",
        "outputId": "9b25353a-6f0a-4867-b783-8d59d1a7b1ed"
      },
      "execution_count": null,
      "outputs": [
        {
          "output_type": "stream",
          "name": "stdout",
          "text": [
            "100\n",
            "100\n",
            "100 100\n"
          ]
        }
      ]
    },
    {
      "cell_type": "code",
      "source": [
        "# Variáveis flutuantes\n",
        "\n",
        "var_flutuante = 10.90\n",
        "var_flutuante_2 = float(10.90)\n",
        "\n",
        "print(var_flutuante)\n",
        "print(var_flutuante_2)\n",
        "print(var_flutuante, var_flutuante_2)"
      ],
      "metadata": {
        "colab": {
          "base_uri": "https://localhost:8080/"
        },
        "id": "S9JiCC4fL8eW",
        "outputId": "7a5f26ed-be4d-485c-e7f0-9cf324d40d69"
      },
      "execution_count": null,
      "outputs": [
        {
          "output_type": "stream",
          "name": "stdout",
          "text": [
            "10.9\n",
            "10.9\n",
            "10.9 10.9\n"
          ]
        }
      ]
    },
    {
      "cell_type": "code",
      "source": [
        "# Variáveis booleanas\n",
        "\n",
        "var_booleana = True\n",
        "var_booleana_2 = False\n",
        "\n",
        "print(var_booleana)\n",
        "print(var_booleana_2)\n",
        "print(var_booleana, var_booleana_2)"
      ],
      "metadata": {
        "colab": {
          "base_uri": "https://localhost:8080/"
        },
        "id": "7DvlQs21MTQV",
        "outputId": "945f0819-8553-4e64-8587-dd1277e7cd66"
      },
      "execution_count": null,
      "outputs": [
        {
          "output_type": "stream",
          "name": "stdout",
          "text": [
            "True\n",
            "False\n",
            "True False\n"
          ]
        }
      ]
    },
    {
      "cell_type": "markdown",
      "source": [
        "**TIPOS DE DADOS**\n",
        "\n",
        "1. Listas - São criadas usando [] (**chaves**)\n",
        "2. Tuplas - São criadas usando () (**parenteses**)\n",
        "3. Dicionários - São criados usando {} (**Colchete**)\n",
        "\n",
        "Esses tipos de dados podem receber qualquer tipo de informação, inclusive Operações Aritméticas."
      ],
      "metadata": {
        "id": "RFm_3G6yv2RZ"
      }
    },
    {
      "cell_type": "code",
      "source": [
        "# Listas\n",
        "exemplo_01 = [1, 2, 3, 4, 5, 6, 7, 8]\n",
        "exemplo_02 = [\"Nome\", \"Sobrenome\", \"Idade\", 4, 5]\n",
        "exemplo_03 = [1, \"Texto\", True, [1, 2, 3]]\n",
        "\n",
        "print(exemplo_01) \n",
        "print(exemplo_02)\n",
        "print(exemplo_03)"
      ],
      "metadata": {
        "id": "u7ZluNvPv6s1",
        "colab": {
          "base_uri": "https://localhost:8080/"
        },
        "outputId": "5a616f17-6270-4539-f255-09cb41dcd455"
      },
      "execution_count": null,
      "outputs": [
        {
          "output_type": "stream",
          "name": "stdout",
          "text": [
            "[1, 2, 3, 4, 5, 6, 7, 8]\n",
            "['Nome', 'Sobrenome', 'Idade', 4, 5]\n",
            "[1, 'Texto', True, [1, 2, 3]]\n"
          ]
        }
      ]
    },
    {
      "cell_type": "code",
      "source": [
        "# Tuplas (São IMUTÁVEIS)\n",
        "exemplo_01 = (1, 2, 3, 4, 5)\n",
        "exemplo_02 = (\"Texto\", True, 2, 2.90)\n",
        "\n",
        "print(exemplo_01)\n",
        "print(exemplo_02)"
      ],
      "metadata": {
        "colab": {
          "base_uri": "https://localhost:8080/"
        },
        "id": "rNojDVEW63DT",
        "outputId": "c9e6565e-17ef-4810-b687-386e698c4560"
      },
      "execution_count": null,
      "outputs": [
        {
          "output_type": "stream",
          "name": "stdout",
          "text": [
            "(1, 2, 3, 4, 5)\n",
            "('Texto', True, 2, 2.9)\n"
          ]
        }
      ]
    },
    {
      "cell_type": "code",
      "source": [
        "# Dicionários (Chave + Valor)\n",
        "exemplo_01 = {\n",
        "    'index': 'valor',\n",
        "    'id': 1,\n",
        "    'nome': 'Marcelo',\n",
        "    'lista': exemplo_03,\n",
        "    'tupla': exemplo_02\n",
        "}\n",
        "\n",
        "print(exemplo_01)"
      ],
      "metadata": {
        "colab": {
          "base_uri": "https://localhost:8080/"
        },
        "id": "DE1HeFkq82PV",
        "outputId": "c4b3d0fd-76a7-4ecb-bb92-ded59b4757f8"
      },
      "execution_count": null,
      "outputs": [
        {
          "output_type": "stream",
          "name": "stdout",
          "text": [
            "{'index': 'valor', 'id': 1, 'nome': 'Marcelo', 'lista': [1, 'Texto', True, [1, 2, 3]], 'tupla': ('Texto', True, 2, 2.9)}\n"
          ]
        }
      ]
    },
    {
      "cell_type": "markdown",
      "source": [
        "**NOMEAÇÃO DE VARIÁVEIS**\n",
        "\n",
        "Podemos nomear variáveis e tipos de dados de diversas formas:\n",
        "\n",
        "1. Declarar as variáveis em uma única linha de comando;\n",
        "2. Atribuir um valor à diversas variáveis;\n",
        "3. Declarar usando uma lista;\n",
        "4. Combinar variáveis;\n",
        "5. Operar com operadores matemáticos;\n",
        "6. Muitos outros."
      ],
      "metadata": {
        "id": "iLP3y2RYSE6q"
      }
    },
    {
      "cell_type": "code",
      "source": [
        "# Nomeando\n",
        "\n",
        "laranja, melao, limao = 1, 2, 3\n",
        "\n",
        "print(laranja, melao, limao)"
      ],
      "metadata": {
        "colab": {
          "base_uri": "https://localhost:8080/"
        },
        "id": "tXIxFZo0SCt_",
        "outputId": "679e5dbd-e770-487c-c64e-95c2f6fa16e7"
      },
      "execution_count": null,
      "outputs": [
        {
          "output_type": "stream",
          "name": "stdout",
          "text": [
            "1 2 3\n"
          ]
        }
      ]
    },
    {
      "cell_type": "code",
      "source": [
        "# Nomeando\n",
        "\n",
        "morango = uva = kiwi = 100\n",
        "\n",
        "print(morango, uva, kiwi)\n",
        "print(morango)"
      ],
      "metadata": {
        "colab": {
          "base_uri": "https://localhost:8080/"
        },
        "id": "BHZBztj8oOqL",
        "outputId": "4049bcad-b988-421e-8513-8c7352ce2d5d"
      },
      "execution_count": null,
      "outputs": [
        {
          "output_type": "stream",
          "name": "stdout",
          "text": [
            "100 100 100\n",
            "100\n"
          ]
        }
      ]
    },
    {
      "cell_type": "code",
      "source": [
        "# Nomear com Listas\n",
        "\n",
        "lista_carros = ['VW', 'Audi', 'Tesla']\n",
        "\n",
        "marca_01, marca_02, marca_03 = lista_carros\n",
        "\n",
        "print(marca_01, marca_02, marca_03)\n",
        "print(marca_01)"
      ],
      "metadata": {
        "colab": {
          "base_uri": "https://localhost:8080/"
        },
        "id": "gLGh-P4AoxU2",
        "outputId": "d78e8d28-c5f3-4e5a-ca34-865f4f386e0d"
      },
      "execution_count": null,
      "outputs": [
        {
          "output_type": "stream",
          "name": "stdout",
          "text": [
            "VW Audi Tesla\n",
            "VW\n"
          ]
        }
      ]
    },
    {
      "cell_type": "code",
      "source": [
        "# Combinar variáveis\n",
        "\n",
        "nome = 'Marcelo'\n",
        "sobrenome = 'Augusto'\n",
        "\n",
        "nome_completo = nome + ' ' + sobrenome\n",
        "\n",
        "print(nome_completo)"
      ],
      "metadata": {
        "colab": {
          "base_uri": "https://localhost:8080/"
        },
        "id": "AgJEoBeQpQnd",
        "outputId": "f2c1681d-5073-4e31-e2eb-3efda263eedf"
      },
      "execution_count": null,
      "outputs": [
        {
          "output_type": "stream",
          "name": "stdout",
          "text": [
            "Marcelo Augusto\n"
          ]
        }
      ]
    },
    {
      "cell_type": "code",
      "source": [
        "# TypeError: can only concatenate str (not \"int\") to str\n",
        "\n",
        "nome = 'Marcelo'\n",
        "idade = 28\n",
        "\n",
        "print(nome + '-' + idade)"
      ],
      "metadata": {
        "colab": {
          "base_uri": "https://localhost:8080/",
          "height": 199
        },
        "id": "cRogmZNwp_MS",
        "outputId": "f21585cb-ac14-4872-a389-c302e47ff7cf"
      },
      "execution_count": null,
      "outputs": [
        {
          "output_type": "error",
          "ename": "TypeError",
          "evalue": "ignored",
          "traceback": [
            "\u001b[0;31m---------------------------------------------------------------------------\u001b[0m",
            "\u001b[0;31mTypeError\u001b[0m                                 Traceback (most recent call last)",
            "\u001b[0;32m<ipython-input-28-681a9cbcb566>\u001b[0m in \u001b[0;36m<module>\u001b[0;34m()\u001b[0m\n\u001b[1;32m      4\u001b[0m \u001b[0midade\u001b[0m \u001b[0;34m=\u001b[0m \u001b[0;36m28\u001b[0m\u001b[0;34m\u001b[0m\u001b[0;34m\u001b[0m\u001b[0m\n\u001b[1;32m      5\u001b[0m \u001b[0;34m\u001b[0m\u001b[0m\n\u001b[0;32m----> 6\u001b[0;31m \u001b[0mprint\u001b[0m\u001b[0;34m(\u001b[0m\u001b[0mnome\u001b[0m \u001b[0;34m+\u001b[0m \u001b[0;34m'-'\u001b[0m \u001b[0;34m+\u001b[0m \u001b[0midade\u001b[0m\u001b[0;34m)\u001b[0m\u001b[0;34m\u001b[0m\u001b[0;34m\u001b[0m\u001b[0m\n\u001b[0m",
            "\u001b[0;31mTypeError\u001b[0m: can only concatenate str (not \"int\") to str"
          ]
        }
      ]
    },
    {
      "cell_type": "code",
      "source": [
        "# Forma correta de executar a aglutinação acima\n",
        "\n",
        "nome = 'Marcelo'\n",
        "idade = 28\n",
        "\n",
        "print(nome + ' ' + str(idade) + ' anos')"
      ],
      "metadata": {
        "colab": {
          "base_uri": "https://localhost:8080/"
        },
        "id": "Cp89HbT5qR6R",
        "outputId": "25d14672-e32d-47e7-f696-524eb950e23a"
      },
      "execution_count": null,
      "outputs": [
        {
          "output_type": "stream",
          "name": "stdout",
          "text": [
            "Marcelo 28 anos\n"
          ]
        }
      ]
    },
    {
      "cell_type": "code",
      "source": [
        "# Exemplo\n",
        "# Forma INCORRETA de executar o cálculo matemático, pois repetirá o '0.20' MIL vezes\n",
        "\n",
        "investimento = 1000\n",
        "taxa_juros = '0.2'\n",
        "\n",
        "print(investimento * taxa_juros)"
      ],
      "metadata": {
        "colab": {
          "base_uri": "https://localhost:8080/"
        },
        "id": "GG2JLBYRqbnq",
        "outputId": "6f696396-7e78-4dfe-f0ea-6f6f2cd56181"
      },
      "execution_count": null,
      "outputs": [
        {
          "output_type": "stream",
          "name": "stdout",
          "text": [
            "0.20.20.20.20.20.20.20.20.20.20.20.20.20.20.20.20.20.20.20.20.20.20.20.20.20.20.20.20.20.20.20.20.20.20.20.20.20.20.20.20.20.20.20.20.20.20.20.20.20.20.20.20.20.20.20.20.20.20.20.20.20.20.20.20.20.20.20.20.20.20.20.20.20.20.20.20.20.20.20.20.20.20.20.20.20.20.20.20.20.20.20.20.20.20.20.20.20.20.20.20.20.20.20.20.20.20.20.20.20.20.20.20.20.20.20.20.20.20.20.20.20.20.20.20.20.20.20.20.20.20.20.20.20.20.20.20.20.20.20.20.20.20.20.20.20.20.20.20.20.20.20.20.20.20.20.20.20.20.20.20.20.20.20.20.20.20.20.20.20.20.20.20.20.20.20.20.20.20.20.20.20.20.20.20.20.20.20.20.20.20.20.20.20.20.20.20.20.20.20.20.20.20.20.20.20.20.20.20.20.20.20.20.20.20.20.20.20.20.20.20.20.20.20.20.20.20.20.20.20.20.20.20.20.20.20.20.20.20.20.20.20.20.20.20.20.20.20.20.20.20.20.20.20.20.20.20.20.20.20.20.20.20.20.20.20.20.20.20.20.20.20.20.20.20.20.20.20.20.20.20.20.20.20.20.20.20.20.20.20.20.20.20.20.20.20.20.20.20.20.20.20.20.20.20.20.20.20.20.20.20.20.20.20.20.20.20.20.20.20.20.20.20.20.20.20.20.20.20.20.20.20.20.20.20.20.20.20.20.20.20.20.20.20.20.20.20.20.20.20.20.20.20.20.20.20.20.20.20.20.20.20.20.20.20.20.20.20.20.20.20.20.20.20.20.20.20.20.20.20.20.20.20.20.20.20.20.20.20.20.20.20.20.20.20.20.20.20.20.20.20.20.20.20.20.20.20.20.20.20.20.20.20.20.20.20.20.20.20.20.20.20.20.20.20.20.20.20.20.20.20.20.20.20.20.20.20.20.20.20.20.20.20.20.20.20.20.20.20.20.20.20.20.20.20.20.20.20.20.20.20.20.20.20.20.20.20.20.20.20.20.20.20.20.20.20.20.20.20.20.20.20.20.20.20.20.20.20.20.20.20.20.20.20.20.20.20.20.20.20.20.20.20.20.20.20.20.20.20.20.20.20.20.20.20.20.20.20.20.20.20.20.20.20.20.20.20.20.20.20.20.20.20.20.20.20.20.20.20.20.20.20.20.20.20.20.20.20.20.20.20.20.20.20.20.20.20.20.20.20.20.20.20.20.20.20.20.20.20.20.20.20.20.20.20.20.20.20.20.20.20.20.20.20.20.20.20.20.20.20.20.20.20.20.20.20.20.20.20.20.20.20.20.20.20.20.20.20.20.20.20.20.20.20.20.20.20.20.20.20.20.20.20.20.20.20.20.20.20.20.20.20.20.20.20.20.20.20.20.20.20.20.20.20.20.20.20.20.20.20.20.20.20.20.20.20.20.20.20.20.20.20.20.20.20.20.20.20.20.20.20.20.20.20.20.20.20.20.20.20.20.20.20.20.20.20.20.20.20.20.20.20.20.20.20.20.20.20.20.20.20.20.20.20.20.20.20.20.20.20.20.20.20.20.20.20.20.20.20.20.20.20.20.20.20.20.20.20.20.20.20.20.20.20.20.20.20.20.20.20.20.20.20.20.20.20.20.20.20.20.20.20.20.20.20.20.20.20.20.20.20.20.20.20.20.20.20.20.20.20.20.20.20.20.20.20.20.20.20.20.20.20.20.20.20.20.20.20.20.20.20.20.20.20.20.20.20.20.20.20.20.20.20.20.20.20.20.20.20.20.20.20.20.20.20.20.20.20.20.20.20.20.20.20.20.20.20.20.20.20.20.20.20.20.20.20.20.20.20.20.20.20.20.20.20.20.20.20.20.20.20.20.20.20.20.20.20.20.20.20.20.20.20.20.20.20.20.20.20.20.20.20.20.20.20.20.20.20.20.20.20.20.20.20.20.20.20.20.20.20.20.20.20.20.20.20.20.20.20.20.20.20.20.20.20.20.20.20.20.20.20.20.20.20.20.20.20.20.20.20.20.20.20.20.20.20.20.20.20.20.20.20.20.20.20.20.20.20.20.20.20.20.20.20.20.20.20.20.20.20.20.20.20.20.20.20.20.20.20.20.20.20.20.20.20.20.20.20.20.20.20.20.20.20.20.20.20.20.20.20.20.20.20.20.20.20.20.20.20.20.20.20.20.20.20.20.20.20.20.20.2\n"
          ]
        }
      ]
    },
    {
      "cell_type": "code",
      "source": [
        "# Formas CORRETAs de executar o cálculo matemático\n",
        "\n",
        "investimento = 1000\n",
        "taxa_juros = float(0.2)\n",
        "\n",
        "print(investimento * taxa_juros)\n",
        "\n",
        "# OU\n",
        "\n",
        "investimento = 1000\n",
        "taxa_juros = 0.2\n",
        "\n",
        "print(investimento * float(taxa_juros))\n",
        "\n",
        "# OU\n",
        "\n",
        "investimento = 1000\n",
        "taxa_juros = 0.2\n",
        "\n",
        "print(investimento * taxa_juros)"
      ],
      "metadata": {
        "colab": {
          "base_uri": "https://localhost:8080/"
        },
        "id": "Uxtic34drumo",
        "outputId": "a96160a4-4ee0-40c0-9ee8-0e2a43907d21"
      },
      "execution_count": null,
      "outputs": [
        {
          "output_type": "stream",
          "name": "stdout",
          "text": [
            "200.0\n",
            "200.0\n",
            "200.0\n"
          ]
        }
      ]
    },
    {
      "cell_type": "code",
      "source": [
        "valor_ganhado = (investimento * taxa_juros) + investimento\n",
        "\n",
        "print(valor_ganhado)"
      ],
      "metadata": {
        "colab": {
          "base_uri": "https://localhost:8080/"
        },
        "id": "bem84uNAsSLG",
        "outputId": "6fd439d5-e6da-47ea-b572-7420c3322e14"
      },
      "execution_count": null,
      "outputs": [
        {
          "output_type": "stream",
          "name": "stdout",
          "text": [
            "1200.0\n"
          ]
        }
      ]
    },
    {
      "cell_type": "markdown",
      "source": [
        "**TIPO DA INFORMAÇÃO**\n",
        "\n",
        "Na programação, o tipo de dados é um conceito importante. Variáveis podem armazenar dados de diferentes tipos e diferentes tipos podem fazer coisas diferentes. O Python tem os seguintes tipos de dados integrados por padrão nestas categorias:\n",
        "\n",
        "1. Text Type: str\n",
        "2. Numeric Types: int, float, complex\n",
        "3. Sequence Types: list, tuple, range\n",
        "4. Mapping Types: dict\n",
        "5. Set Types: set, frozenset\n",
        "6. Boolean Types: bool\n",
        "7. Binary Types: bytes, bytearray, memoryview"
      ],
      "metadata": {
        "id": "8DflSFA5s5OQ"
      }
    },
    {
      "cell_type": "code",
      "source": [
        "String = str('Hello World')\n",
        "Inteiro = int(10)\n",
        "Flutuante = float(100.5)\n",
        "Complex = complex(1j)\n",
        "Lista = list(('Maça', 'Morango'))\n",
        "Tupla = tuple(('A', 'B'))\n",
        "Range = range(6)\n",
        "Dicionario = dict(nome='Marcelo', idade=28)\n",
        "Set = set(('A', 'B', 'C'))\n",
        "Frozenset = frozenset(('A', 'B', 'C'))\n",
        "Boleano = bool(5)\n",
        "Bytes = bytes(5)\n",
        "ByteArray =bytearray(5)\n",
        "MemoryView = memoryview(bytes(5))\n",
        "\n",
        "from datetime import datetime\n",
        "\n",
        "data = datetime.today().date()"
      ],
      "metadata": {
        "id": "-wy7skCvuce6"
      },
      "execution_count": null,
      "outputs": []
    },
    {
      "cell_type": "markdown",
      "source": [
        "**COMANDO ROUND**\n",
        "\n",
        "Quando trabalhamos com números flutuantes, podemos diminuir o número de casas decimais e arredondar para o valor mais próximo usando um comando nativo do Python.\n",
        "\n",
        "round(valor, número de casas)"
      ],
      "metadata": {
        "id": "4oafbiqjy-SC"
      }
    },
    {
      "cell_type": "code",
      "source": [
        "valor = 12.78994656555\n",
        "\n",
        "print(valor)\n",
        "\n",
        "\n",
        "valor_02 = round(valor, 2)\n",
        "\n",
        "print(valor_02)"
      ],
      "metadata": {
        "colab": {
          "base_uri": "https://localhost:8080/"
        },
        "id": "LcbUnwdSzBoW",
        "outputId": "17e8576e-49e0-4b77-964b-6ae49b87b7d3"
      },
      "execution_count": null,
      "outputs": [
        {
          "output_type": "stream",
          "name": "stdout",
          "text": [
            "12.78994656555\n",
            "12.79\n"
          ]
        }
      ]
    },
    {
      "cell_type": "markdown",
      "source": [
        "**COMANDO LEN**\n",
        "\n",
        "A função len() retorna a quantidade de elementos de qualquer lista em Python, essa é mais uma função **built-in** disponível em qualquer parte dos nossos códigos."
      ],
      "metadata": {
        "id": "I4p70OMWPTVl"
      }
    },
    {
      "cell_type": "code",
      "source": [
        "Lista = [1, 2, 3, 4, 5, 6, 7, 8, 9, 10]\n",
        "Dicionario = {'Nome': 'Marcelo', 'Idade': 28} # chave : valor\n",
        "Tupla = (1, 2, 3)\n",
        "String = 'Hello World!'"
      ],
      "metadata": {
        "id": "UzvDFBp0PHXy"
      },
      "execution_count": null,
      "outputs": []
    },
    {
      "cell_type": "code",
      "source": [
        "print(len(Lista))\n",
        "print(len(Dicionario))\n",
        "print(len(Tupla))\n",
        "print(len(String))"
      ],
      "metadata": {
        "colab": {
          "base_uri": "https://localhost:8080/"
        },
        "id": "IpY0jmciLfUR",
        "outputId": "7914b868-92eb-4daa-e215-95601f964bbe"
      },
      "execution_count": null,
      "outputs": [
        {
          "output_type": "stream",
          "name": "stdout",
          "text": [
            "10\n",
            "2\n",
            "3\n",
            "12\n"
          ]
        }
      ]
    },
    {
      "cell_type": "markdown",
      "source": [
        "**FATIAMENTO DE STRINGS**\n",
        "\n",
        "Strings são listasde bytes representando caracteres.\n",
        "Podemos acessar suas posições usando colchetes..\n",
        "\n",
        "*String[Posição Inicial: Posição Final]*"
      ],
      "metadata": {
        "id": "GmS3SoufMJ7I"
      }
    },
    {
      "cell_type": "code",
      "source": [
        "String = 'Aprender Python é massa demais!'\n",
        "\n",
        "print(type(String))\n",
        "print(len(String))"
      ],
      "metadata": {
        "colab": {
          "base_uri": "https://localhost:8080/"
        },
        "id": "hK9myy27MiGh",
        "outputId": "e73e3e33-7f12-40bf-e925-f48572e18930"
      },
      "execution_count": null,
      "outputs": [
        {
          "output_type": "stream",
          "name": "stdout",
          "text": [
            "<class 'str'>\n",
            "31\n"
          ]
        }
      ]
    },
    {
      "cell_type": "code",
      "source": [
        "print(String[0:23])\n",
        "\n",
        "print(String[:23])\n",
        "\n",
        "print(String[-1]) # última posição \n",
        "\n",
        "print(String[-22:])"
      ],
      "metadata": {
        "colab": {
          "base_uri": "https://localhost:8080/"
        },
        "id": "LqWaMJhEM30N",
        "outputId": "1829e10c-b67e-423d-c879-fdc4c630f0c4"
      },
      "execution_count": null,
      "outputs": [
        {
          "output_type": "stream",
          "name": "stdout",
          "text": [
            "Aprender Python é massa\n",
            "Aprender Python é massa\n",
            "!\n",
            "Python é massa demais!\n"
          ]
        }
      ]
    },
    {
      "cell_type": "markdown",
      "source": [
        "**MANIPULAÇÃO DE STRINGS**\n",
        "\n",
        "Um tipo de dados bastante usado no dia a dia são as strings, ou cadeia de caracteres (ou sequências de caracteres). O tipo de dados string ou str como é chamado em Python, possui várias operações úteis associadas a ele. Essas operações tornam Python uma linguagem bastante propícia para manipulação de textos. Algumas funções mais utilizadas:\n",
        "\n",
        "1. replace()\n",
        "2. startswith()\n",
        "3. endswith()\n",
        "4. count()\n",
        "5. capitalize()\n",
        "6. isdigit()\n",
        "7. isalnum()\n",
        "8. upper()\n",
        "9. lower()\n",
        "10. find()\n",
        "11. strip()\n",
        "12. split()"
      ],
      "metadata": {
        "id": "4Q1l7CnGO8ci"
      }
    },
    {
      "cell_type": "code",
      "source": [
        "cpf = 'CPF:12365478998'\n",
        "\n",
        "print(cpf)\n",
        "\n",
        "String = 'Hello World!'\n",
        "\n",
        "print(String)"
      ],
      "metadata": {
        "colab": {
          "base_uri": "https://localhost:8080/"
        },
        "id": "BciYRduYQDNm",
        "outputId": "af730fa3-186f-4af2-8448-3f75f1dd7f23"
      },
      "execution_count": null,
      "outputs": [
        {
          "output_type": "stream",
          "name": "stdout",
          "text": [
            "CPF:12365478998\n",
            "Hello World!\n"
          ]
        }
      ]
    },
    {
      "cell_type": "code",
      "source": [
        "# replace\n",
        "\n",
        "print(int(cpf.replace('CPF:', '')))"
      ],
      "metadata": {
        "colab": {
          "base_uri": "https://localhost:8080/"
        },
        "id": "1w6_FxqJV0l9",
        "outputId": "4d29ca46-dd4c-4fbd-b802-35c0c8fbea89"
      },
      "execution_count": null,
      "outputs": [
        {
          "output_type": "stream",
          "name": "stdout",
          "text": [
            "12365478998\n"
          ]
        }
      ]
    },
    {
      "cell_type": "code",
      "source": [
        "# startswith\n",
        "\n",
        "String.startswith('Hello') # boolean"
      ],
      "metadata": {
        "colab": {
          "base_uri": "https://localhost:8080/"
        },
        "id": "1CCR2o24WzJf",
        "outputId": "ebc97953-81f1-431d-f931-969275cc54de"
      },
      "execution_count": null,
      "outputs": [
        {
          "output_type": "execute_result",
          "data": {
            "text/plain": [
              "True"
            ]
          },
          "metadata": {},
          "execution_count": 41
        }
      ]
    },
    {
      "cell_type": "code",
      "source": [
        "# startswith\n",
        "\n",
        "String.startswith('Helo') "
      ],
      "metadata": {
        "colab": {
          "base_uri": "https://localhost:8080/"
        },
        "id": "0fYUgnzMXcku",
        "outputId": "2b0ac629-d8b9-4c5f-81ea-d4f1ab8e7d4c"
      },
      "execution_count": null,
      "outputs": [
        {
          "output_type": "execute_result",
          "data": {
            "text/plain": [
              "False"
            ]
          },
          "metadata": {},
          "execution_count": 42
        }
      ]
    },
    {
      "cell_type": "code",
      "source": [
        "# endswith\n",
        "\n",
        "String.endswith('!')"
      ],
      "metadata": {
        "colab": {
          "base_uri": "https://localhost:8080/"
        },
        "id": "4IMPXqQjXmMW",
        "outputId": "3154fe10-0edf-42a2-bc5a-d68e7a48c231"
      },
      "execution_count": null,
      "outputs": [
        {
          "output_type": "execute_result",
          "data": {
            "text/plain": [
              "True"
            ]
          },
          "metadata": {},
          "execution_count": 43
        }
      ]
    },
    {
      "cell_type": "code",
      "source": [
        "# endswith\n",
        "\n",
        "String.endswith('A')"
      ],
      "metadata": {
        "colab": {
          "base_uri": "https://localhost:8080/"
        },
        "id": "G_aziVYhXvju",
        "outputId": "2e0109ab-84e1-429d-b320-86996a125c95"
      },
      "execution_count": null,
      "outputs": [
        {
          "output_type": "execute_result",
          "data": {
            "text/plain": [
              "False"
            ]
          },
          "metadata": {},
          "execution_count": 44
        }
      ]
    },
    {
      "cell_type": "code",
      "source": [
        "# count\n",
        "\n",
        "String.count('l')"
      ],
      "metadata": {
        "colab": {
          "base_uri": "https://localhost:8080/"
        },
        "id": "rfTWWrPLYCUd",
        "outputId": "967badb0-0177-4ca0-c175-43516664f0c1"
      },
      "execution_count": null,
      "outputs": [
        {
          "output_type": "execute_result",
          "data": {
            "text/plain": [
              "3"
            ]
          },
          "metadata": {},
          "execution_count": 45
        }
      ]
    },
    {
      "cell_type": "code",
      "source": [
        "# capitalize\n",
        "\n",
        "nome = 'marcelo'\n",
        "\n",
        "nome.capitalize()"
      ],
      "metadata": {
        "colab": {
          "base_uri": "https://localhost:8080/",
          "height": 35
        },
        "id": "r7B5SGNuYMOz",
        "outputId": "351c2795-c069-4eda-8727-3bddfde9604d"
      },
      "execution_count": null,
      "outputs": [
        {
          "output_type": "execute_result",
          "data": {
            "text/plain": [
              "'Marcelo'"
            ],
            "application/vnd.google.colaboratory.intrinsic+json": {
              "type": "string"
            }
          },
          "metadata": {},
          "execution_count": 46
        }
      ]
    },
    {
      "cell_type": "code",
      "source": [
        "# isdigit\n",
        "\n",
        "String.isdigit() # verifica se há somente valores numéricos e retorna um boolean"
      ],
      "metadata": {
        "colab": {
          "base_uri": "https://localhost:8080/"
        },
        "id": "MiAV9BFkYfku",
        "outputId": "c5739d33-beae-43ac-f6c8-4b6aed263275"
      },
      "execution_count": null,
      "outputs": [
        {
          "output_type": "execute_result",
          "data": {
            "text/plain": [
              "False"
            ]
          },
          "metadata": {},
          "execution_count": 47
        }
      ]
    },
    {
      "cell_type": "code",
      "source": [
        "# isalnum \n",
        "\n",
        "String.isalnum() # Verifica se é alfanumérica  "
      ],
      "metadata": {
        "colab": {
          "base_uri": "https://localhost:8080/"
        },
        "id": "HhkwDgknmmIn",
        "outputId": "50a49caf-bb02-4b59-feba-66c7fe097a2f"
      },
      "execution_count": null,
      "outputs": [
        {
          "output_type": "execute_result",
          "data": {
            "text/plain": [
              "False"
            ]
          },
          "metadata": {},
          "execution_count": 48
        }
      ]
    },
    {
      "cell_type": "code",
      "source": [
        "# upper\n",
        "\n",
        "nome.upper() # Transforma em Maiúsculo"
      ],
      "metadata": {
        "colab": {
          "base_uri": "https://localhost:8080/",
          "height": 35
        },
        "id": "gm94jKvUmmRS",
        "outputId": "5ce7f75c-5e1e-4825-929d-49a5bd21d24d"
      },
      "execution_count": null,
      "outputs": [
        {
          "output_type": "execute_result",
          "data": {
            "text/plain": [
              "'MARCELO'"
            ],
            "application/vnd.google.colaboratory.intrinsic+json": {
              "type": "string"
            }
          },
          "metadata": {},
          "execution_count": 49
        }
      ]
    },
    {
      "cell_type": "code",
      "source": [
        "# lower \n",
        "\n",
        "nome.lower() # Transforma em Minúsculo"
      ],
      "metadata": {
        "colab": {
          "base_uri": "https://localhost:8080/",
          "height": 35
        },
        "id": "fpUsaDEyI5O4",
        "outputId": "c001df2e-9047-46b3-f071-31d40db7a317"
      },
      "execution_count": null,
      "outputs": [
        {
          "output_type": "execute_result",
          "data": {
            "text/plain": [
              "'marcelo'"
            ],
            "application/vnd.google.colaboratory.intrinsic+json": {
              "type": "string"
            }
          },
          "metadata": {},
          "execution_count": 50
        }
      ]
    },
    {
      "cell_type": "code",
      "source": [
        "# find\n",
        "\n",
        "Phrase = 'Beautifull day for learn Python'\n",
        "\n",
        "Phrase.find('day') # Retorna o começo da posição buscada"
      ],
      "metadata": {
        "colab": {
          "base_uri": "https://localhost:8080/"
        },
        "id": "3QSMeQ6eJJuL",
        "outputId": "b93766df-3084-4e2f-b6cd-e2c8fde9d7b2"
      },
      "execution_count": null,
      "outputs": [
        {
          "output_type": "execute_result",
          "data": {
            "text/plain": [
              "11"
            ]
          },
          "metadata": {},
          "execution_count": 51
        }
      ]
    },
    {
      "cell_type": "code",
      "source": [
        "# strip\n",
        "\n",
        "adress = ' Estrada de Colégio, 122 '\n",
        "\n",
        "adress.strip() # Remove espaços no começo e no fim "
      ],
      "metadata": {
        "colab": {
          "base_uri": "https://localhost:8080/",
          "height": 35
        },
        "id": "K335NBZLJJ5H",
        "outputId": "0ff55192-d6bc-4397-b91d-0af1ae601fc0"
      },
      "execution_count": null,
      "outputs": [
        {
          "output_type": "execute_result",
          "data": {
            "text/plain": [
              "'Estrada de Colégio, 122'"
            ],
            "application/vnd.google.colaboratory.intrinsic+json": {
              "type": "string"
            }
          },
          "metadata": {},
          "execution_count": 52
        }
      ]
    },
    {
      "cell_type": "code",
      "source": [
        "# split\n",
        "\n",
        "adress.split(',') # quebrar a string de acordo com o delimiter passado, no caso ','"
      ],
      "metadata": {
        "colab": {
          "base_uri": "https://localhost:8080/"
        },
        "id": "VVjin9G_LE_h",
        "outputId": "74efcfe7-cb91-489e-8111-c74671a3dffb"
      },
      "execution_count": null,
      "outputs": [
        {
          "output_type": "execute_result",
          "data": {
            "text/plain": [
              "[' Estrada de Colégio', ' 122 ']"
            ]
          },
          "metadata": {},
          "execution_count": 56
        }
      ]
    },
    {
      "cell_type": "markdown",
      "source": [
        "**COMANDO INPUT**\n",
        "\n",
        "A função input() recebe como parâmetro uma string que será mostrada como auxílio ao usuário, geralmente o informando que tipo de dado o programa está aguardando receber"
      ],
      "metadata": {
        "id": "2goAbexFL0NK"
      }
    },
    {
      "cell_type": "code",
      "source": [
        "Name = input('What is your name: ')\n",
        "Age = input('How old are you: ')\n",
        "\n",
        "print(\"My name is:\", Name)\n",
        "print(\"I have:\", Age)"
      ],
      "metadata": {
        "colab": {
          "base_uri": "https://localhost:8080/"
        },
        "id": "4chllk1dNls9",
        "outputId": "45a5cb34-73b4-4102-bb5b-f92067456a42"
      },
      "execution_count": null,
      "outputs": [
        {
          "output_type": "stream",
          "name": "stdout",
          "text": [
            "What is your name: Marcelo Augusto\n",
            "How old are you: Twenty eight years old\n",
            "My name is: Marcelo Augusto\n",
            "I have: Twenty eight years old\n"
          ]
        }
      ]
    },
    {
      "cell_type": "markdown",
      "source": [
        "**OPERADORES DE COMPARAÇÃO**\n",
        "\n",
        "Os operados de comparação são usados para comparar dois valores:\n",
        "\n",
        "1. '==' (igual a)\n",
        "2. '!=' (Diferente de)\n",
        "3. '>' (Maior que)\n",
        "4. '<' (Menor que)\n",
        "5. '>=' (Maior ou igual)\n",
        "6. '<=' (Menor ou igual)"
      ],
      "metadata": {
        "id": "0SjAoRZaPlGL"
      }
    },
    {
      "cell_type": "code",
      "source": [
        "10 == 10"
      ],
      "metadata": {
        "colab": {
          "base_uri": "https://localhost:8080/"
        },
        "id": "BLhWmyunQOUb",
        "outputId": "b5afcdc5-ee61-4c67-872a-9e7419ac274c"
      },
      "execution_count": null,
      "outputs": [
        {
          "output_type": "execute_result",
          "data": {
            "text/plain": [
              "True"
            ]
          },
          "metadata": {},
          "execution_count": 61
        }
      ]
    },
    {
      "cell_type": "code",
      "source": [
        "10 == 8"
      ],
      "metadata": {
        "colab": {
          "base_uri": "https://localhost:8080/"
        },
        "id": "6mS5TGGLQdwt",
        "outputId": "6cc867f9-4b07-4086-f0cf-ef98ee513031"
      },
      "execution_count": null,
      "outputs": [
        {
          "output_type": "execute_result",
          "data": {
            "text/plain": [
              "False"
            ]
          },
          "metadata": {},
          "execution_count": 62
        }
      ]
    },
    {
      "cell_type": "code",
      "source": [
        "10 != 8"
      ],
      "metadata": {
        "colab": {
          "base_uri": "https://localhost:8080/"
        },
        "id": "UTwFGKm1Qg6D",
        "outputId": "c84f64b9-2130-4e13-c12e-7177f58fd98a"
      },
      "execution_count": null,
      "outputs": [
        {
          "output_type": "execute_result",
          "data": {
            "text/plain": [
              "True"
            ]
          },
          "metadata": {},
          "execution_count": 63
        }
      ]
    },
    {
      "cell_type": "code",
      "source": [
        "10 != 10"
      ],
      "metadata": {
        "colab": {
          "base_uri": "https://localhost:8080/"
        },
        "id": "UG7zK9fSQjQH",
        "outputId": "425b02f3-d1d8-424d-f917-f6f6212598ee"
      },
      "execution_count": null,
      "outputs": [
        {
          "output_type": "execute_result",
          "data": {
            "text/plain": [
              "False"
            ]
          },
          "metadata": {},
          "execution_count": 64
        }
      ]
    },
    {
      "cell_type": "code",
      "source": [
        "10 > 2"
      ],
      "metadata": {
        "colab": {
          "base_uri": "https://localhost:8080/"
        },
        "id": "dFGT7GLeQlWr",
        "outputId": "832da5c4-1d0e-4aa0-975d-4ad9205fc682"
      },
      "execution_count": null,
      "outputs": [
        {
          "output_type": "execute_result",
          "data": {
            "text/plain": [
              "True"
            ]
          },
          "metadata": {},
          "execution_count": 1
        }
      ]
    },
    {
      "cell_type": "code",
      "source": [
        "10 > 10"
      ],
      "metadata": {
        "colab": {
          "base_uri": "https://localhost:8080/"
        },
        "id": "HWPXQ2i5QmZ6",
        "outputId": "02b7b2ee-5057-47c6-dc0e-71a18d331f2e"
      },
      "execution_count": null,
      "outputs": [
        {
          "output_type": "execute_result",
          "data": {
            "text/plain": [
              "False"
            ]
          },
          "metadata": {},
          "execution_count": 2
        }
      ]
    },
    {
      "cell_type": "code",
      "source": [
        "10 >= 10"
      ],
      "metadata": {
        "colab": {
          "base_uri": "https://localhost:8080/"
        },
        "id": "x9W_0UujH8xk",
        "outputId": "0e90a8ac-376b-4595-9ba2-450e048a6e38"
      },
      "execution_count": null,
      "outputs": [
        {
          "output_type": "execute_result",
          "data": {
            "text/plain": [
              "True"
            ]
          },
          "metadata": {},
          "execution_count": 3
        }
      ]
    },
    {
      "cell_type": "code",
      "source": [
        "10 < 5"
      ],
      "metadata": {
        "colab": {
          "base_uri": "https://localhost:8080/"
        },
        "id": "YbEBzrTsH8zt",
        "outputId": "067fe197-ac7a-498d-8358-617e6da8fb9f"
      },
      "execution_count": null,
      "outputs": [
        {
          "output_type": "execute_result",
          "data": {
            "text/plain": [
              "False"
            ]
          },
          "metadata": {},
          "execution_count": 4
        }
      ]
    },
    {
      "cell_type": "code",
      "source": [
        "10 < 20"
      ],
      "metadata": {
        "colab": {
          "base_uri": "https://localhost:8080/"
        },
        "id": "T0IJi6nxIEP3",
        "outputId": "9d5bec4b-bc00-417d-9172-a8e4395342bd"
      },
      "execution_count": null,
      "outputs": [
        {
          "output_type": "execute_result",
          "data": {
            "text/plain": [
              "True"
            ]
          },
          "metadata": {},
          "execution_count": 5
        }
      ]
    },
    {
      "cell_type": "code",
      "source": [
        "10 <= 10"
      ],
      "metadata": {
        "colab": {
          "base_uri": "https://localhost:8080/"
        },
        "id": "6jVbevVnIGYK",
        "outputId": "f7fdac21-14ec-43c3-a395-8aec6e02dc17"
      },
      "execution_count": null,
      "outputs": [
        {
          "output_type": "execute_result",
          "data": {
            "text/plain": [
              "True"
            ]
          },
          "metadata": {},
          "execution_count": 6
        }
      ]
    },
    {
      "cell_type": "markdown",
      "source": [
        "**OPERADORES LÓGICOS**\n",
        "\n",
        "Os operadores lógicos são usados para combinar instruções condicionais:\n",
        "\n",
        "1. and (Retorna True se ambas as declarações forem verdadeiras)\n",
        "2. or  (Retorna True se uma das declarações for verdadeira)\n",
        "3. not (Inverte o resultado, retorna False se o resultado for verdadeiro)"
      ],
      "metadata": {
        "id": "Y0mLPo2fSHg1"
      }
    },
    {
      "cell_type": "code",
      "source": [
        "10 > 2 and 10 > 3 # declara True se ambas forem verdadeiras"
      ],
      "metadata": {
        "id": "GdY1rZelKBJb",
        "colab": {
          "base_uri": "https://localhost:8080/"
        },
        "outputId": "ef2c70fe-bfbb-4644-b1fd-45e33c2d9b01"
      },
      "execution_count": 3,
      "outputs": [
        {
          "output_type": "execute_result",
          "data": {
            "text/plain": [
              "True"
            ]
          },
          "metadata": {},
          "execution_count": 3
        }
      ]
    },
    {
      "cell_type": "code",
      "source": [
        "10 > 2 and 10 > 20"
      ],
      "metadata": {
        "colab": {
          "base_uri": "https://localhost:8080/"
        },
        "id": "5M6q_IoXfg_D",
        "outputId": "a5fd8dab-24fc-4be7-cf0c-0edc69e6c9a5"
      },
      "execution_count": 4,
      "outputs": [
        {
          "output_type": "execute_result",
          "data": {
            "text/plain": [
              "False"
            ]
          },
          "metadata": {},
          "execution_count": 4
        }
      ]
    },
    {
      "cell_type": "code",
      "source": [
        "10 > 2 or 10 > 5"
      ],
      "metadata": {
        "colab": {
          "base_uri": "https://localhost:8080/"
        },
        "id": "z4YoZSvofoSD",
        "outputId": "83e9f627-5d33-47d5-b187-1d6f5aa2fb48"
      },
      "execution_count": 5,
      "outputs": [
        {
          "output_type": "execute_result",
          "data": {
            "text/plain": [
              "True"
            ]
          },
          "metadata": {},
          "execution_count": 5
        }
      ]
    },
    {
      "cell_type": "code",
      "source": [
        "10 > 2 or 10 > 20 # declara True se uma for verdadeira"
      ],
      "metadata": {
        "colab": {
          "base_uri": "https://localhost:8080/"
        },
        "id": "u8Qsq2GAgHID",
        "outputId": "e4879f8a-eea7-49a2-be0c-8f1868975a61"
      },
      "execution_count": 6,
      "outputs": [
        {
          "output_type": "execute_result",
          "data": {
            "text/plain": [
              "True"
            ]
          },
          "metadata": {},
          "execution_count": 6
        }
      ]
    },
    {
      "cell_type": "code",
      "source": [
        "lista = [1, 2, 3, 4]"
      ],
      "metadata": {
        "id": "C9JhgVhcgchv"
      },
      "execution_count": 8,
      "outputs": []
    },
    {
      "cell_type": "code",
      "source": [
        "2 in lista"
      ],
      "metadata": {
        "colab": {
          "base_uri": "https://localhost:8080/"
        },
        "id": "8P4tgMW4gpbO",
        "outputId": "805999dc-4456-411a-b6bb-9c996be4d055"
      },
      "execution_count": 9,
      "outputs": [
        {
          "output_type": "execute_result",
          "data": {
            "text/plain": [
              "True"
            ]
          },
          "metadata": {},
          "execution_count": 9
        }
      ]
    },
    {
      "cell_type": "code",
      "source": [
        "10 in lista"
      ],
      "metadata": {
        "colab": {
          "base_uri": "https://localhost:8080/"
        },
        "id": "JuwOaJuogxd7",
        "outputId": "b318c338-2e3a-49d0-f6f5-822d14da8895"
      },
      "execution_count": 10,
      "outputs": [
        {
          "output_type": "execute_result",
          "data": {
            "text/plain": [
              "False"
            ]
          },
          "metadata": {},
          "execution_count": 10
        }
      ]
    },
    {
      "cell_type": "code",
      "source": [
        "10 not in lista"
      ],
      "metadata": {
        "colab": {
          "base_uri": "https://localhost:8080/"
        },
        "id": "VOP5C4Chg0YP",
        "outputId": "7d45d2b1-1564-4b90-805d-a2ddb864c732"
      },
      "execution_count": 11,
      "outputs": [
        {
          "output_type": "execute_result",
          "data": {
            "text/plain": [
              "True"
            ]
          },
          "metadata": {},
          "execution_count": 11
        }
      ]
    },
    {
      "cell_type": "code",
      "source": [
        "2 not in lista "
      ],
      "metadata": {
        "colab": {
          "base_uri": "https://localhost:8080/"
        },
        "id": "KRQ-3d-ZhBVn",
        "outputId": "3c2324b4-2a54-4a85-c045-f6c0dfc02109"
      },
      "execution_count": 12,
      "outputs": [
        {
          "output_type": "execute_result",
          "data": {
            "text/plain": [
              "False"
            ]
          },
          "metadata": {},
          "execution_count": 12
        }
      ]
    },
    {
      "cell_type": "markdown",
      "source": [
        "**OPERADORES DE IDENTIDADE**\n",
        "\n",
        "Os operadores de identidade são usados para comparar os objetos, não se forem iguais, mas se forem realmente o mesmo objeto, com a mesma localização de memória:\n",
        "\n",
        "1. is (retorna True se ambas as variáveis forem o mesmo objeto)\n",
        "2. is not (retorna True se ambas as variáveis não forem o mesmo objeto)"
      ],
      "metadata": {
        "id": "ejg9PwrnhOU9"
      }
    },
    {
      "cell_type": "code",
      "source": [
        "String_01 = 'Hello World!'\n",
        "String_02 = 'Hello World!'"
      ],
      "metadata": {
        "id": "tlnev_qmhNAr"
      },
      "execution_count": 13,
      "outputs": []
    },
    {
      "cell_type": "code",
      "source": [
        "type(String_01) == type(String_02)"
      ],
      "metadata": {
        "colab": {
          "base_uri": "https://localhost:8080/"
        },
        "id": "PpAwHlt1hNa4",
        "outputId": "99d245f1-a311-480d-d5e2-2fa2fa12107c"
      },
      "execution_count": 16,
      "outputs": [
        {
          "output_type": "execute_result",
          "data": {
            "text/plain": [
              "True"
            ]
          },
          "metadata": {},
          "execution_count": 16
        }
      ]
    },
    {
      "cell_type": "code",
      "source": [
        "type(String_01) is type(String_02)"
      ],
      "metadata": {
        "colab": {
          "base_uri": "https://localhost:8080/"
        },
        "id": "LHkIDVbv51Wi",
        "outputId": "7986bb4c-d3ff-4ce6-94ab-e59ac7902cd4"
      },
      "execution_count": 17,
      "outputs": [
        {
          "output_type": "execute_result",
          "data": {
            "text/plain": [
              "True"
            ]
          },
          "metadata": {},
          "execution_count": 17
        }
      ]
    },
    {
      "cell_type": "code",
      "source": [
        "type(String_01) is not type(String_02)"
      ],
      "metadata": {
        "colab": {
          "base_uri": "https://localhost:8080/"
        },
        "id": "tlHKpVq1547T",
        "outputId": "78b2b9de-f17c-4d95-ad4f-8c6ff82599e2"
      },
      "execution_count": 18,
      "outputs": [
        {
          "output_type": "execute_result",
          "data": {
            "text/plain": [
              "False"
            ]
          },
          "metadata": {},
          "execution_count": 18
        }
      ]
    },
    {
      "cell_type": "markdown",
      "source": [
        "**OPERADORES DE ASSOCIAÇÃO**\n",
        "\n",
        "Os operadores de associação são usados para testar se uma sequência é apresentada em um objeto:\n",
        "\n",
        "1. in (retorna True se uma sequência com o valor especificado estiver presente no objeto)\n",
        "2. not in (retorna True se uma sequência com o valor especificado não estiver presente no objeto)"
      ],
      "metadata": {
        "id": "QZPSQwux6Kui"
      }
    },
    {
      "cell_type": "code",
      "source": [
        "Ações = ['Magalu', 'Via Varejo', 'Carrefour']"
      ],
      "metadata": {
        "id": "1z-W3Qqq9eeG"
      },
      "execution_count": 3,
      "outputs": []
    },
    {
      "cell_type": "code",
      "source": [
        "'Via Varejo' in Ações"
      ],
      "metadata": {
        "colab": {
          "base_uri": "https://localhost:8080/"
        },
        "id": "S2GxJ74uXVuk",
        "outputId": "57f93bee-7e0d-4031-8cde-dbb10d3b5122"
      },
      "execution_count": 4,
      "outputs": [
        {
          "output_type": "execute_result",
          "data": {
            "text/plain": [
              "True"
            ]
          },
          "metadata": {},
          "execution_count": 4
        }
      ]
    },
    {
      "cell_type": "code",
      "source": [
        "'OIBR3' not in Ações"
      ],
      "metadata": {
        "colab": {
          "base_uri": "https://localhost:8080/"
        },
        "id": "npFgOzKy6f-R",
        "outputId": "8ba2c0d5-36ad-4110-c3e7-fee6984581b5"
      },
      "execution_count": 5,
      "outputs": [
        {
          "output_type": "execute_result",
          "data": {
            "text/plain": [
              "True"
            ]
          },
          "metadata": {},
          "execution_count": 5
        }
      ]
    },
    {
      "cell_type": "markdown",
      "source": [
        "**MANIPULANDO LISTAS**\n",
        "\n",
        "As listas são usadas para armazenar vários itens em uma única variável.\n",
        "\n",
        "As listas são um dos 4 tipos de dados internos do Python usados para armazenar coleções de dados, os outros 3 são Tuple, Set e Dictionary. Todos com qualidades e usos diferentes.\n",
        "\n",
        "Comandos mais utilizados: \n",
        "\n",
        "1. append() - Para adicionar um item ao final da lista\n",
        "2. len() - Calcular o tamanho da lista\n",
        "3. [] - Acessar posições\n",
        "4.del() - Excluir um elemento\n",
        "5.clear() - Limpar a lista\n",
        "6.insert() - Para inserir um item de lista em um índice especificado\n",
        "7.extend() - Anexar elementos de outra lista à lista atual\n",
        "8.remove() - Remove um elemento especificado\n",
        "9.pop() - Remove o índice especificado\n",
        "10.sort() - Ordenar os valores\n",
        "11.copy() - Faz uma cópia da lista\n",
        "12.index() - Retorna o index do elemento da lista"
      ],
      "metadata": {
        "id": "H8ICIIGKBawh"
      }
    },
    {
      "cell_type": "code",
      "source": [
        "Vazia = []\n",
        "\n",
        "print(Vazia)"
      ],
      "metadata": {
        "colab": {
          "base_uri": "https://localhost:8080/"
        },
        "id": "miZubs12CyRW",
        "outputId": "451ebb6b-2a62-45d9-87de-c53709da98c0"
      },
      "execution_count": 6,
      "outputs": [
        {
          "output_type": "stream",
          "name": "stdout",
          "text": [
            "[]\n"
          ]
        }
      ]
    },
    {
      "cell_type": "code",
      "source": [
        "Vazia.append(1)\n",
        "Vazia.append(2)\n",
        "Vazia.append(3)\n",
        "Vazia.append('Valor')\n",
        "\n",
        "print(Vazia)"
      ],
      "metadata": {
        "colab": {
          "base_uri": "https://localhost:8080/"
        },
        "id": "xTIfaHrqB2j_",
        "outputId": "f4e0de72-7d2e-41fd-e457-442412f3af55"
      },
      "execution_count": 15,
      "outputs": [
        {
          "output_type": "stream",
          "name": "stdout",
          "text": [
            "[1, 2, 3, 'Valor']\n"
          ]
        }
      ]
    },
    {
      "cell_type": "code",
      "source": [
        "len(Vazia)"
      ],
      "metadata": {
        "colab": {
          "base_uri": "https://localhost:8080/"
        },
        "id": "KFVhD8CNERT2",
        "outputId": "4a3ffca4-438b-4987-fe00-ce33c5ff0bfe"
      },
      "execution_count": 9,
      "outputs": [
        {
          "output_type": "execute_result",
          "data": {
            "text/plain": [
              "4"
            ]
          },
          "metadata": {},
          "execution_count": 9
        }
      ]
    },
    {
      "cell_type": "code",
      "source": [
        "Vazia[3]"
      ],
      "metadata": {
        "colab": {
          "base_uri": "https://localhost:8080/",
          "height": 35
        },
        "id": "4WWrPSikEWeU",
        "outputId": "a2321cdc-a909-4548-b3af-af665ab540e4"
      },
      "execution_count": 11,
      "outputs": [
        {
          "output_type": "execute_result",
          "data": {
            "text/plain": [
              "'Valor'"
            ],
            "application/vnd.google.colaboratory.intrinsic+json": {
              "type": "string"
            }
          },
          "metadata": {},
          "execution_count": 11
        }
      ]
    },
    {
      "cell_type": "code",
      "source": [
        "Vazia[-1]"
      ],
      "metadata": {
        "colab": {
          "base_uri": "https://localhost:8080/",
          "height": 35
        },
        "id": "HE1qL44_FGXA",
        "outputId": "3f2dbc2e-034f-4f31-f804-fac64072fd40"
      },
      "execution_count": 12,
      "outputs": [
        {
          "output_type": "execute_result",
          "data": {
            "text/plain": [
              "'Valor'"
            ],
            "application/vnd.google.colaboratory.intrinsic+json": {
              "type": "string"
            }
          },
          "metadata": {},
          "execution_count": 12
        }
      ]
    },
    {
      "cell_type": "code",
      "source": [
        "Vazia[0:2]"
      ],
      "metadata": {
        "colab": {
          "base_uri": "https://localhost:8080/"
        },
        "id": "2axrz373FG5R",
        "outputId": "96171c67-8a38-4086-f342-88a206364cf2"
      },
      "execution_count": 13,
      "outputs": [
        {
          "output_type": "execute_result",
          "data": {
            "text/plain": [
              "[1, 2]"
            ]
          },
          "metadata": {},
          "execution_count": 13
        }
      ]
    },
    {
      "cell_type": "code",
      "source": [
        "Vazia.clear()\n",
        "\n",
        "print(Vazia)"
      ],
      "metadata": {
        "colab": {
          "base_uri": "https://localhost:8080/"
        },
        "id": "Yp7PUcZ8FHB6",
        "outputId": "9108016c-3b0b-474c-fa1d-6c9bc61822c3"
      },
      "execution_count": 14,
      "outputs": [
        {
          "output_type": "stream",
          "name": "stdout",
          "text": [
            "[]\n"
          ]
        }
      ]
    },
    {
      "cell_type": "code",
      "source": [
        "Vazia.insert(0, 0)\n",
        "Vazia.insert(2, 1.5)\n",
        "\n",
        "print(Vazia)"
      ],
      "metadata": {
        "colab": {
          "base_uri": "https://localhost:8080/"
        },
        "id": "LgWTkCNaFzq3",
        "outputId": "79115a44-38d8-4849-b0c9-70de63529af0"
      },
      "execution_count": 17,
      "outputs": [
        {
          "output_type": "stream",
          "name": "stdout",
          "text": [
            "[0, 0, 1.5, 1, 2, 3, 'Valor']\n"
          ]
        }
      ]
    },
    {
      "cell_type": "code",
      "source": [
        "Vazia.remove(0)"
      ],
      "metadata": {
        "id": "W5g3vHzeFzt1"
      },
      "execution_count": 19,
      "outputs": []
    },
    {
      "cell_type": "code",
      "source": [
        "print(Vazia)"
      ],
      "metadata": {
        "colab": {
          "base_uri": "https://localhost:8080/"
        },
        "id": "M-yh9Bq1Fzwd",
        "outputId": "2ca12295-cab9-49ee-c92d-7211c2c67a5d"
      },
      "execution_count": 20,
      "outputs": [
        {
          "output_type": "stream",
          "name": "stdout",
          "text": [
            "[0, 1.5, 1, 2, 3, 'Valor']\n"
          ]
        }
      ]
    },
    {
      "cell_type": "code",
      "source": [
        "Lista_01 = [1, 2, 3]\n",
        "Lista_02 = [4, 5, 6]\n",
        "\n",
        "Lista_01.extend(Lista_02)\n",
        "\n",
        "print(Lista_01)"
      ],
      "metadata": {
        "colab": {
          "base_uri": "https://localhost:8080/"
        },
        "id": "k0a7_9S7Fzy9",
        "outputId": "36a9cf2d-cc44-491d-a026-a82d814100b1"
      },
      "execution_count": 21,
      "outputs": [
        {
          "output_type": "stream",
          "name": "stdout",
          "text": [
            "[1, 2, 3, 4, 5, 6]\n"
          ]
        }
      ]
    },
    {
      "cell_type": "code",
      "source": [
        "Lista_01.pop(0)  # o pop() remove pelo índice, diferente do remove() que remove pelo valor\n",
        "\n",
        "print(Lista_01)"
      ],
      "metadata": {
        "colab": {
          "base_uri": "https://localhost:8080/"
        },
        "id": "ewDe6LxbFHOF",
        "outputId": "2e8d0830-7b37-4607-c5b2-b83ee06bd322"
      },
      "execution_count": 22,
      "outputs": [
        {
          "output_type": "stream",
          "name": "stdout",
          "text": [
            "[2, 3, 4, 5, 6]\n"
          ]
        }
      ]
    },
    {
      "cell_type": "code",
      "source": [
        "ABC = ['z', 'c', 'f', 'H', 'A']\n",
        "\n",
        "ABC.sort()\n",
        "print(ABC)"
      ],
      "metadata": {
        "colab": {
          "base_uri": "https://localhost:8080/"
        },
        "id": "kqr1QpUiIg_R",
        "outputId": "43f464ac-2202-490a-f1b7-08fda67920d2"
      },
      "execution_count": 24,
      "outputs": [
        {
          "output_type": "stream",
          "name": "stdout",
          "text": [
            "['A', 'H', 'c', 'f', 'z']\n"
          ]
        }
      ]
    },
    {
      "cell_type": "code",
      "source": [
        "ABC.sort(reverse = True)\n",
        "print(ABC)"
      ],
      "metadata": {
        "colab": {
          "base_uri": "https://localhost:8080/"
        },
        "id": "Grm0L0VkIhF4",
        "outputId": "4c7317e6-5058-437f-c4c9-2d29d9855eb3"
      },
      "execution_count": 25,
      "outputs": [
        {
          "output_type": "stream",
          "name": "stdout",
          "text": [
            "['z', 'f', 'c', 'H', 'A']\n"
          ]
        }
      ]
    },
    {
      "cell_type": "code",
      "source": [
        "NOVA_ABC = ABC.copy()\n",
        "print(NOVA_ABC)"
      ],
      "metadata": {
        "colab": {
          "base_uri": "https://localhost:8080/"
        },
        "id": "dPFx4FoBIhLr",
        "outputId": "3610e637-09a5-44b6-f95d-0f228d712e0f"
      },
      "execution_count": 26,
      "outputs": [
        {
          "output_type": "stream",
          "name": "stdout",
          "text": [
            "['z', 'f', 'c', 'H', 'A']\n"
          ]
        }
      ]
    },
    {
      "cell_type": "code",
      "source": [
        "NOVA_ABC.index('H')"
      ],
      "metadata": {
        "colab": {
          "base_uri": "https://localhost:8080/"
        },
        "id": "5CllOfEnIhQH",
        "outputId": "15c389e5-a888-4495-de48-de27a5033f29"
      },
      "execution_count": 27,
      "outputs": [
        {
          "output_type": "execute_result",
          "data": {
            "text/plain": [
              "3"
            ]
          },
          "metadata": {},
          "execution_count": 27
        }
      ]
    }
  ]
}