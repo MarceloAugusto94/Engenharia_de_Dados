{
  "nbformat": 4,
  "nbformat_minor": 0,
  "metadata": {
    "colab": {
      "name": "01- Programação Python.ipynb",
      "provenance": [],
      "authorship_tag": "ABX9TyP8j2FeWlW+l3efZOL7qBqK"
    },
    "kernelspec": {
      "name": "python3",
      "display_name": "Python 3"
    },
    "language_info": {
      "name": "python"
    }
  },
  "cells": [
    {
      "cell_type": "code",
      "execution_count": null,
      "metadata": {
        "colab": {
          "base_uri": "https://localhost:8080/"
        },
        "id": "-d9BGJxqxVWA",
        "outputId": "1fd88f5f-e07b-496d-9a80-e98e496f4985"
      },
      "outputs": [
        {
          "output_type": "stream",
          "name": "stdout",
          "text": [
            "Hello World!\n"
          ]
        }
      ],
      "source": [
        "print('Hello World!')"
      ]
    },
    {
      "cell_type": "code",
      "source": [
        "print('Bem-vindo ao curso de Python!')"
      ],
      "metadata": {
        "colab": {
          "base_uri": "https://localhost:8080/"
        },
        "id": "jHoak8b4xgMk",
        "outputId": "661eeda2-a2e4-4acf-8ae3-470c06ea0400"
      },
      "execution_count": null,
      "outputs": [
        {
          "output_type": "stream",
          "name": "stdout",
          "text": [
            "Bem-vindo ao curso de Python!\n"
          ]
        }
      ]
    },
    {
      "cell_type": "code",
      "source": [
        "# Comentário"
      ],
      "metadata": {
        "id": "_tTSA_evxikV"
      },
      "execution_count": null,
      "outputs": []
    },
    {
      "cell_type": "code",
      "source": [
        "'''\n",
        "  Comentário!!!\n",
        "  Posso escrever qualquer coisa!\n",
        "'''"
      ],
      "metadata": {
        "colab": {
          "base_uri": "https://localhost:8080/",
          "height": 35
        },
        "id": "B5z-5xkSxnr5",
        "outputId": "d42861eb-8841-4acc-bb54-dd7ed06daa17"
      },
      "execution_count": null,
      "outputs": [
        {
          "output_type": "execute_result",
          "data": {
            "text/plain": [
              "'\\n  Comentário!!!\\n  Posso escrever qualquer coisa!\\n'"
            ],
            "application/vnd.google.colaboratory.intrinsic+json": {
              "type": "string"
            }
          },
          "metadata": {},
          "execution_count": 6
        }
      ]
    },
    {
      "cell_type": "code",
      "source": [
        "print('Hello World!  \\nskipped a line')"
      ],
      "metadata": {
        "colab": {
          "base_uri": "https://localhost:8080/"
        },
        "id": "G0w4sM7fx_Sx",
        "outputId": "b9d55df5-f244-4b8d-ac03-9da29b7f25cb"
      },
      "execution_count": null,
      "outputs": [
        {
          "output_type": "stream",
          "name": "stdout",
          "text": [
            "Hello World!  \n",
            "skipped a line\n"
          ]
        }
      ]
    },
    {
      "cell_type": "markdown",
      "source": [
        "**OPERADORES MATEMÁTICOS**"
      ],
      "metadata": {
        "id": "p5Ie4Ob4yr07"
      }
    },
    {
      "cell_type": "code",
      "source": [
        "# Adição\n",
        "\n",
        "1 + 3 + 4"
      ],
      "metadata": {
        "colab": {
          "base_uri": "https://localhost:8080/"
        },
        "id": "WMeNKTwcy0fk",
        "outputId": "d6292fe8-9c5b-45e2-fee4-cfbc6e30590c"
      },
      "execution_count": null,
      "outputs": [
        {
          "output_type": "execute_result",
          "data": {
            "text/plain": [
              "8"
            ]
          },
          "metadata": {},
          "execution_count": 12
        }
      ]
    },
    {
      "cell_type": "code",
      "source": [
        "# Subtração\n",
        "\n",
        "4 - 4"
      ],
      "metadata": {
        "colab": {
          "base_uri": "https://localhost:8080/"
        },
        "id": "DVS02iAfy935",
        "outputId": "9843ea48-c555-4438-b1d1-a0b46f279f6b"
      },
      "execution_count": null,
      "outputs": [
        {
          "output_type": "execute_result",
          "data": {
            "text/plain": [
              "0"
            ]
          },
          "metadata": {},
          "execution_count": 10
        }
      ]
    },
    {
      "cell_type": "code",
      "source": [
        "# Multiplicação\n",
        "\n",
        "4 * 4"
      ],
      "metadata": {
        "colab": {
          "base_uri": "https://localhost:8080/"
        },
        "id": "Jd8Jo93OzC8V",
        "outputId": "a18de544-aeb8-4ccc-f269-6b5e6daf0e32"
      },
      "execution_count": null,
      "outputs": [
        {
          "output_type": "execute_result",
          "data": {
            "text/plain": [
              "16"
            ]
          },
          "metadata": {},
          "execution_count": 11
        }
      ]
    },
    {
      "cell_type": "code",
      "source": [
        "# Divisão\n",
        "\n",
        "4 / 4"
      ],
      "metadata": {
        "colab": {
          "base_uri": "https://localhost:8080/"
        },
        "id": "lmtAyPvWzO61",
        "outputId": "d62b08e8-ab28-44d9-de38-62fbc9ab5afd"
      },
      "execution_count": null,
      "outputs": [
        {
          "output_type": "execute_result",
          "data": {
            "text/plain": [
              "1.0"
            ]
          },
          "metadata": {},
          "execution_count": 13
        }
      ]
    },
    {
      "cell_type": "code",
      "source": [
        "# Exponenciação\n",
        "\n",
        "2 ** 2"
      ],
      "metadata": {
        "colab": {
          "base_uri": "https://localhost:8080/"
        },
        "id": "pfyouY4MzTMF",
        "outputId": "64e4df78-1383-4118-d236-9c6956d80c77"
      },
      "execution_count": null,
      "outputs": [
        {
          "output_type": "execute_result",
          "data": {
            "text/plain": [
              "4"
            ]
          },
          "metadata": {},
          "execution_count": 14
        }
      ]
    },
    {
      "cell_type": "code",
      "source": [
        "# Resto da divisão\n",
        "\n",
        "3 % 4"
      ],
      "metadata": {
        "colab": {
          "base_uri": "https://localhost:8080/"
        },
        "id": "NkBSsVW2zfPo",
        "outputId": "4450248b-111f-4b33-903a-b3da729cbc37"
      },
      "execution_count": null,
      "outputs": [
        {
          "output_type": "execute_result",
          "data": {
            "text/plain": [
              "3"
            ]
          },
          "metadata": {},
          "execution_count": 16
        }
      ]
    },
    {
      "cell_type": "code",
      "source": [
        "# Divisão de chão\n",
        "\n",
        "3 // 4"
      ],
      "metadata": {
        "colab": {
          "base_uri": "https://localhost:8080/"
        },
        "id": "mJZ0kzeX0FGQ",
        "outputId": "f6767fb4-ec30-40ec-faa5-e781a04ea636"
      },
      "execution_count": null,
      "outputs": [
        {
          "output_type": "execute_result",
          "data": {
            "text/plain": [
              "0"
            ]
          },
          "metadata": {},
          "execution_count": 17
        }
      ]
    },
    {
      "cell_type": "code",
      "source": [
        "# Priorização = usar parênteses\n",
        "\n",
        "(2 + 2) * 5"
      ],
      "metadata": {
        "colab": {
          "base_uri": "https://localhost:8080/"
        },
        "id": "y2G3T6940Tss",
        "outputId": "dd411b1b-64a6-4e09-e313-75867e4340cb"
      },
      "execution_count": null,
      "outputs": [
        {
          "output_type": "execute_result",
          "data": {
            "text/plain": [
              "20"
            ]
          },
          "metadata": {},
          "execution_count": 19
        }
      ]
    },
    {
      "cell_type": "markdown",
      "source": [
        "**VARIÁVEIS**"
      ],
      "metadata": {
        "id": "fDSrHVal07KA"
      }
    },
    {
      "cell_type": "code",
      "source": [
        "nome = 'Marcelo Augusto Viana Henrique'"
      ],
      "metadata": {
        "id": "xVx0xwbh0_EB"
      },
      "execution_count": null,
      "outputs": []
    },
    {
      "cell_type": "code",
      "source": [
        "print(nome)"
      ],
      "metadata": {
        "colab": {
          "base_uri": "https://localhost:8080/"
        },
        "id": "ptz1bN3m1Igb",
        "outputId": "db76cb69-ebf5-4a05-fd26-82e70a2a723c"
      },
      "execution_count": null,
      "outputs": [
        {
          "output_type": "stream",
          "name": "stdout",
          "text": [
            "Marcelo Augusto Viana Henrique\n"
          ]
        }
      ]
    },
    {
      "cell_type": "code",
      "source": [
        "# Variáveis de texto\n",
        "\n",
        "var_texto  = 'Qualquer coisa'\n",
        "var_texto_2 = str('Qualquer coisa')\n",
        "\n",
        "print(var_texto)\n",
        "print(var_texto_2)\n",
        "print(var_texto, var_texto_2)"
      ],
      "metadata": {
        "colab": {
          "base_uri": "https://localhost:8080/"
        },
        "id": "XZi4fOh9KzMe",
        "outputId": "8c948fcd-cfcb-491d-d307-445b554d5d0d"
      },
      "execution_count": null,
      "outputs": [
        {
          "output_type": "stream",
          "name": "stdout",
          "text": [
            "Qualquer coisa\n",
            "Qualquer coisa\n",
            "Qualquer coisa Qualquer coisa\n"
          ]
        }
      ]
    },
    {
      "cell_type": "code",
      "source": [
        "# Variáveis numéricas\n",
        "\n",
        "var_inteiro = 100\n",
        "var_inteiro_02 = int(100)\n",
        "\n",
        "print(var_inteiro)\n",
        "print(var_inteiro_02)\n",
        "print(var_inteiro, var_inteiro_02)"
      ],
      "metadata": {
        "colab": {
          "base_uri": "https://localhost:8080/"
        },
        "id": "4KihWLD_Lmle",
        "outputId": "2983f4c3-1760-4de1-de9c-63e77c9ecb89"
      },
      "execution_count": null,
      "outputs": [
        {
          "output_type": "stream",
          "name": "stdout",
          "text": [
            "100\n",
            "100\n",
            "100 100\n"
          ]
        }
      ]
    },
    {
      "cell_type": "code",
      "source": [
        "# Variáveis flutuantes\n",
        "\n",
        "var_flutuante = 10.90\n",
        "var_flutuante_2 = float(10.90)\n",
        "\n",
        "print(var_flutuante)\n",
        "print(var_flutuante_2)\n",
        "print(var_flutuante, var_flutuante_2)"
      ],
      "metadata": {
        "colab": {
          "base_uri": "https://localhost:8080/"
        },
        "id": "S9JiCC4fL8eW",
        "outputId": "a043e5cb-90c0-4b1c-a7ef-5ba4de810548"
      },
      "execution_count": null,
      "outputs": [
        {
          "output_type": "stream",
          "name": "stdout",
          "text": [
            "10.9\n",
            "10.9\n",
            "10.9 10.9\n"
          ]
        }
      ]
    },
    {
      "cell_type": "code",
      "source": [
        "# Variáveis booleanas\n",
        "\n",
        "var_booleana = True\n",
        "var_booleana_2 = False\n",
        "\n",
        "print(var_booleana)\n",
        "print(var_booleana_2)\n",
        "print(var_booleana, var_booleana_2)"
      ],
      "metadata": {
        "colab": {
          "base_uri": "https://localhost:8080/"
        },
        "id": "7DvlQs21MTQV",
        "outputId": "b00db9d1-1330-4387-f60f-1cef2e889824"
      },
      "execution_count": null,
      "outputs": [
        {
          "output_type": "stream",
          "name": "stdout",
          "text": [
            "True\n",
            "False\n",
            "True False\n"
          ]
        }
      ]
    },
    {
      "cell_type": "markdown",
      "source": [
        "**TIPOS DE DADOS**\n",
        "\n",
        "1. Listas - São criadas usando [] (**chaves**)\n",
        "2. Tuplas - São criadas usando () (**parenteses**)\n",
        "3. Dicionários - São criados usando {} (**Colchete**)\n",
        "\n",
        "Esses tipos de dados podem receber qualquer tipo de informação, inclusive Operações Aritméticas."
      ],
      "metadata": {
        "id": "RFm_3G6yv2RZ"
      }
    },
    {
      "cell_type": "code",
      "source": [
        "# Listas\n",
        "exemplo_01 = [1, 2, 3, 4, 5, 6, 7, 8]\n",
        "exemplo_02 = [\"Nome\", \"Sobrenome\", \"Idade\", 4, 5]\n",
        "exemplo_03 = [1, \"Texto\", True, [1, 2, 3]]\n",
        "\n",
        "print(exemplo_01) \n",
        "print(exemplo_02)\n",
        "print(exemplo_03)"
      ],
      "metadata": {
        "id": "u7ZluNvPv6s1",
        "colab": {
          "base_uri": "https://localhost:8080/"
        },
        "outputId": "b5fcd054-7822-4a3f-ce1a-f410a92dcb20"
      },
      "execution_count": null,
      "outputs": [
        {
          "output_type": "stream",
          "name": "stdout",
          "text": [
            "[1, 2, 3, 4, 5, 6, 7, 8]\n",
            "['Nome', 'Sobrenome', 'Idade', 4, 5]\n",
            "[1, 'Texto', True, [1, 2, 3]]\n"
          ]
        }
      ]
    },
    {
      "cell_type": "code",
      "source": [
        "# Tuplas (São IMUTÁVEIS)\n",
        "exemplo_01 = (1, 2, 3, 4, 5)\n",
        "exemplo_02 = (\"Texto\", True, 2, 2.90)\n",
        "\n",
        "print(exemplo_01)\n",
        "print(exemplo_02)"
      ],
      "metadata": {
        "colab": {
          "base_uri": "https://localhost:8080/"
        },
        "id": "rNojDVEW63DT",
        "outputId": "1beb79ad-c431-4dd9-ea21-73de7bfea4b7"
      },
      "execution_count": null,
      "outputs": [
        {
          "output_type": "stream",
          "name": "stdout",
          "text": [
            "(1, 2, 3, 4, 5)\n",
            "('Texto', True, 2, 2.9)\n"
          ]
        }
      ]
    },
    {
      "cell_type": "code",
      "source": [
        "# Dicionários (Chave + Valor)\n",
        "exemplo_01 = {\n",
        "    'index': 'valor',\n",
        "    'id': 1,\n",
        "    'nome': 'Marcelo',\n",
        "    'lista': exemplo_03,\n",
        "    'tupla': exemplo_02\n",
        "}\n",
        "\n",
        "print(exemplo_01)"
      ],
      "metadata": {
        "colab": {
          "base_uri": "https://localhost:8080/"
        },
        "id": "DE1HeFkq82PV",
        "outputId": "1aaf0427-9791-4c30-b364-1135ad7100bd"
      },
      "execution_count": null,
      "outputs": [
        {
          "output_type": "stream",
          "name": "stdout",
          "text": [
            "{'index': 'valor', 'id': 1, 'nome': 'Marcelo', 'lista': [1, 'Texto', True, [1, 2, 3]], 'tupla': ('Texto', True, 2, 2.9)}\n"
          ]
        }
      ]
    },
    {
      "cell_type": "markdown",
      "source": [
        "**NOMEAÇÃO DE VARIÁVEIS**\n",
        "\n",
        "Podemos nomear variáveis e tipos de dados de diversas formas:\n",
        "\n",
        "1. Declarar as variáveis em uma única linha de comando;\n",
        "2. Atribuir um valor à diversas variáveis;\n",
        "3. Declarar usando uma lista;\n",
        "4. Combinar variáveis;\n",
        "5. Operar com operadores matemáticos;\n",
        "6. Muitos outros."
      ],
      "metadata": {
        "id": "iLP3y2RYSE6q"
      }
    },
    {
      "cell_type": "code",
      "source": [
        "# Nomeando\n",
        "\n",
        "laranja, melao, limao = 1, 2, 3\n",
        "\n",
        "print(laranja, melao, limao)"
      ],
      "metadata": {
        "colab": {
          "base_uri": "https://localhost:8080/"
        },
        "id": "tXIxFZo0SCt_",
        "outputId": "cd9cbefc-d550-49cc-f925-7e1068469274"
      },
      "execution_count": null,
      "outputs": [
        {
          "output_type": "stream",
          "name": "stdout",
          "text": [
            "1 2 3\n"
          ]
        }
      ]
    },
    {
      "cell_type": "code",
      "source": [
        "# Nomeando\n",
        "\n",
        "morango = uva = kiwi = 100\n",
        "\n",
        "print(morango, uva, kiwi)\n",
        "print(morango)"
      ],
      "metadata": {
        "colab": {
          "base_uri": "https://localhost:8080/"
        },
        "id": "BHZBztj8oOqL",
        "outputId": "cfdfed15-bcb7-4cf3-f49d-340e31b6e7a1"
      },
      "execution_count": null,
      "outputs": [
        {
          "output_type": "stream",
          "name": "stdout",
          "text": [
            "100 100 100\n",
            "100\n"
          ]
        }
      ]
    },
    {
      "cell_type": "code",
      "source": [
        "# Nomear com Listas\n",
        "\n",
        "lista_carros = ['VW', 'Audi', 'Tesla']\n",
        "\n",
        "marca_01, marca_02, marca_03 = lista_carros\n",
        "\n",
        "print(marca_01, marca_02, marca_03)\n",
        "print(marca_01)"
      ],
      "metadata": {
        "colab": {
          "base_uri": "https://localhost:8080/"
        },
        "id": "gLGh-P4AoxU2",
        "outputId": "4571ea05-b42b-4a57-c11a-e068deb82ca4"
      },
      "execution_count": null,
      "outputs": [
        {
          "output_type": "stream",
          "name": "stdout",
          "text": [
            "VW Audi Tesla\n",
            "VW\n"
          ]
        }
      ]
    },
    {
      "cell_type": "code",
      "source": [
        "# Combinar variáveis\n",
        "\n",
        "nome = 'Marcelo'\n",
        "sobrenome = 'Augusto'\n",
        "\n",
        "nome_completo = nome + ' ' + sobrenome\n",
        "\n",
        "print(nome_completo)"
      ],
      "metadata": {
        "colab": {
          "base_uri": "https://localhost:8080/"
        },
        "id": "AgJEoBeQpQnd",
        "outputId": "c73e9d66-d180-481f-85f8-a45066f076b0"
      },
      "execution_count": null,
      "outputs": [
        {
          "output_type": "stream",
          "name": "stdout",
          "text": [
            "Marcelo Augusto\n"
          ]
        }
      ]
    },
    {
      "cell_type": "code",
      "source": [
        "# TypeError: can only concatenate str (not \"int\") to str\n",
        "\n",
        "nome = 'Marcelo'\n",
        "idade = 28\n",
        "\n",
        "print(nome + '-' + idade)"
      ],
      "metadata": {
        "colab": {
          "base_uri": "https://localhost:8080/",
          "height": 199
        },
        "id": "cRogmZNwp_MS",
        "outputId": "00ef6ecd-2053-43f3-98dc-74f69975793b"
      },
      "execution_count": null,
      "outputs": [
        {
          "output_type": "error",
          "ename": "TypeError",
          "evalue": "ignored",
          "traceback": [
            "\u001b[0;31m---------------------------------------------------------------------------\u001b[0m",
            "\u001b[0;31mTypeError\u001b[0m                                 Traceback (most recent call last)",
            "\u001b[0;32m<ipython-input-9-777e48265422>\u001b[0m in \u001b[0;36m<module>\u001b[0;34m()\u001b[0m\n\u001b[1;32m      2\u001b[0m \u001b[0midade\u001b[0m \u001b[0;34m=\u001b[0m \u001b[0;36m28\u001b[0m\u001b[0;34m\u001b[0m\u001b[0;34m\u001b[0m\u001b[0m\n\u001b[1;32m      3\u001b[0m \u001b[0;34m\u001b[0m\u001b[0m\n\u001b[0;32m----> 4\u001b[0;31m \u001b[0mprint\u001b[0m\u001b[0;34m(\u001b[0m\u001b[0mnome\u001b[0m \u001b[0;34m+\u001b[0m \u001b[0;34m'-'\u001b[0m \u001b[0;34m+\u001b[0m \u001b[0midade\u001b[0m\u001b[0;34m)\u001b[0m\u001b[0;34m\u001b[0m\u001b[0;34m\u001b[0m\u001b[0m\n\u001b[0m",
            "\u001b[0;31mTypeError\u001b[0m: can only concatenate str (not \"int\") to str"
          ]
        }
      ]
    },
    {
      "cell_type": "code",
      "source": [
        "# Forma correta de executar a aglutinação acima\n",
        "\n",
        "nome = 'Marcelo'\n",
        "idade = 28\n",
        "\n",
        "print(nome + ' ' + str(idade) + ' anos')"
      ],
      "metadata": {
        "colab": {
          "base_uri": "https://localhost:8080/"
        },
        "id": "Cp89HbT5qR6R",
        "outputId": "c7ed0944-a237-4754-b739-09db187937a8"
      },
      "execution_count": null,
      "outputs": [
        {
          "output_type": "stream",
          "name": "stdout",
          "text": [
            "Marcelo 28 anos\n"
          ]
        }
      ]
    },
    {
      "cell_type": "code",
      "source": [
        "# Exemplo\n",
        "# Forma INCORRETA de executar o cálculo matemático, pois repetirá o '0.20' MIL vezes\n",
        "\n",
        "investimento = 1000\n",
        "taxa_juros = '0.2'\n",
        "\n",
        "print(investimento * taxa_juros)"
      ],
      "metadata": {
        "colab": {
          "base_uri": "https://localhost:8080/"
        },
        "id": "GG2JLBYRqbnq",
        "outputId": "bcf7c6ba-8cc4-4e9c-f271-8bf5a62fdebf"
      },
      "execution_count": null,
      "outputs": [
        {
          "output_type": "stream",
          "name": "stdout",
          "text": [
            "0.20.20.20.20.20.20.20.20.20.20.20.20.20.20.20.20.20.20.20.20.20.20.20.20.20.20.20.20.20.20.20.20.20.20.20.20.20.20.20.20.20.20.20.20.20.20.20.20.20.20.20.20.20.20.20.20.20.20.20.20.20.20.20.20.20.20.20.20.20.20.20.20.20.20.20.20.20.20.20.20.20.20.20.20.20.20.20.20.20.20.20.20.20.20.20.20.20.20.20.20.20.20.20.20.20.20.20.20.20.20.20.20.20.20.20.20.20.20.20.20.20.20.20.20.20.20.20.20.20.20.20.20.20.20.20.20.20.20.20.20.20.20.20.20.20.20.20.20.20.20.20.20.20.20.20.20.20.20.20.20.20.20.20.20.20.20.20.20.20.20.20.20.20.20.20.20.20.20.20.20.20.20.20.20.20.20.20.20.20.20.20.20.20.20.20.20.20.20.20.20.20.20.20.20.20.20.20.20.20.20.20.20.20.20.20.20.20.20.20.20.20.20.20.20.20.20.20.20.20.20.20.20.20.20.20.20.20.20.20.20.20.20.20.20.20.20.20.20.20.20.20.20.20.20.20.20.20.20.20.20.20.20.20.20.20.20.20.20.20.20.20.20.20.20.20.20.20.20.20.20.20.20.20.20.20.20.20.20.20.20.20.20.20.20.20.20.20.20.20.20.20.20.20.20.20.20.20.20.20.20.20.20.20.20.20.20.20.20.20.20.20.20.20.20.20.20.20.20.20.20.20.20.20.20.20.20.20.20.20.20.20.20.20.20.20.20.20.20.20.20.20.20.20.20.20.20.20.20.20.20.20.20.20.20.20.20.20.20.20.20.20.20.20.20.20.20.20.20.20.20.20.20.20.20.20.20.20.20.20.20.20.20.20.20.20.20.20.20.20.20.20.20.20.20.20.20.20.20.20.20.20.20.20.20.20.20.20.20.20.20.20.20.20.20.20.20.20.20.20.20.20.20.20.20.20.20.20.20.20.20.20.20.20.20.20.20.20.20.20.20.20.20.20.20.20.20.20.20.20.20.20.20.20.20.20.20.20.20.20.20.20.20.20.20.20.20.20.20.20.20.20.20.20.20.20.20.20.20.20.20.20.20.20.20.20.20.20.20.20.20.20.20.20.20.20.20.20.20.20.20.20.20.20.20.20.20.20.20.20.20.20.20.20.20.20.20.20.20.20.20.20.20.20.20.20.20.20.20.20.20.20.20.20.20.20.20.20.20.20.20.20.20.20.20.20.20.20.20.20.20.20.20.20.20.20.20.20.20.20.20.20.20.20.20.20.20.20.20.20.20.20.20.20.20.20.20.20.20.20.20.20.20.20.20.20.20.20.20.20.20.20.20.20.20.20.20.20.20.20.20.20.20.20.20.20.20.20.20.20.20.20.20.20.20.20.20.20.20.20.20.20.20.20.20.20.20.20.20.20.20.20.20.20.20.20.20.20.20.20.20.20.20.20.20.20.20.20.20.20.20.20.20.20.20.20.20.20.20.20.20.20.20.20.20.20.20.20.20.20.20.20.20.20.20.20.20.20.20.20.20.20.20.20.20.20.20.20.20.20.20.20.20.20.20.20.20.20.20.20.20.20.20.20.20.20.20.20.20.20.20.20.20.20.20.20.20.20.20.20.20.20.20.20.20.20.20.20.20.20.20.20.20.20.20.20.20.20.20.20.20.20.20.20.20.20.20.20.20.20.20.20.20.20.20.20.20.20.20.20.20.20.20.20.20.20.20.20.20.20.20.20.20.20.20.20.20.20.20.20.20.20.20.20.20.20.20.20.20.20.20.20.20.20.20.20.20.20.20.20.20.20.20.20.20.20.20.20.20.20.20.20.20.20.20.20.20.20.20.20.20.20.20.20.20.20.20.20.20.20.20.20.20.20.20.20.20.20.20.20.20.20.20.20.20.20.20.20.20.20.20.20.20.20.20.20.20.20.20.20.20.20.20.20.20.20.20.20.20.20.20.20.20.20.20.20.20.20.20.20.20.20.20.20.20.20.20.20.20.20.20.20.20.20.20.20.20.20.20.20.20.20.20.20.20.20.20.20.20.20.20.20.20.20.20.20.20.20.20.20.20.20.20.20.20.20.20.20.20.20.20.20.20.20.20.20.20.20.20.20.20.20.20.20.20.20.20.20.20.20.20.20.20.20.20.20.20.20.20.20.20.20.20.20.20.20.20.20.20.20.20.20.20.20.20.20.20.20.20.20.20.20.20.20.20.20.20.20.20.20.2\n"
          ]
        }
      ]
    },
    {
      "cell_type": "code",
      "source": [
        "# Formas CORRETAs de executar o cálculo matemático\n",
        "\n",
        "investimento = 1000\n",
        "taxa_juros = float(0.2)\n",
        "\n",
        "print(investimento * taxa_juros)\n",
        "\n",
        "# OU\n",
        "\n",
        "investimento = 1000\n",
        "taxa_juros = 0.2\n",
        "\n",
        "print(investimento * float(taxa_juros))\n",
        "\n",
        "# OU\n",
        "\n",
        "investimento = 1000\n",
        "taxa_juros = 0.2\n",
        "\n",
        "print(investimento * taxa_juros)"
      ],
      "metadata": {
        "colab": {
          "base_uri": "https://localhost:8080/"
        },
        "id": "Uxtic34drumo",
        "outputId": "91c05b51-d224-4d8a-a7ad-243258832023"
      },
      "execution_count": 21,
      "outputs": [
        {
          "output_type": "stream",
          "name": "stdout",
          "text": [
            "200.0\n",
            "200.0\n",
            "200.0\n"
          ]
        }
      ]
    },
    {
      "cell_type": "code",
      "source": [
        "valor_ganhado = (investimento * taxa_juros) + investimento\n",
        "\n",
        "print(valor_ganhado)"
      ],
      "metadata": {
        "colab": {
          "base_uri": "https://localhost:8080/"
        },
        "id": "bem84uNAsSLG",
        "outputId": "7b47eca6-4c05-49b5-cf56-d345047347a5"
      },
      "execution_count": 22,
      "outputs": [
        {
          "output_type": "stream",
          "name": "stdout",
          "text": [
            "1200.0\n"
          ]
        }
      ]
    },
    {
      "cell_type": "markdown",
      "source": [
        "**TIPO DA INFORMAÇÃO**\n",
        "\n",
        "Na programação, o tipo de dados é um conceito importante. Variáveis podem armazenar dados de diferentes tipos e diferentes tipos podem fazer coisas diferentes. O Python tem os seguintes tipos de dados integrados por padrão nestas categorias:\n",
        "\n",
        "1. Text Type: str\n",
        "2. Numeric Types: int, float, complex\n",
        "3. Sequence Types: list, tuple, range\n",
        "4. Mapping Types: dict\n",
        "5. Set Types: set, frozenset\n",
        "6. Boolean Types: bool\n",
        "7. Binary Types: bytes, bytearray, memoryview"
      ],
      "metadata": {
        "id": "8DflSFA5s5OQ"
      }
    },
    {
      "cell_type": "code",
      "source": [
        "String = str('Hello World')\n",
        "Inteiro = int(10)\n",
        "Flutuante = float(100.5)\n",
        "Complex = complex(1j)\n",
        "Lista = list(('Maça', 'Morango'))\n",
        "Tupla = tuple(('A', 'B'))\n",
        "Range = range(6)\n",
        "Dicionario = dict(nome='Marcelo', idade=28)\n",
        "Set = set(('A', 'B', 'C'))\n",
        "Frozenset = frozenset(('A', 'B', 'C'))\n",
        "Boleano = bool(5)\n",
        "Bytes = bytes(5)\n",
        "ByteArray =bytearray(5)\n",
        "MemoryView = memoryview(bytes(5))\n",
        "\n",
        "from datetime import datetime\n",
        "\n",
        "data = datetime.today().date()"
      ],
      "metadata": {
        "id": "-wy7skCvuce6"
      },
      "execution_count": 29,
      "outputs": []
    },
    {
      "cell_type": "markdown",
      "source": [
        "**COMANDO ROUND**\n",
        "\n",
        "Quando trabalhamos com números flutuantes, podemos diminuir o número de casas decimais e arredondar para o valor mais próximo usando um comando nativo do Python.\n",
        "\n",
        "round(valor, número de casas)"
      ],
      "metadata": {
        "id": "4oafbiqjy-SC"
      }
    },
    {
      "cell_type": "code",
      "source": [
        "valor = 12.78994656555\n",
        "\n",
        "print(valor)\n",
        "\n",
        "\n",
        "valor_02 = round(valor, 2)\n",
        "\n",
        "print(valor_02)"
      ],
      "metadata": {
        "colab": {
          "base_uri": "https://localhost:8080/"
        },
        "id": "LcbUnwdSzBoW",
        "outputId": "4976dd09-3253-40aa-941e-42f611a6fdbe"
      },
      "execution_count": 31,
      "outputs": [
        {
          "output_type": "stream",
          "name": "stdout",
          "text": [
            "12.78994656555\n",
            "12.79\n"
          ]
        }
      ]
    },
    {
      "cell_type": "markdown",
      "source": [
        "**COMANDO LEN**\n",
        "\n",
        "A função len() retorna a quantidade de elementos de qualquer lista em Python, essa é mais uma função **built-in** disponível em qualquer parte dos nossos códigos."
      ],
      "metadata": {
        "id": "I4p70OMWPTVl"
      }
    },
    {
      "cell_type": "code",
      "source": [
        "Lista = [1, 2, 3, 4, 5, 6, 7, 8, 9, 10]\n",
        "Dicionario = {'Nome': 'Marcelo', 'Idade': 28} # chave : valor\n",
        "Tupla = (1, 2, 3)\n",
        "String = 'Hello World!'"
      ],
      "metadata": {
        "id": "UzvDFBp0PHXy"
      },
      "execution_count": 1,
      "outputs": []
    },
    {
      "cell_type": "code",
      "source": [
        "print(len(Lista))\n",
        "print(len(Dicionario))\n",
        "print(len(Tupla))\n",
        "print(len(String))"
      ],
      "metadata": {
        "colab": {
          "base_uri": "https://localhost:8080/"
        },
        "id": "IpY0jmciLfUR",
        "outputId": "1c984ee7-3145-4ca2-8ee9-22a98e1c2816"
      },
      "execution_count": 4,
      "outputs": [
        {
          "output_type": "stream",
          "name": "stdout",
          "text": [
            "10\n",
            "2\n",
            "3\n",
            "12\n"
          ]
        }
      ]
    },
    {
      "cell_type": "markdown",
      "source": [
        "**FATIAMENTO DE STRINGS**\n",
        "\n",
        "Strings são listasde bytes representando caracteres.\n",
        "Podemos acessar suas posições usando colchetes..\n",
        "\n",
        "*String[Posição Inicial: Posição Final]*"
      ],
      "metadata": {
        "id": "GmS3SoufMJ7I"
      }
    },
    {
      "cell_type": "code",
      "source": [
        "String = 'Aprender Python é massa demais!'\n",
        "\n",
        "print(type(String))\n",
        "print(len(String))"
      ],
      "metadata": {
        "colab": {
          "base_uri": "https://localhost:8080/"
        },
        "id": "hK9myy27MiGh",
        "outputId": "78bc55d0-55f2-44b9-abb8-a62882809356"
      },
      "execution_count": 7,
      "outputs": [
        {
          "output_type": "stream",
          "name": "stdout",
          "text": [
            "<class 'str'>\n",
            "31\n"
          ]
        }
      ]
    },
    {
      "cell_type": "code",
      "source": [
        "print(String[0:23])\n",
        "\n",
        "print(String[:23])\n",
        "\n",
        "print(String[-1]) # última posição \n",
        "\n",
        "print(String[-22:])"
      ],
      "metadata": {
        "colab": {
          "base_uri": "https://localhost:8080/"
        },
        "id": "LqWaMJhEM30N",
        "outputId": "37d8c633-1b2a-48f1-c766-3e66b69946e5"
      },
      "execution_count": 17,
      "outputs": [
        {
          "output_type": "stream",
          "name": "stdout",
          "text": [
            "Aprender Python é massa\n",
            "Aprender Python é massa\n",
            "!\n",
            "Python é massa demais!\n"
          ]
        }
      ]
    }
  ]
}